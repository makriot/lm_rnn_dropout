{
  "cells": [
    {
      "cell_type": "markdown",
      "metadata": {
        "id": "Pb-VyYfGPnHf"
      },
      "source": [
        "# `Практикум по программированию на языке Python`\n",
        "\n",
        "## `Рекуррентные Нейронные Сети. Dropout. LM`"
      ]
    },
    {
      "cell_type": "markdown",
      "metadata": {
        "id": "3zZjPj2bPnHh"
      },
      "source": [
        "Данное задание будет состоять из двух частей:\n",
        "1. Применение рекуррентной сети для решения задачи классификации текста. Более конкретно -- предсказания рейтинга отзыва фильма.\n",
        "2. Простейшая лингвистическая модель для генерации текста на основе LSTM."
      ]
    },
    {
      "cell_type": "markdown",
      "metadata": {
        "id": "24MiGN6ePnHi"
      },
      "source": [
        "При выполнении задания вы обучите LSTM с разным уровнем \"коробочности\", а также познакомитесь с различными способами применения DropOut к рекуррентным архитектурам. В рекуррентных архитектурах вариантов, куда можно наложить бинарную маску шума, гораздо больше, чем в нейросетях прямого прохода.\n",
        "\n",
        "Во второй части вы попробуете реализовать простейший рекуррентный декодер для генерации текстов.\n",
        "\n",
        "Задание сделано так, чтобы его можно было выполнять на CPU, однако RNN - это ресурсоёмкая вещь, поэтому на GPU с ними работать приятнее. Можете попробовать использовать [https://colab.research.google.com](https://colab.research.google.com) - бесплатное облако с GPU."
      ]
    },
    {
      "cell_type": "markdown",
      "metadata": {
        "id": "5uL4bEpxPnHi"
      },
      "source": [
        "# `Часть 0. Загрузка и предобработка данных (1 балл)`"
      ]
    },
    {
      "cell_type": "markdown",
      "metadata": {
        "id": "p4cXzkhNPnHj"
      },
      "source": [
        "## `Рекомендуемые гиперпараметры`"
      ]
    },
    {
      "cell_type": "code",
      "execution_count": 1,
      "metadata": {
        "ExecuteTime": {
          "end_time": "2021-04-02T00:04:28.454122Z",
          "start_time": "2021-04-02T00:04:28.438278Z"
        },
        "execution": {
          "iopub.execute_input": "2023-04-26T15:58:19.329068Z",
          "iopub.status.busy": "2023-04-26T15:58:19.328335Z",
          "iopub.status.idle": "2023-04-26T15:58:19.334533Z",
          "shell.execute_reply": "2023-04-26T15:58:19.333050Z",
          "shell.execute_reply.started": "2023-04-26T15:58:19.329023Z"
        },
        "id": "1fE19DaIPnHj",
        "trusted": true
      },
      "outputs": [],
      "source": [
        "max_length = 200\n",
        "top_n_words = 5000\n",
        "\n",
        "hidden_dim = 128\n",
        "embedding_dim = 32\n",
        "\n",
        "num_epochs = 15\n",
        "batch_size = 64\n",
        "learning_rate = 1e-3"
      ]
    },
    {
      "cell_type": "markdown",
      "metadata": {
        "id": "wuGaKVEWPnHk"
      },
      "source": [
        "dataset: [**Large Movie Review Dataset**](https://ai.stanford.edu/~amaas/data/sentiment/)."
      ]
    },
    {
      "cell_type": "markdown",
      "metadata": {
        "id": "XVulm8iRPnHk"
      },
      "source": [
        "## `Загрузка и предобработка данных`"
      ]
    },
    {
      "cell_type": "code",
      "execution_count": 2,
      "metadata": {
        "ExecuteTime": {
          "end_time": "2021-03-30T18:34:47.261797Z",
          "start_time": "2021-03-30T18:34:33.768597Z"
        },
        "colab": {
          "base_uri": "https://localhost:8080/"
        },
        "execution": {
          "iopub.execute_input": "2023-04-26T15:58:22.734627Z",
          "iopub.status.busy": "2023-04-26T15:58:22.733949Z",
          "iopub.status.idle": "2023-04-26T15:58:24.931262Z",
          "shell.execute_reply": "2023-04-26T15:58:24.930098Z",
          "shell.execute_reply.started": "2023-04-26T15:58:22.734588Z"
        },
        "id": "xHpB2cxmPnHl",
        "outputId": "12d90415-4003-4462-d84c-ce725760048f",
        "trusted": true
      },
      "outputs": [
        {
          "name": "stdout",
          "output_type": "stream",
          "text": [
            "--2023-04-27 17:06:46--  https://ai.stanford.edu/~amaas/data/sentiment/aclImdb_v1.tar.gz\n",
            "Resolving ai.stanford.edu (ai.stanford.edu)... 171.64.68.10\n",
            "Connecting to ai.stanford.edu (ai.stanford.edu)|171.64.68.10|:443... connected.\n",
            "HTTP request sent, awaiting response... 200 OK\n",
            "Length: 84125825 (80M) [application/x-gzip]\n",
            "Saving to: ‘aclImdb_v1.tar.gz’\n",
            "\n",
            "aclImdb_v1.tar.gz   100%[===================>]  80.23M  16.9MB/s    in 8.9s    \n",
            "\n",
            "2023-04-27 17:06:56 (9.05 MB/s) - ‘aclImdb_v1.tar.gz’ saved [84125825/84125825]\n",
            "\n"
          ]
        }
      ],
      "source": [
        "! wget https://ai.stanford.edu/~amaas/data/sentiment/aclImdb_v1.tar.gz"
      ]
    },
    {
      "cell_type": "code",
      "execution_count": 3,
      "metadata": {
        "ExecuteTime": {
          "end_time": "2021-03-30T17:48:59.763990Z",
          "start_time": "2021-03-30T17:48:56.998383Z"
        },
        "execution": {
          "iopub.execute_input": "2023-04-26T15:58:27.127323Z",
          "iopub.status.busy": "2023-04-26T15:58:27.126648Z",
          "iopub.status.idle": "2023-04-26T15:58:34.932203Z",
          "shell.execute_reply": "2023-04-26T15:58:34.930603Z",
          "shell.execute_reply.started": "2023-04-26T15:58:27.127253Z"
        },
        "id": "8oKWKaRaPnHl",
        "trusted": true
      },
      "outputs": [],
      "source": [
        "! mkdir aclImdb\n",
        "! tar -xf aclImdb_v1.tar.gz"
      ]
    },
    {
      "cell_type": "code",
      "execution_count": null,
      "metadata": {
        "ExecuteTime": {
          "end_time": "2021-04-01T23:55:43.946032Z",
          "start_time": "2021-04-01T23:55:43.814779Z"
        },
        "colab": {
          "base_uri": "https://localhost:8080/"
        },
        "id": "Kwb8HVZpPnHm",
        "outputId": "57e30934-d4ef-4974-c9a8-12efd75fbc61"
      },
      "outputs": [
        {
          "name": "stdout",
          "output_type": "stream",
          "text": [
            "This is not the typical Mel Brooks film. It was much less slapstick than most of his movies and actually had a plot that was followable. Leslie Ann Warren made the movie, she is such a fantastic, under-rated actress. There were some moments that could have been fleshed out a bit more, and some scenes that could probably have been cut to make the room to do so, but all in all, this is worth the price to rent and see it. The acting was good overall, Brooks himself did a good job without his characteristic speaking to directly to the audience. Again, Warren was the best actor in the movie, but \"Fume\" and \"Sailor\" both played their parts well."
          ]
        }
      ],
      "source": [
        "! cat ./aclImdb/train/pos/10003_8.txt"
      ]
    },
    {
      "cell_type": "code",
      "execution_count": 4,
      "metadata": {
        "ExecuteTime": {
          "end_time": "2021-04-02T00:04:33.729663Z",
          "start_time": "2021-04-02T00:04:33.710871Z"
        },
        "execution": {
          "iopub.execute_input": "2023-04-26T15:58:34.935079Z",
          "iopub.status.busy": "2023-04-26T15:58:34.934670Z",
          "iopub.status.idle": "2023-04-26T15:58:34.941634Z",
          "shell.execute_reply": "2023-04-26T15:58:34.940478Z",
          "shell.execute_reply.started": "2023-04-26T15:58:34.935025Z"
        },
        "id": "OOpGMql2PnHm",
        "trusted": true
      },
      "outputs": [],
      "source": [
        "test_data_path = './aclImdb/test/'\n",
        "train_data_path = './aclImdb/train/'"
      ]
    },
    {
      "cell_type": "code",
      "execution_count": 2,
      "metadata": {
        "ExecuteTime": {
          "end_time": "2021-04-02T00:04:33.709378Z",
          "start_time": "2021-04-02T00:04:32.220580Z"
        },
        "colab": {
          "base_uri": "https://localhost:8080/"
        },
        "execution": {
          "iopub.execute_input": "2023-04-26T15:58:34.943914Z",
          "iopub.status.busy": "2023-04-26T15:58:34.943242Z",
          "iopub.status.idle": "2023-04-26T15:58:38.512384Z",
          "shell.execute_reply": "2023-04-26T15:58:38.511352Z",
          "shell.execute_reply.started": "2023-04-26T15:58:34.943877Z"
        },
        "id": "uyECRObQPnHm",
        "outputId": "22f4147e-c4fd-4bc9-ddcf-d2a6ff1b1242",
        "trusted": true
      },
      "outputs": [
        {
          "name": "stderr",
          "output_type": "stream",
          "text": [
            "[nltk_data] Downloading package stopwords to /home/riot/nltk_data...\n",
            "[nltk_data]   Package stopwords is already up-to-date!\n"
          ]
        }
      ],
      "source": [
        "import os\n",
        "from functools import partial\n",
        "from collections import defaultdict\n",
        "\n",
        "import nltk\n",
        "nltk.download('stopwords')\n",
        "\n",
        "import regex\n",
        "import numpy as np\n",
        "from time import time\n",
        "\n",
        "import torch\n",
        "import torchtext\n",
        "from torch.utils.data import Dataset, DataLoader"
      ]
    },
    {
      "cell_type": "markdown",
      "metadata": {
        "id": "Q-yEBP9ZPnHn"
      },
      "source": [
        "Убираем часть слов (стоп слова, редкие слова), ускорив обучение без потери в качестве."
      ]
    },
    {
      "cell_type": "code",
      "execution_count": 6,
      "metadata": {
        "ExecuteTime": {
          "end_time": "2021-04-02T00:04:35.270825Z",
          "start_time": "2021-04-02T00:04:35.250283Z"
        },
        "execution": {
          "iopub.execute_input": "2023-04-26T15:58:38.516564Z",
          "iopub.status.busy": "2023-04-26T15:58:38.516039Z",
          "iopub.status.idle": "2023-04-26T15:58:38.523722Z",
          "shell.execute_reply": "2023-04-26T15:58:38.522481Z",
          "shell.execute_reply.started": "2023-04-26T15:58:38.516531Z"
        },
        "id": "oyaPZ1oOPnHn",
        "trusted": true
      },
      "outputs": [],
      "source": [
        "STOPWORDS = set(nltk.corpus.stopwords.words('english'))"
      ]
    },
    {
      "cell_type": "markdown",
      "metadata": {
        "id": "WlZhbdQWPnHn"
      },
      "source": [
        "Функция для токенизации текста. Выполнять токенизацию можно по-разному, но в данном задании предлагается это делать следующим образом:\n",
        "1. Привести текст к нижнему регистру\n",
        "2. Убрать html разметку из текстов (`<br />`, ...)\n",
        "3. Убрать все символы кроме латинских букв\n",
        "4. Разбить строку по пробелам\n",
        "5. Убрать стоп слова"
      ]
    },
    {
      "cell_type": "code",
      "execution_count": 7,
      "metadata": {
        "ExecuteTime": {
          "end_time": "2021-04-02T00:04:36.003194Z",
          "start_time": "2021-04-02T00:04:35.980408Z"
        },
        "execution": {
          "iopub.execute_input": "2023-04-26T15:58:38.526017Z",
          "iopub.status.busy": "2023-04-26T15:58:38.525416Z",
          "iopub.status.idle": "2023-04-26T15:58:38.533821Z",
          "shell.execute_reply": "2023-04-26T15:58:38.532813Z",
          "shell.execute_reply.started": "2023-04-26T15:58:38.525980Z"
        },
        "id": "pp5i9FNiPnHn",
        "trusted": true
      },
      "outputs": [],
      "source": [
        "def tokenize(text):\n",
        "    \"\"\"\n",
        "    :param str text: Input text \n",
        "    :return List[str]: List of words\n",
        "    \"\"\"\n",
        "    text = text.lower()\n",
        "    text = regex.sub(r'<[a-zA-Z0-9/ ]+>', \"\", text)\n",
        "    text = regex.sub(r'[^a-z\\s]', \"\", text)\n",
        "    return [t for t in text.split() if not t in STOPWORDS]"
      ]
    },
    {
      "cell_type": "code",
      "execution_count": null,
      "metadata": {
        "ExecuteTime": {
          "end_time": "2021-04-01T21:27:12.428149Z",
          "start_time": "2021-04-01T21:27:12.402448Z"
        },
        "id": "PP0LOJydPnHn",
        "outputId": "42c36d13-0651-4607-ae80-381b3f187090"
      },
      "outputs": [
        {
          "data": {
            "text/plain": [
              "['hello', 'words']"
            ]
          },
          "execution_count": 20,
          "metadata": {},
          "output_type": "execute_result"
        }
      ],
      "source": [
        "tokenize('1. Hello <br /> words!! <br />')"
      ]
    },
    {
      "cell_type": "markdown",
      "metadata": {
        "id": "G2rS72tgPnHo"
      },
      "source": [
        "Теперь создадим словарь, с помощью которого мы будем численно кодировать токены из текста и наоборот.\n",
        "\n",
        "Удобной обёрткой для создания словарей является класс `torchtext.vocab.Vocab` и фабрика для создания таких классов `torchtext.vocab.vocab`."
      ]
    },
    {
      "cell_type": "code",
      "execution_count": null,
      "metadata": {
        "ExecuteTime": {
          "end_time": "2021-04-01T21:27:21.466887Z",
          "start_time": "2021-04-01T21:27:21.352085Z"
        },
        "id": "uaggIlS6PnHo"
      },
      "outputs": [],
      "source": [
        "torchtext.vocab.vocab??"
      ]
    },
    {
      "cell_type": "code",
      "execution_count": 8,
      "metadata": {
        "ExecuteTime": {
          "end_time": "2021-04-02T00:05:13.547038Z",
          "start_time": "2021-04-02T00:04:38.190688Z"
        },
        "execution": {
          "iopub.execute_input": "2023-04-26T15:58:55.184986Z",
          "iopub.status.busy": "2023-04-26T15:58:55.184409Z",
          "iopub.status.idle": "2023-04-26T15:59:03.430629Z",
          "shell.execute_reply": "2023-04-26T15:59:03.429557Z",
          "shell.execute_reply.started": "2023-04-26T15:58:55.184942Z"
        },
        "id": "noWQ8wx1PnHo",
        "trusted": true
      },
      "outputs": [],
      "source": [
        "counter = defaultdict(int)\n",
        "\n",
        "for path in ['./aclImdb/test/neg', './aclImdb/test/pos', './aclImdb/train/neg', './aclImdb/train/pos']:\n",
        "    for file_path in os.listdir(path):\n",
        "        text = open(os.path.join(path, file_path), 'r', encoding='utf-8', errors='ignore').read().strip()\n",
        "        for token in tokenize(text):\n",
        "            counter[token] += 1"
      ]
    },
    {
      "cell_type": "markdown",
      "metadata": {
        "id": "3J3c8v5mPnHo"
      },
      "source": [
        "Для работы с текстами зарезервируем два специальных токена:\n",
        "1. `<pad>` для токена означающего паддинг\n",
        "2. `<unk>` для токенов, которые отсутствуют в словаре"
      ]
    },
    {
      "cell_type": "code",
      "execution_count": null,
      "metadata": {
        "ExecuteTime": {
          "end_time": "2021-04-01T21:28:18.239274Z",
          "start_time": "2021-04-01T21:28:18.214979Z"
        },
        "execution": {
          "iopub.execute_input": "2023-04-26T15:59:03.433039Z",
          "iopub.status.busy": "2023-04-26T15:59:03.432706Z",
          "iopub.status.idle": "2023-04-26T15:59:03.438748Z",
          "shell.execute_reply": "2023-04-26T15:59:03.437576Z",
          "shell.execute_reply.started": "2023-04-26T15:59:03.433003Z"
        },
        "id": "IqCj3dpQPnHo",
        "trusted": true
      },
      "outputs": [],
      "source": [
        "specials = ['<pad>', '<unk>']\n",
        "for special in specials:\n",
        "    counter[special] = 0"
      ]
    },
    {
      "cell_type": "code",
      "execution_count": null,
      "metadata": {
        "ExecuteTime": {
          "end_time": "2021-04-01T21:28:23.041153Z",
          "start_time": "2021-04-01T21:28:22.899444Z"
        },
        "execution": {
          "iopub.execute_input": "2023-04-26T15:59:03.441293Z",
          "iopub.status.busy": "2023-04-26T15:59:03.440860Z",
          "iopub.status.idle": "2023-04-26T15:59:03.608397Z",
          "shell.execute_reply": "2023-04-26T15:59:03.607327Z",
          "shell.execute_reply.started": "2023-04-26T15:59:03.441241Z"
        },
        "id": "pDmrYmICPnHp",
        "trusted": true
      },
      "outputs": [],
      "source": [
        "vocab = torchtext.vocab.vocab(counter, specials=specials)"
      ]
    },
    {
      "cell_type": "code",
      "execution_count": null,
      "metadata": {
        "id": "lQ4xwCkfrYIG"
      },
      "outputs": [],
      "source": [
        "vocab.set_default_index(vocab['<unk>'])"
      ]
    },
    {
      "cell_type": "code",
      "execution_count": null,
      "metadata": {
        "ExecuteTime": {
          "end_time": "2021-04-01T21:28:24.332126Z",
          "start_time": "2021-04-01T21:28:24.306890Z"
        },
        "colab": {
          "base_uri": "https://localhost:8080/"
        },
        "id": "PqN55rRwPnHp",
        "outputId": "388ff0fd-033b-48e3-b6e3-6d2e65363250"
      },
      "outputs": [
        {
          "data": {
            "text/plain": [
              "[0, 1]"
            ]
          },
          "execution_count": 25,
          "metadata": {},
          "output_type": "execute_result"
        }
      ],
      "source": [
        "vocab.lookup_indices(['<pad>', '<unk>'])"
      ]
    },
    {
      "cell_type": "markdown",
      "metadata": {
        "id": "sVE25I_9PnHp"
      },
      "source": [
        "Создаём обёртку-датасет для наших данных. \n",
        "\n",
        "Необходимо добавить несколько опции, которые понадобятся во второй части задания:\n",
        "1. Ограничение на максимальную длину текста в токенах. Если текст оказывается длиннее, то последние токены отбрасываются\n",
        "2. Возможность добавить в специальные токены `<sos>`, `<eos>` в начало и конец токенизированного текста\n",
        "    \n",
        "**tips:**\n",
        "1. Обратите особое внимание, что у длинных текстов не должен обрезаться паддинг\n",
        "2. В исходных данных рейтинг закодирован в названии файла в виде числа от $1$ до $10$. Для удобства, вычтите $1$, чтобы рейтинг был от $0$ до $9$"
      ]
    },
    {
      "cell_type": "code",
      "execution_count": 9,
      "metadata": {
        "ExecuteTime": {
          "end_time": "2021-04-02T00:05:13.573249Z",
          "start_time": "2021-04-02T00:05:13.548593Z"
        },
        "execution": {
          "iopub.execute_input": "2023-04-26T15:59:03.611278Z",
          "iopub.status.busy": "2023-04-26T15:59:03.610867Z",
          "iopub.status.idle": "2023-04-26T15:59:03.630500Z",
          "shell.execute_reply": "2023-04-26T15:59:03.629475Z",
          "shell.execute_reply.started": "2023-04-26T15:59:03.611223Z"
        },
        "id": "vjyxtl0uPnHq",
        "trusted": true
      },
      "outputs": [],
      "source": [
        "class LargeMovieReviewDataset(Dataset):\n",
        "    def __init__(self, data_path, vocab, max_len, pad_sos=False, pad_eos=False):\n",
        "        \"\"\"\n",
        "        :param str data_path: Path to folder with one of the data splits (train or test)\n",
        "        :param torchtext.vocab.Vocab vocab: dictionary with lookup_indices method\n",
        "        :param int max_len: Maximum length of tokenized text\n",
        "        :param bool pad_sos: If True pad sequence at the beginning with <sos>\n",
        "        :param bool pad_eos: If True pad sequence at the end with <eos>\n",
        "        \"\"\"\n",
        "        super().__init__()\n",
        "        \n",
        "        self.pad_sos = pad_sos\n",
        "        if self.pad_sos:\n",
        "            self.sos_id = vocab.lookup_indices(['<sos>'])[0]\n",
        "        self.pad_eos = pad_eos\n",
        "        if self.pad_eos:\n",
        "            self.eos_id = vocab.lookup_indices(['<eos>'])[0]\n",
        "        \n",
        "        self.vocab = vocab\n",
        "        self.max_len = max_len\n",
        "        self.data_path = data_path\n",
        "        self.negative_path = os.path.join(data_path, 'neg')\n",
        "        self.positive_path = os.path.join(data_path, 'pos')\n",
        "        \n",
        "        self.negative_paths = []\n",
        "        self.positive_paths = []\n",
        "\n",
        "        for file_path in os.listdir(self.negative_path):\n",
        "            self.negative_paths.append(os.path.join(self.negative_path, file_path))\n",
        "            \n",
        "\n",
        "        for file_path in os.listdir(self.positive_path):\n",
        "            self.positive_paths.append(os.path.join(self.positive_path, file_path))\n",
        "        \n",
        "        self.texts = []\n",
        "        self.tokens = []\n",
        "        self.ratings = []\n",
        "        self.labels = [0] * len(self.negative_paths) + [1] * len(self.positive_paths)\n",
        "        \n",
        "        rating_pattern = regex.compile(r'_(?P<rating>[0-9]+).txt')\n",
        "        for path in self.negative_paths + self.positive_paths:\n",
        "            with open(path) as file_obj:\n",
        "                txt = file_obj.read()\n",
        "                self.texts.append(txt)\n",
        "                result = rating_pattern.search(path)\n",
        "                rating = int(result.group('rating')) - 1\n",
        "                self.ratings.append(rating)\n",
        "                token = tokenize(txt)\n",
        "                token = token[:self.max_len]\n",
        "                token = vocab.lookup_indices(token)\n",
        "                if self.pad_sos:\n",
        "                    token = [self.sos_id] + (token if len(token) < self.max_len else token[:self.max_len - 1])\n",
        "                if self.pad_eos:\n",
        "                    token = (token if len(token) < self.max_len else token[:self.max_len - 1]) + [self.eos_id]\n",
        "                self.tokens.append(token)\n",
        "\n",
        "                \n",
        "        \n",
        "    def __getitem__(self, idx):\n",
        "        \"\"\"\n",
        "        :param int idx: index of object in dataset\n",
        "        :return dict: Dictionary with all useful object data \n",
        "            {\n",
        "                'text' str: unprocessed text,\n",
        "                'label' torch.Tensor(dtype=torch.long): sentiment of the text (0 for negative, 1 for positive)\n",
        "                'rating' torch.Tensor(dtype=torch.long): rating of the text\n",
        "                'tokens' torch.Tensor(dtype=torch.long): tensor of tokens ids for the text\n",
        "                'tokens_len' torch.Tensor(dtype=torch.long): number of tokens\n",
        "            }\n",
        "        \"\"\"\n",
        "        return {\n",
        "                'text': self.texts[idx],\n",
        "                'label': torch.tensor(self.labels[idx], dtype=torch.long),\n",
        "                'rating': torch.tensor(self.ratings[idx], dtype=torch.long),\n",
        "                'tokens': torch.tensor(self.tokens[idx], dtype=torch.long),\n",
        "                'tokens_len': torch.tensor(len(self.tokens[idx]), dtype=torch.long)\n",
        "            }\n",
        "\n",
        "    def __len__(self):\n",
        "        \"\"\"\n",
        "        :return int: number of objects in dataset \n",
        "        \"\"\"\n",
        "        return len(self.texts)"
      ]
    },
    {
      "cell_type": "markdown",
      "metadata": {
        "id": "pcRAeLpZPnHq"
      },
      "source": [
        "Создадим датасеты для тестовой и обучающей выборки. \n",
        "\n",
        "Обратите внимание, что для задачи классификации нам не потребуется паддинг с помощью `<sos>`, `<eos>`. \n",
        "\n",
        "Не забудьте обрезать длинные тексты, передав параметр `max_length`."
      ]
    },
    {
      "cell_type": "code",
      "execution_count": null,
      "metadata": {
        "ExecuteTime": {
          "end_time": "2021-04-01T21:31:32.123618Z",
          "start_time": "2021-04-01T21:30:54.950259Z"
        },
        "execution": {
          "iopub.execute_input": "2023-04-26T15:59:06.045633Z",
          "iopub.status.busy": "2023-04-26T15:59:06.044840Z",
          "iopub.status.idle": "2023-04-26T15:59:13.305341Z",
          "shell.execute_reply": "2023-04-26T15:59:13.304331Z",
          "shell.execute_reply.started": "2023-04-26T15:59:06.045592Z"
        },
        "id": "zsth9O7GPnHq",
        "trusted": true
      },
      "outputs": [],
      "source": [
        "test_dataset = LargeMovieReviewDataset(test_data_path, vocab, max_length)\n",
        "train_dataset = LargeMovieReviewDataset(train_data_path, vocab, max_length)"
      ]
    },
    {
      "cell_type": "markdown",
      "metadata": {
        "id": "DWmNWVxMPnHr"
      },
      "source": [
        "Посмотрим, как выглядит объект в датасете:"
      ]
    },
    {
      "cell_type": "code",
      "execution_count": null,
      "metadata": {
        "id": "6G6Pdy3GPnHr",
        "outputId": "c4f06f20-658a-4a4f-87ad-80c871dfc823"
      },
      "outputs": [
        {
          "data": {
            "text/plain": [
              "{'text': \"This would have to rate as one of the worst films of all time. The film screened at the Italian Film Festival in Melbourne, Australia. After the screening, not only did I want my money refunded, I wanted the 1.5 wasted hours of my life back too. I have a very broad tolerance level when it comes to the indulgences of some European film-making, but this is one of those films that is selected for festivals based on the reputation of the filmmaker alone. This film is proof that while such selections may satisfy the egos of the film-maker and the selection panel, there is absolutely no joy for the audience. There is no character development whatsoever, the plot is a garbled mess, the style is nonsensical, the shot selection is appalling, and the editing is worse. By the end of the first reel, you'll wonder if you walked into the wrong cinema, and by the end of the third reel, you'll be begging to be put out of your misery. This film is an abomination.\",\n",
              " 'label': tensor(0),\n",
              " 'rating': tensor(0),\n",
              " 'tokens': tensor([ 2,  3,  4,  5,  6,  7,  8,  9, 10,  8, 11, 12, 13, 14, 15, 16, 17, 18,\n",
              "         19, 20, 21, 22, 23, 24, 25, 26, 27, 28, 29,  4,  6, 30, 31, 32, 33, 34,\n",
              "         35,  8, 36, 37, 38, 39, 40, 34, 41, 42, 43, 44, 45, 46, 47, 48, 49, 50,\n",
              "         51, 52, 53, 54, 41, 55, 56, 57, 58, 59, 60, 61, 62, 63, 64, 65, 58, 66,\n",
              "         60, 61, 67, 68, 69,  8, 70]),\n",
              " 'tokens_len': tensor(79)}"
            ]
          },
          "execution_count": 29,
          "metadata": {},
          "output_type": "execute_result"
        }
      ],
      "source": [
        "test_dataset[0]"
      ]
    },
    {
      "cell_type": "markdown",
      "metadata": {
        "id": "QWdGZ3EZPnHr"
      },
      "source": [
        "Теперь нам нужно создать `DataLoader` для наших данных. `DataLoader` умеет из коробки объединять список объектов из датасета в один батч, даже когда датасет возвращает словарь тензоров. Однако, это работает только в случае когда все эти тензоры имеют один и тот же размер во всех батчах. В нашем случае, это не так, так как разные тексты могут иметь разную длину.\n",
        "\n",
        "Чтобы обойти эту проблему у `DataLoader` есть параметр `collate_fn`, который позволяет задать функцию для объединения списка объектов в один батч."
      ]
    },
    {
      "cell_type": "markdown",
      "metadata": {
        "id": "mxoG4jIHPnHr"
      },
      "source": [
        "Чтобы объединить несколько тензоров разной длины в один можно использовать функцию `torch.nn.utils.rnn.pad_sequence`\n",
        "\n",
        "Обратите внимание на её аргументы:\n",
        "1. `batch_first` определяет по какой оси \"складывать\" тензоры. Предпочтительнее использовать `batch_first=False` так как это может упростить выполнение задания в дальнейшем \n",
        "2. `padding_value` — число, которое будет использоваться в качестве паддинга, чтобы сделать все тензоры одинаковой длины"
      ]
    },
    {
      "cell_type": "code",
      "execution_count": null,
      "metadata": {
        "ExecuteTime": {
          "end_time": "2021-04-01T21:33:06.372403Z",
          "start_time": "2021-04-01T21:33:06.344559Z"
        },
        "id": "l_jHBHslPnHr",
        "outputId": "4f190f7e-f7e8-436b-d31f-0eaebe8343c3"
      },
      "outputs": [
        {
          "data": {
            "text/plain": [
              "tensor([[ 1,  4,  6],\n",
              "        [ 2,  5,  7],\n",
              "        [ 3, -1,  8],\n",
              "        [-1, -1,  9]])"
            ]
          },
          "execution_count": 30,
          "metadata": {},
          "output_type": "execute_result"
        }
      ],
      "source": [
        "torch.nn.utils.rnn.pad_sequence([\n",
        "    torch.tensor([1, 2, 3]),\n",
        "    torch.tensor([4, 5]),\n",
        "    torch.tensor([6, 7, 8, 9])\n",
        "], batch_first=False, padding_value=-1)"
      ]
    },
    {
      "cell_type": "code",
      "execution_count": 10,
      "metadata": {
        "ExecuteTime": {
          "end_time": "2021-04-02T00:05:13.709466Z",
          "start_time": "2021-04-02T00:05:13.575053Z"
        },
        "execution": {
          "iopub.execute_input": "2023-04-26T16:14:00.305598Z",
          "iopub.status.busy": "2023-04-26T16:14:00.304831Z",
          "iopub.status.idle": "2023-04-26T16:14:00.313259Z",
          "shell.execute_reply": "2023-04-26T16:14:00.312009Z",
          "shell.execute_reply.started": "2023-04-26T16:14:00.305554Z"
        },
        "id": "AL-zIhYUPnHr",
        "trusted": true
      },
      "outputs": [],
      "source": [
        "def collate_fn(batch, padding_value, batch_first=False):\n",
        "    \"\"\"\n",
        "    :param List[Dict] batch: List of objects from dataset\n",
        "    :param int padding_value: Value that will be used to pad tokens\n",
        "    :param bool batch_first: If True resulting tensor with tokens must have shape [B, T] otherwise [T, B]\n",
        "    :return dict: Dictionary with all data collated\n",
        "        {\n",
        "            'ratings' torch.Tensor(dtype=torch.long): rating of the text for each object in batch\n",
        "            'labels' torch.Tensor(dtype=torch.long): sentiment of the text for each object in batch\n",
        "            \n",
        "            'texts' List[str]: All texts in one list\n",
        "            'tokens' torch.Tensor(dtype=torch.long): tensor of tokens ids padded with @padding_value\n",
        "            'tokens_lens' torch.Tensor(dtype=torch.long): number of tokens for each object in batch\n",
        "        }\n",
        "    \"\"\"\n",
        "    return {\n",
        "        \"ratings\": torch.tensor([obj[\"rating\"] for obj in batch]),\n",
        "        \"labels\": torch.tensor([obj[\"label\"] for obj in batch]),\n",
        "        \"texts\": [obj[\"text\"] for obj in batch],\n",
        "        \"tokens\": torch.nn.utils.rnn.pad_sequence([obj[\"tokens\"] for obj in batch],\n",
        "                                                  batch_first=batch_first, padding_value=padding_value),\n",
        "        \"tokens_lens\": torch.tensor([obj[\"tokens_len\"] for obj in batch])\n",
        "    }"
      ]
    },
    {
      "cell_type": "markdown",
      "metadata": {
        "id": "4SPltwTxPnHs"
      },
      "source": [
        "Создайте даталоадеры с использованием `collate_fn`.\n",
        "\n",
        "**tips**:\n",
        "1. Передать в `collate_fn` правильное значение паддинга можно, например, с помощью `functools.partial`\n",
        "2. Если вы работаете в Google Colab, то, возможно, вам будет необходимо установить `num_workers=0` во избежание падения ноутбука."
      ]
    },
    {
      "cell_type": "code",
      "execution_count": null,
      "metadata": {
        "ExecuteTime": {
          "end_time": "2021-04-01T21:33:37.872760Z",
          "start_time": "2021-04-01T21:33:37.847071Z"
        },
        "execution": {
          "iopub.execute_input": "2023-04-26T15:59:13.318347Z",
          "iopub.status.busy": "2023-04-26T15:59:13.317923Z",
          "iopub.status.idle": "2023-04-26T15:59:13.330740Z",
          "shell.execute_reply": "2023-04-26T15:59:13.329782Z",
          "shell.execute_reply.started": "2023-04-26T15:59:13.318311Z"
        },
        "id": "DgDBjK-VPnHs",
        "trusted": true
      },
      "outputs": [],
      "source": [
        "padding_value = vocab.lookup_indices([\"<pad>\"])[0]\n",
        "mycollate_fn = partial(collate_fn, padding_value=padding_value, batch_first=False)\n",
        "\n",
        "test_dataloader = DataLoader(test_dataset, batch_size=8, num_workers=0, shuffle=True, collate_fn=mycollate_fn)\n",
        "train_dataloader = DataLoader(train_dataset, batch_size=8, num_workers=0, shuffle=True, collate_fn=mycollate_fn)"
      ]
    },
    {
      "cell_type": "code",
      "execution_count": null,
      "metadata": {
        "colab": {
          "base_uri": "https://localhost:8080/"
        },
        "id": "QQsHpx-UPnHs",
        "outputId": "f5d434c7-a930-41c6-c028-1007cdb4702b"
      },
      "outputs": [
        {
          "data": {
            "text/plain": [
              "(dict_keys(['ratings', 'labels', 'texts', 'tokens', 'tokens_lens']),\n",
              " tensor([0, 0, 0, 1, 1, 0, 0, 0]),\n",
              " tensor([1, 0, 0, 9, 9, 1, 1, 3]),\n",
              " tensor([[ 3350,   196,   631,  ...,   750,     7,   873],\n",
              "         [ 3260,   730,  4375,  ...,  1243,   895,   342],\n",
              "         [ 1086,   534,  1382,  ...,     4,  1552,  6281],\n",
              "         ...,\n",
              "         [    0,     0,     0,  ...,  1983,  2426,     0],\n",
              "         [    0,     0,     0,  ...,   499,  1000,     0],\n",
              "         [    0,     0,     0,  ...,   905, 20730,     0]]),\n",
              " tensor([112,  61,  78, 200,  60, 200, 200,  96]))"
            ]
          },
          "execution_count": 33,
          "metadata": {},
          "output_type": "execute_result"
        }
      ],
      "source": [
        "batch = next(iter(test_dataloader))\n",
        "batch.keys(), batch['labels'], batch['ratings'], batch['tokens'], batch['tokens_lens']"
      ]
    },
    {
      "cell_type": "markdown",
      "metadata": {
        "id": "mdqCfGLEPnHs"
      },
      "source": [
        "# `Часть 1. Классификация текстов`"
      ]
    },
    {
      "cell_type": "markdown",
      "metadata": {
        "id": "1YXlJuvePnHs"
      },
      "source": [
        "## `Сборка и обучение RNN в pytorch`"
      ]
    },
    {
      "cell_type": "markdown",
      "metadata": {
        "id": "1xLzFjOiPnHt"
      },
      "source": [
        "Создадим переменные для device-agnostic кода:"
      ]
    },
    {
      "cell_type": "code",
      "execution_count": 11,
      "metadata": {
        "colab": {
          "base_uri": "https://localhost:8080/"
        },
        "execution": {
          "iopub.execute_input": "2023-04-26T15:59:14.315016Z",
          "iopub.status.busy": "2023-04-26T15:59:14.314321Z",
          "iopub.status.idle": "2023-04-26T15:59:14.420124Z",
          "shell.execute_reply": "2023-04-26T15:59:14.418733Z",
          "shell.execute_reply.started": "2023-04-26T15:59:14.314976Z"
        },
        "id": "OTFHgsxVQ_qo",
        "outputId": "0da662a7-39e6-4988-e2c3-b07599a4dae8",
        "trusted": true
      },
      "outputs": [
        {
          "name": "stdout",
          "output_type": "stream",
          "text": [
            "Using device: cuda:0, dtype: torch.float32\n"
          ]
        }
      ],
      "source": [
        "dtype, device, cuda_device_id = torch.float32, None, (0 if torch.cuda.is_available() else None)\n",
        "os.environ[\"CUDA_VISIBLE_DEVICES\"] = '{0}'.format(str(cuda_device_id) if cuda_device_id is not None else '')\n",
        "if cuda_device_id is not None and torch.cuda.is_available():\n",
        "    device = 'cuda:{0:d}'.format(0)\n",
        "else:\n",
        "    device = torch.device('cpu')\n",
        "print(f'Using device: {device}, dtype: {dtype}')"
      ]
    },
    {
      "cell_type": "markdown",
      "metadata": {
        "id": "9GOM-HXkPnHt"
      },
      "source": [
        "Наша нейросеть будет обрабатывать входную последовательность по словам (word level). Мы будем использовать простую и стандартную рекуррентную архитектуру для классификации:\n",
        "1. Слой представлений, превращающий id токена в вектор-эмбеддинг этого слова\n",
        "2. Слой LSTM\n",
        "3. Полносвязный слой, предсказывающий выход по последнему скрытому состоянию"
      ]
    },
    {
      "cell_type": "code",
      "execution_count": 12,
      "metadata": {
        "ExecuteTime": {
          "end_time": "2021-04-02T00:05:13.873713Z",
          "start_time": "2021-04-02T00:05:13.810690Z"
        },
        "execution": {
          "iopub.execute_input": "2023-04-26T16:14:08.071750Z",
          "iopub.status.busy": "2023-04-26T16:14:08.071047Z",
          "iopub.status.idle": "2023-04-26T16:14:08.082937Z",
          "shell.execute_reply": "2023-04-26T16:14:08.081678Z",
          "shell.execute_reply.started": "2023-04-26T16:14:08.071711Z"
        },
        "id": "765iyH1ePnHt",
        "trusted": true
      },
      "outputs": [],
      "source": [
        "class RNNClassifier(torch.nn.Module):\n",
        "    def __init__(\n",
        "        self, embedding_dim, hidden_dim, output_size, vocab,\n",
        "        rec_layer=torch.nn.LSTM, dropout=None, **kwargs\n",
        "    ):\n",
        "        super().__init__()\n",
        "\n",
        "        self.dropout = dropout\n",
        "        \n",
        "        self.vocab = vocab\n",
        "        self.hidden_dim = hidden_dim\n",
        "        self.output_size = output_size\n",
        "        self.embedding_dim = embedding_dim\n",
        "        \n",
        "        self.word_embeddings = torch.nn.Embedding(len(vocab), self.embedding_dim, padding_idx=vocab.lookup_indices([\"<pad>\"])[0])\n",
        "        \n",
        "        if dropout is not None:\n",
        "            self.rnn = rec_layer(self.embedding_dim, self.hidden_dim, dropout=self.dropout, **kwargs)\n",
        "        else:\n",
        "            self.rnn = rec_layer(self.embedding_dim, self.hidden_dim, **kwargs)\n",
        "        \n",
        "        self.output = torch.nn.Linear(self.hidden_dim, output_size)\n",
        "    \n",
        "    def forward(self, tokens, tokens_lens):\n",
        "        \"\"\"\n",
        "        :param torch.Tensor(dtype=torch.long) tokens: Batch of texts represented with tokens.\n",
        "        :param torch.Tensor(dtype=torch.long) tokens_lens: Number of non-padding tokens for each object in batch.\n",
        "        :return torch.Tensor(dtype=torch.long): Vector representation for each sequence in batch\n",
        "        \"\"\"\n",
        "\n",
        "        embeddings = self.word_embeddings(tokens)\n",
        "        # батч имеет размерность (L, N, emb_dim)\n",
        "\n",
        "        h, c = self.rnn(embeddings)\n",
        "        # h имеет размерность (L, N, hidden_dim)\n",
        "        # x = torch.stack([h[tokens_lens[i] - 1, i, :] for i in range(len(tokens_lens))])  # mistaken\n",
        "        x = h[tokens_lens - 1, torch.arange(len(tokens_lens)), :]  # right (faster)\n",
        "\n",
        "        return self.output(x)\n"
      ]
    },
    {
      "cell_type": "markdown",
      "metadata": {
        "id": "0OPdC-4kPnHt"
      },
      "source": [
        "[Исходный код LSTM](http://pytorch.org/docs/master/_modules/torch/nn/modules/rnn.html#LSTM)"
      ]
    },
    {
      "cell_type": "markdown",
      "metadata": {
        "id": "MBdevfrVPnHu"
      },
      "source": [
        "Напишите функции для обучения и оценки модели:\n",
        "\n",
        "**tip:**\n",
        "1. В функции `evaluate` при подсчёте метрик учитывайте, что батчи могут иметь разный размер. (в частности последний батч)"
      ]
    },
    {
      "cell_type": "code",
      "execution_count": 13,
      "metadata": {
        "ExecuteTime": {
          "end_time": "2021-04-02T00:05:13.969665Z",
          "start_time": "2021-04-02T00:05:13.875379Z"
        },
        "execution": {
          "iopub.execute_input": "2023-04-26T16:14:11.938731Z",
          "iopub.status.busy": "2023-04-26T16:14:11.938087Z",
          "iopub.status.idle": "2023-04-26T16:14:11.963393Z",
          "shell.execute_reply": "2023-04-26T16:14:11.959747Z",
          "shell.execute_reply.started": "2023-04-26T16:14:11.938673Z"
        },
        "id": "w8DCmJDpPnHu",
        "trusted": true
      },
      "outputs": [],
      "source": [
        "def train_epoch(dataloader, model, loss_fn, optimizer, device):\n",
        "    model.train()\n",
        "    for idx, data in enumerate(dataloader):\n",
        "        tokens = data[\"tokens\"].to(device)\n",
        "        tokens_lens = data[\"tokens_lens\"].to(device)\n",
        "        ratings = data[\"ratings\"].to(device)\n",
        "\n",
        "        outputs = model(tokens, tokens_lens)\n",
        "        loss = loss_fn(outputs, ratings)\n",
        "        loss.backward()\n",
        "        optimizer.step()\n",
        "        optimizer.zero_grad()\n",
        "        \n",
        "    \n",
        "def evaluate(dataloader, model, loss_fn, device):\n",
        "    model.eval()\n",
        "    \n",
        "    total_loss = 0.0\n",
        "    total_accuracy = 0.0\n",
        "    with torch.no_grad():\n",
        "        for idx, data in enumerate(dataloader):\n",
        "            tokens = data[\"tokens\"].to(device)\n",
        "            tokens_lens = data[\"tokens_lens\"].to(device)\n",
        "            ratings = data[\"ratings\"].to(device)\n",
        "\n",
        "            outputs = model(tokens, tokens_lens)\n",
        "            loss = loss_fn(outputs, ratings)\n",
        "            total_loss += loss * len(outputs)\n",
        "            total_accuracy += (outputs.argmax(dim=1) == ratings).float().sum()\n",
        "\n",
        "    return total_loss / len(dataloader.dataset), total_accuracy / len(dataloader.dataset)\n",
        "    \n",
        "\n",
        "def train(\n",
        "    train_loader, test_loader, model, loss_fn, optimizer, device, num_epochs\n",
        "):\n",
        "    test_losses = []\n",
        "    train_losses = []\n",
        "    test_accuracies = []\n",
        "    train_accuracies = []\n",
        "    for epoch in range(num_epochs):\n",
        "        train_epoch(train_loader, model, loss_fn, optimizer, device)\n",
        "        \n",
        "        train_loss, train_acc = evaluate(train_loader, model, loss_fn, device)\n",
        "        train_accuracies.append(train_acc)\n",
        "        train_losses.append(train_loss)\n",
        "        \n",
        "        test_loss, test_acc = evaluate(test_loader, model, loss_fn, device)\n",
        "        test_accuracies.append(test_acc)\n",
        "        test_losses.append(test_loss)\n",
        "        \n",
        "        print(\n",
        "            'Epoch: {0:d}/{1:d}. Loss (Train/Test): {2:.3f}/{3:.3f}. Accuracy (Train/Test): {4:.3f}/{5:.3f}'.format(\n",
        "                epoch + 1, num_epochs, train_losses[-1], test_losses[-1], train_accuracies[-1], test_accuracies[-1]\n",
        "            )\n",
        "        )\n",
        "    return train_losses, train_accuracies, test_losses, test_accuracies"
      ]
    },
    {
      "cell_type": "markdown",
      "metadata": {
        "id": "kmBVKripPnHu"
      },
      "source": [
        "Создадим модель:"
      ]
    },
    {
      "cell_type": "code",
      "execution_count": null,
      "metadata": {
        "ExecuteTime": {
          "end_time": "2021-04-01T21:39:36.315652Z",
          "start_time": "2021-04-01T21:39:33.667776Z"
        },
        "execution": {
          "iopub.execute_input": "2023-04-26T16:14:15.965050Z",
          "iopub.status.busy": "2023-04-26T16:14:15.964671Z",
          "iopub.status.idle": "2023-04-26T16:14:16.038310Z",
          "shell.execute_reply": "2023-04-26T16:14:16.037292Z",
          "shell.execute_reply.started": "2023-04-26T16:14:15.965007Z"
        },
        "id": "1d20izNiPnHu",
        "trusted": true
      },
      "outputs": [],
      "source": [
        "model = RNNClassifier(\n",
        "    embedding_dim=embedding_dim, hidden_dim=hidden_dim, output_size=10, vocab=vocab,\n",
        "    rec_layer=torch.nn.LSTM, dropout=None\n",
        ").to(device)"
      ]
    },
    {
      "cell_type": "markdown",
      "metadata": {
        "id": "dbY2gcO6PnHu"
      },
      "source": [
        "Создадим класс для подсчёта функции потерь и оптимизатор:"
      ]
    },
    {
      "cell_type": "code",
      "execution_count": null,
      "metadata": {
        "ExecuteTime": {
          "end_time": "2021-04-01T21:39:38.737281Z",
          "start_time": "2021-04-01T21:39:38.711948Z"
        },
        "execution": {
          "iopub.execute_input": "2023-04-26T16:14:18.415813Z",
          "iopub.status.busy": "2023-04-26T16:14:18.415109Z",
          "iopub.status.idle": "2023-04-26T16:14:18.422487Z",
          "shell.execute_reply": "2023-04-26T16:14:18.421178Z",
          "shell.execute_reply.started": "2023-04-26T16:14:18.415773Z"
        },
        "id": "wNyYT4S_PnHu",
        "trusted": true
      },
      "outputs": [],
      "source": [
        "loss_fn = torch.nn.CrossEntropyLoss(reduction='mean')\n",
        "optimizer = torch.optim.Adam(model.parameters(), lr=learning_rate)"
      ]
    },
    {
      "cell_type": "markdown",
      "metadata": {
        "id": "HkVQXm7OPnHu"
      },
      "source": [
        "Попробуем обучить модель:"
      ]
    },
    {
      "cell_type": "code",
      "execution_count": null,
      "metadata": {
        "colab": {
          "base_uri": "https://localhost:8080/"
        },
        "execution": {
          "iopub.execute_input": "2023-04-26T16:14:34.460634Z",
          "iopub.status.busy": "2023-04-26T16:14:34.459824Z",
          "iopub.status.idle": "2023-04-26T16:26:14.597603Z",
          "shell.execute_reply": "2023-04-26T16:26:14.595343Z",
          "shell.execute_reply.started": "2023-04-26T16:14:34.460593Z"
        },
        "id": "YufyvEsBGtBn",
        "outputId": "9ad5e076-ec09-42c1-e92c-b5a2482f6d4a",
        "trusted": true
      },
      "outputs": [
        {
          "name": "stdout",
          "output_type": "stream",
          "text": [
            "Epoch: 1/15. Loss (Train/Test): 1.888/1.916. Accuracy (Train/Test): 0.308/0.309\n",
            "Epoch: 2/15. Loss (Train/Test): 1.545/1.674. Accuracy (Train/Test): 0.403/0.364\n",
            "Epoch: 3/15. Loss (Train/Test): 1.364/1.636. Accuracy (Train/Test): 0.472/0.358\n",
            "Epoch: 4/15. Loss (Train/Test): 1.149/1.626. Accuracy (Train/Test): 0.550/0.383\n",
            "Epoch: 5/15. Loss (Train/Test): 0.948/1.739. Accuracy (Train/Test): 0.653/0.369\n",
            "Epoch: 6/15. Loss (Train/Test): 0.716/1.971. Accuracy (Train/Test): 0.744/0.367\n",
            "Epoch: 7/15. Loss (Train/Test): 0.524/2.157. Accuracy (Train/Test): 0.835/0.353\n",
            "Epoch: 8/15. Loss (Train/Test): 0.357/2.509. Accuracy (Train/Test): 0.894/0.346\n",
            "Epoch: 9/15. Loss (Train/Test): 0.213/2.869. Accuracy (Train/Test): 0.944/0.339\n",
            "Epoch: 10/15. Loss (Train/Test): 0.142/3.242. Accuracy (Train/Test): 0.966/0.320\n",
            "Epoch: 11/15. Loss (Train/Test): 0.077/3.586. Accuracy (Train/Test): 0.983/0.334\n",
            "Epoch: 12/15. Loss (Train/Test): 0.055/3.957. Accuracy (Train/Test): 0.988/0.323\n",
            "Epoch: 13/15. Loss (Train/Test): 0.036/4.175. Accuracy (Train/Test): 0.992/0.331\n",
            "Epoch: 14/15. Loss (Train/Test): 0.038/4.358. Accuracy (Train/Test): 0.991/0.334\n",
            "Epoch: 15/15. Loss (Train/Test): 0.037/4.565. Accuracy (Train/Test): 0.991/0.328\n",
            "Time: 700.1304595470428\n"
          ]
        }
      ],
      "source": [
        "pure_time = time()\n",
        "train_losses_pure, train_accuracies_pure, test_losses_pure, test_accuracies_pure = train(\n",
        "    train_dataloader, test_dataloader, model, loss_fn, optimizer, device, num_epochs\n",
        ")\n",
        "pure_time = time() - pure_time\n",
        "print(\"Time:\", pure_time)"
      ]
    },
    {
      "cell_type": "markdown",
      "metadata": {
        "id": "mEUrsSbAPnHv"
      },
      "source": [
        "Нерегуляризованные LSTM часто быстро переобучаются (и мы это видим по точности на контроле). Чтобы с этим бороться, часто используют *L2-регуляризацию* и *дропаут*.\n",
        "Однако способов накладывать дропаут на рекуррентный слой достаточно много, и далеко не все хорошо работают. По [ссылке](https://medium.com/@bingobee01/a-review-of-dropout-as-applied-to-rnns-72e79ecd5b7b) доступен хороший обзор дропаутов для RNN.\n",
        "\n",
        "Мы реализуем два варианта DropOut для RNN (и третий дополнительно). Заодно увидим, что для реализации различных усовершенствований рекуррентной архитектуры приходится \"вскрывать\" слой до различной \"глубины\"."
      ]
    },
    {
      "cell_type": "markdown",
      "metadata": {
        "id": "hbcEMfMePnHv"
      },
      "source": [
        "## `Реализация дропаута по статье Гала и Гарамани. Variational Dropout`"
      ]
    },
    {
      "cell_type": "markdown",
      "metadata": {
        "id": "_y9g9yPrPnHv"
      },
      "source": [
        "Начнем с дропаута, описанного в [статье Гала и Гарамани](https://arxiv.org/abs/1512.05287).\n",
        "Для этого нам потребуется перейти от использования слоя `torch.nn.LSTM`, полностью скрывающего от нас рекуррентную логику, к использованию слоя `torch.nn.LSTMCell`, обрабатывающего лишь один временной шаг нашей последовательности (а всю логику вокруг придется реализовать самостоятельно). \n",
        "\n",
        "Напишите класс `RNNLayer`. При `dropout=0` ваш класс должен работать как обычный слой LSTM, а при `dropout > 0` накладывать бинарную маску на входной и скрытый вектор на каждом временном шаге, причем эта маска должна быть одинаковой во все моменты времени.\n",
        "\n",
        "Дропаут Гала и Гарамани в виде формул (m обозначает маску дропаута):\n",
        "\n",
        "$$\n",
        "h_{t-1} = h_{t-1}*m_h, \\, x_t = x_t * m_x\n",
        "$$\n",
        "\n",
        "Далее обычный шаг рекуррентной архитектуры, например, LSTM:\n",
        "\n",
        "$$\n",
        "i = \\sigma(h_{t-1}W^i + x_t U^i+b_i) \\quad\n",
        "o = \\sigma(h_{t-1}W^o + x_t U^o+b_o) \n",
        "$$\n",
        "$$\n",
        "f = \\sigma(h_{t-1}W^f + x_t U^f+b_f) \\quad \n",
        "g = tanh(h_{t-1} W^g + x_t U^g+b_g) \n",
        "$$\n",
        "$$\n",
        "c_t = f \\odot c_{t-1} +  i \\odot  g \\quad\n",
        "h_t =  o \\odot tanh(c_t)\n",
        "$$"
      ]
    },
    {
      "cell_type": "code",
      "execution_count": 14,
      "metadata": {
        "ExecuteTime": {
          "end_time": "2021-04-02T00:05:14.068954Z",
          "start_time": "2021-04-02T00:05:13.971286Z"
        },
        "execution": {
          "iopub.execute_input": "2023-04-26T16:26:14.600066Z",
          "iopub.status.busy": "2023-04-26T16:26:14.599756Z",
          "iopub.status.idle": "2023-04-26T16:26:14.605972Z",
          "shell.execute_reply": "2023-04-26T16:26:14.604680Z",
          "shell.execute_reply.started": "2023-04-26T16:26:14.600036Z"
        },
        "id": "IPwwgqKyPnHv",
        "trusted": true
      },
      "outputs": [],
      "source": [
        "def init_h0_c0(num_objects, hidden_size, some_existing_tensor):\n",
        "    \"\"\"\n",
        "    return h0 and c0, use some_existing_tensor.new_zeros() to gen them\n",
        "    h0 shape: num_objects x hidden_size\n",
        "    c0 shape: num_objects x hidden_size\n",
        "    \"\"\"\n",
        "    return some_existing_tensor.new_zeros((num_objects, hidden_size)), \\\n",
        "           some_existing_tensor.new_zeros((num_objects, hidden_size))"
      ]
    },
    {
      "cell_type": "code",
      "execution_count": 15,
      "metadata": {
        "ExecuteTime": {
          "end_time": "2021-04-02T00:05:14.131347Z",
          "start_time": "2021-04-02T00:05:14.071577Z"
        },
        "execution": {
          "iopub.execute_input": "2023-04-26T16:26:14.608481Z",
          "iopub.status.busy": "2023-04-26T16:26:14.607702Z",
          "iopub.status.idle": "2023-04-26T16:26:14.617062Z",
          "shell.execute_reply": "2023-04-26T16:26:14.615970Z",
          "shell.execute_reply.started": "2023-04-26T16:26:14.608440Z"
        },
        "id": "yTMdZe56PnHv",
        "trusted": true
      },
      "outputs": [],
      "source": [
        "def gen_dropout_mask(input_size, hidden_size, is_training, p, some_existing_tensor):\n",
        "    \"\"\"\n",
        "    is_training: if True, gen masks from Bernoulli\n",
        "                 if False, gen masks consisting of (1-p)\n",
        "    \n",
        "    return dropout masks of size input_size, hidden_size if p is not None\n",
        "    return one masks if p is None\n",
        "    \"\"\"\n",
        "    if p is None:\n",
        "        return some_existing_tensor.new_ones((input_size, )), some_existing_tensor.new_ones((hidden_size, ))\n",
        "    if is_training:\n",
        "        probs_inp = some_existing_tensor.new_full((input_size, ), 1 - p)\n",
        "        probs_hid = some_existing_tensor.new_full((hidden_size, ), 1 - p)\n",
        "        return torch.bernoulli(probs_inp), torch.bernoulli(probs_hid)\n",
        "    else:\n",
        "        return some_existing_tensor.new_full((input_size, ), 1 - p), some_existing_tensor.new_full((hidden_size, ), 1 - p)"
      ]
    },
    {
      "cell_type": "code",
      "execution_count": 16,
      "metadata": {
        "ExecuteTime": {
          "end_time": "2021-04-02T00:05:14.190066Z",
          "start_time": "2021-04-02T00:05:14.132804Z"
        },
        "execution": {
          "iopub.execute_input": "2023-04-26T16:26:14.620695Z",
          "iopub.status.busy": "2023-04-26T16:26:14.620047Z",
          "iopub.status.idle": "2023-04-26T16:26:14.629253Z",
          "shell.execute_reply": "2023-04-26T16:26:14.628459Z",
          "shell.execute_reply.started": "2023-04-26T16:26:14.620660Z"
        },
        "id": "8e3yGchiPnHw",
        "trusted": true
      },
      "outputs": [],
      "source": [
        "class RNNLayer(torch.nn.Module):\n",
        "    def __init__(self, input_size, hidden_size, dropout=None):\n",
        "        super().__init__()\n",
        "\n",
        "        self.dropout = dropout\n",
        "        self.input_size = input_size\n",
        "        self.hidden_size = hidden_size\n",
        "        \n",
        "        self.rnn_cell = torch.nn.LSTMCell(self.input_size, self.hidden_size)\n",
        "        \n",
        "    def forward(self, x):\n",
        "        # x shape is (L, N, input_size) where N is num of batches\n",
        "        h_0, c_0 = init_h0_c0(x.shape[1], self.hidden_size, x)\n",
        "        \n",
        "        # Gen masks for input and hidden state\n",
        "        mask_x, mask_h = gen_dropout_mask(self.input_size, self.hidden_size, self.training, self.dropout, x)\n",
        "        \n",
        "        output = []\n",
        "        h_t, c_t = h_0, c_0\n",
        "        for t in range(x.shape[0]):\n",
        "            h_t, c_t = self.rnn_cell(x[t] * mask_x, (h_t * mask_h, c_t))\n",
        "            output.append(h_t)\n",
        "\n",
        "        return torch.stack(output), (h_t, c_t)"
      ]
    },
    {
      "cell_type": "markdown",
      "metadata": {
        "id": "XPAVNnaHPnHw"
      },
      "source": [
        "Протестируйте реализованную модель с выключенным дропаутом (слой `RNNLayer` надо передать в `RNNClassifier` в качестве `rec_layer`). Замерьте время обучения. Сильно ли оно увеличилось по сравнению с `torch.nn.LSTM` (LSTM \"из коробки\")?"
      ]
    },
    {
      "cell_type": "code",
      "execution_count": null,
      "metadata": {
        "ExecuteTime": {
          "end_time": "2021-04-01T21:39:36.315652Z",
          "start_time": "2021-04-01T21:39:33.667776Z"
        },
        "execution": {
          "iopub.execute_input": "2023-04-26T16:26:14.631463Z",
          "iopub.status.busy": "2023-04-26T16:26:14.630643Z",
          "iopub.status.idle": "2023-04-26T16:26:14.693004Z",
          "shell.execute_reply": "2023-04-26T16:26:14.692074Z",
          "shell.execute_reply.started": "2023-04-26T16:26:14.631419Z"
        },
        "id": "9uEBBeDnHNUK",
        "trusted": true
      },
      "outputs": [],
      "source": [
        "model = RNNClassifier(\n",
        "    embedding_dim=embedding_dim, hidden_dim=hidden_dim, output_size=10, vocab=vocab,\n",
        "    rec_layer=RNNLayer, dropout=None\n",
        ").to(device)\n",
        "\n",
        "loss_fn = torch.nn.CrossEntropyLoss(reduction='mean')\n",
        "optimizer = torch.optim.Adam(model.parameters(), lr=learning_rate)"
      ]
    },
    {
      "cell_type": "code",
      "execution_count": null,
      "metadata": {
        "colab": {
          "base_uri": "https://localhost:8080/"
        },
        "execution": {
          "iopub.execute_input": "2023-04-26T16:26:14.694913Z",
          "iopub.status.busy": "2023-04-26T16:26:14.694556Z",
          "iopub.status.idle": "2023-04-26T17:40:07.704191Z",
          "shell.execute_reply": "2023-04-26T17:40:07.703053Z",
          "shell.execute_reply.started": "2023-04-26T16:26:14.694877Z"
        },
        "id": "_VpDxgSLG-bx",
        "outputId": "2e917222-0e82-41ae-be30-681b68e7dd9b",
        "trusted": true
      },
      "outputs": [
        {
          "name": "stdout",
          "output_type": "stream",
          "text": [
            "Epoch: 1/15. Loss (Train/Test): 1.954/1.982. Accuracy (Train/Test): 0.263/0.264\n",
            "Epoch: 2/15. Loss (Train/Test): 1.502/1.659. Accuracy (Train/Test): 0.404/0.365\n",
            "Epoch: 3/15. Loss (Train/Test): 1.325/1.615. Accuracy (Train/Test): 0.472/0.374\n",
            "Epoch: 4/15. Loss (Train/Test): 1.150/1.628. Accuracy (Train/Test): 0.548/0.385\n",
            "Epoch: 5/15. Loss (Train/Test): 0.958/1.737. Accuracy (Train/Test): 0.642/0.367\n",
            "Epoch: 6/15. Loss (Train/Test): 0.742/1.891. Accuracy (Train/Test): 0.748/0.359\n",
            "Epoch: 7/15. Loss (Train/Test): 0.552/2.154. Accuracy (Train/Test): 0.819/0.354\n",
            "Epoch: 8/15. Loss (Train/Test): 0.369/2.515. Accuracy (Train/Test): 0.889/0.341\n",
            "Epoch: 9/15. Loss (Train/Test): 0.233/2.876. Accuracy (Train/Test): 0.935/0.335\n",
            "Epoch: 10/15. Loss (Train/Test): 0.152/3.270. Accuracy (Train/Test): 0.958/0.341\n",
            "Epoch: 11/15. Loss (Train/Test): 0.091/3.617. Accuracy (Train/Test): 0.977/0.340\n",
            "Epoch: 12/15. Loss (Train/Test): 0.060/3.834. Accuracy (Train/Test): 0.987/0.328\n",
            "Epoch: 13/15. Loss (Train/Test): 0.044/4.016. Accuracy (Train/Test): 0.991/0.325\n",
            "Epoch: 14/15. Loss (Train/Test): 0.034/4.344. Accuracy (Train/Test): 0.993/0.326\n",
            "Epoch: 15/15. Loss (Train/Test): 0.037/4.516. Accuracy (Train/Test): 0.991/0.303\n",
            "Time: 4433.003581047058\n"
          ]
        }
      ],
      "source": [
        "off_dropout_time = time() \n",
        "train_losses_off_dropout, train_accuracies_off_dropout, test_losses_off_dropout, test_accuracies_off_dropout = train(\n",
        "    train_dataloader, test_dataloader, model, loss_fn, optimizer, device, num_epochs\n",
        ")\n",
        "off_dropout_time = time() - off_dropout_time\n",
        "print(\"Time:\", off_dropout_time)"
      ]
    },
    {
      "cell_type": "markdown",
      "metadata": {
        "id": "zhClqZ5oPnHw"
      },
      "source": [
        "Протестируйте полученную модель с `dropout=0.25`, вновь замерив время обучения. Получилось ли побороть переобучение? Сильно ли дольше обучается данная модель по сравнению с предыдущей? (доп. время тратится на генерацию масок дропаута)."
      ]
    },
    {
      "cell_type": "code",
      "execution_count": null,
      "metadata": {
        "ExecuteTime": {
          "end_time": "2021-04-01T21:39:36.315652Z",
          "start_time": "2021-04-01T21:39:33.667776Z"
        },
        "execution": {
          "iopub.execute_input": "2023-04-26T17:40:07.706400Z",
          "iopub.status.busy": "2023-04-26T17:40:07.705718Z",
          "iopub.status.idle": "2023-04-26T17:40:07.763125Z",
          "shell.execute_reply": "2023-04-26T17:40:07.762169Z",
          "shell.execute_reply.started": "2023-04-26T17:40:07.706360Z"
        },
        "id": "95vZ5xBEHuXR",
        "trusted": true
      },
      "outputs": [],
      "source": [
        "model = RNNClassifier(\n",
        "    embedding_dim=embedding_dim, hidden_dim=hidden_dim, output_size=10, vocab=vocab,\n",
        "    rec_layer=RNNLayer, dropout=0.25\n",
        ").to(device)\n",
        "\n",
        "loss_fn = torch.nn.CrossEntropyLoss(reduction='mean')\n",
        "optimizer = torch.optim.Adam(model.parameters(), lr=learning_rate)"
      ]
    },
    {
      "cell_type": "code",
      "execution_count": null,
      "metadata": {
        "colab": {
          "base_uri": "https://localhost:8080/"
        },
        "execution": {
          "iopub.execute_input": "2023-04-26T17:40:07.765233Z",
          "iopub.status.busy": "2023-04-26T17:40:07.764666Z",
          "iopub.status.idle": "2023-04-26T18:53:20.817545Z",
          "shell.execute_reply": "2023-04-26T18:53:20.816343Z",
          "shell.execute_reply.started": "2023-04-26T17:40:07.765194Z"
        },
        "id": "sxTyhpDFHuXs",
        "outputId": "e5513e73-b1b4-4a32-b387-7e65807e90e1",
        "trusted": true
      },
      "outputs": [
        {
          "name": "stdout",
          "output_type": "stream",
          "text": [
            "Epoch: 1/15. Loss (Train/Test): 1.845/1.876. Accuracy (Train/Test): 0.318/0.313\n",
            "Epoch: 2/15. Loss (Train/Test): 1.603/1.683. Accuracy (Train/Test): 0.373/0.358\n",
            "Epoch: 3/15. Loss (Train/Test): 1.470/1.622. Accuracy (Train/Test): 0.415/0.370\n",
            "Epoch: 4/15. Loss (Train/Test): 1.380/1.632. Accuracy (Train/Test): 0.449/0.376\n",
            "Epoch: 5/15. Loss (Train/Test): 1.257/1.566. Accuracy (Train/Test): 0.512/0.384\n",
            "Epoch: 6/15. Loss (Train/Test): 1.149/1.578. Accuracy (Train/Test): 0.540/0.401\n",
            "Epoch: 7/15. Loss (Train/Test): 1.056/1.608. Accuracy (Train/Test): 0.589/0.393\n",
            "Epoch: 8/15. Loss (Train/Test): 0.963/1.636. Accuracy (Train/Test): 0.633/0.396\n",
            "Epoch: 9/15. Loss (Train/Test): 0.894/1.685. Accuracy (Train/Test): 0.657/0.398\n",
            "Epoch: 10/15. Loss (Train/Test): 0.805/1.756. Accuracy (Train/Test): 0.704/0.385\n",
            "Epoch: 11/15. Loss (Train/Test): 0.713/1.793. Accuracy (Train/Test): 0.753/0.386\n",
            "Epoch: 12/15. Loss (Train/Test): 0.650/1.868. Accuracy (Train/Test): 0.777/0.377\n",
            "Epoch: 13/15. Loss (Train/Test): 0.617/1.939. Accuracy (Train/Test): 0.776/0.392\n",
            "Epoch: 14/15. Loss (Train/Test): 0.493/2.011. Accuracy (Train/Test): 0.844/0.379\n",
            "Epoch: 15/15. Loss (Train/Test): 0.429/2.107. Accuracy (Train/Test): 0.873/0.368\n",
            "Time: 4393.046450376511\n"
          ]
        }
      ],
      "source": [
        "dropout_25_time = time() \n",
        "train_losses_25_dropout, train_accuracies_25_dropout, test_losses_25_dropout, test_accuracies_25_dropout = train(\n",
        "    train_dataloader, test_dataloader, model, loss_fn, optimizer, device, num_epochs\n",
        ")\n",
        "dropout_25_time = time() - dropout_25_time\n",
        "print(\"Time:\", dropout_25_time)"
      ]
    },
    {
      "cell_type": "markdown",
      "metadata": {
        "id": "n1DX8j_TPnHx"
      },
      "source": [
        "## `Реализация дропаута по статье Гала и Гарамани. Дубль 2`"
      ]
    },
    {
      "cell_type": "markdown",
      "metadata": {
        "id": "XjbHGUzpPnHx"
      },
      "source": [
        "<начало взлома pytorch>"
      ]
    },
    {
      "cell_type": "markdown",
      "metadata": {
        "id": "FR_M5YkxPnHx"
      },
      "source": [
        "При разворачивании цикла по времени средствами python обучение рекуррентной нейросети сильно замедляется. Однако для реализации дропаута Гала и Гарамани необязательно явно задавать в коде умножение нейронов на маски. Можно схитрить и обойтись использованием слоя `torch.nn.LSTM`: перед вызовом `forward` слоя `torch.nn.LSTM` подменять его веса на веса, домноженные по строкам на маски. А обучаемые веса хранить отдельно. Именно так этот дропаут реализован в библиотеке `fastai`.\n",
        "\n",
        "Такой слой реализуется в виде обертки над `torch.nn.LSTM`."
      ]
    },
    {
      "cell_type": "code",
      "execution_count": 17,
      "metadata": {
        "ExecuteTime": {
          "end_time": "2021-04-02T02:06:54.953123Z",
          "start_time": "2021-04-02T02:06:54.917017Z"
        },
        "execution": {
          "iopub.execute_input": "2023-04-26T18:53:20.829128Z",
          "iopub.status.busy": "2023-04-26T18:53:20.828606Z",
          "iopub.status.idle": "2023-04-26T18:53:20.842305Z",
          "shell.execute_reply": "2023-04-26T18:53:20.841249Z",
          "shell.execute_reply.started": "2023-04-26T18:53:20.829092Z"
        },
        "id": "ZFIQsuImPnHx",
        "trusted": true
      },
      "outputs": [],
      "source": [
        "import warnings\n",
        "\n",
        "class FastRNNLayer(torch.nn.Module):\n",
        "    def __init__(self, input_size, hidden_size, dropout=None, layers_dropout=0.0, num_layers=1):\n",
        "        super().__init__()\n",
        "\n",
        "        self.input_size = input_size\n",
        "        self.hidden_size = hidden_size\n",
        "\n",
        "        self.num_layers = num_layers\n",
        "\n",
        "        self.dropout = dropout\n",
        "        self.layers_dropout = layers_dropout\n",
        "        self.module = torch.nn.LSTM(input_size, hidden_size, dropout=layers_dropout, num_layers=num_layers)\n",
        "\n",
        "        self.layer_names = []\n",
        "        for layer_n in range(self.num_layers):\n",
        "            self.layer_names += [f'weight_hh_l{layer_n}', f'weight_ih_l{layer_n}']\n",
        "\n",
        "        for layer in self.layer_names:\n",
        "            w = getattr(self.module, layer)\n",
        "            delattr(self.module, layer)\n",
        "            self.register_parameter(f'{layer}_raw', torch.nn.Parameter(w.data))\n",
        "\n",
        "            # Note. In torch.nn.LSTM.forward parameter with name `layer` will be used\n",
        "            #     so we must initialize it using `layer_raw` before forward pass\n",
        "\n",
        "    def _setweights(self, x):\n",
        "        \"\"\"\n",
        "            Apply dropout to the raw weights.\n",
        "        \"\"\"\n",
        "        for layer in self.layer_names:\n",
        "            raw_w = getattr(self, f'{layer}_raw')\n",
        "            mask_w, _ = gen_dropout_mask(raw_w.size()[1], 0, self.training, self.dropout, raw_w)\n",
        "            masked_raw_w = raw_w * mask_w\n",
        "            setattr(self.module, layer, masked_raw_w)\n",
        "\n",
        "    def forward(self, x, h_c=None):\n",
        "        \"\"\"\n",
        "        :param x: tensor containing the features of the input sequence.\n",
        "        :param Optional[Tuple[torch.Tensor, torch.Tensor]] h_c: initial hidden state and initial cell state\n",
        "        \"\"\"\n",
        "        with warnings.catch_warnings():\n",
        "            # To avoid the warning that comes because the weights aren't flattened.\n",
        "            warnings.simplefilter(\"ignore\")\n",
        "\n",
        "            self._setweights(x)\n",
        "            if h_c is None:\n",
        "                return self.module(x)\n",
        "            else:\n",
        "                return self.module(x, h_c)\n",
        "\n",
        "            \n",
        "    def reset(self):\n",
        "        if hasattr(self.module, 'reset'):\n",
        "            self.module.reset()"
      ]
    },
    {
      "cell_type": "markdown",
      "metadata": {
        "id": "YnQb8H0OPnHx"
      },
      "source": [
        "Протестируйте реализованную модель с выключенным дропаутом (слой `FastRNNLayer` надо передать в `RNNClassifier` в качестве `rec_layer`). Замерьте время обучения. Убедитесь, что модель выдаёт такое же качество, как и оригинальная реализация LSTM."
      ]
    },
    {
      "cell_type": "code",
      "execution_count": null,
      "metadata": {
        "execution": {
          "iopub.execute_input": "2023-04-26T18:53:20.844326Z",
          "iopub.status.busy": "2023-04-26T18:53:20.843894Z",
          "iopub.status.idle": "2023-04-26T18:53:20.921001Z",
          "shell.execute_reply": "2023-04-26T18:53:20.920073Z",
          "shell.execute_reply.started": "2023-04-26T18:53:20.844291Z"
        },
        "id": "LguOV7v6pOuo",
        "trusted": true
      },
      "outputs": [],
      "source": [
        "model = RNNClassifier(\n",
        "    embedding_dim=embedding_dim, hidden_dim=hidden_dim, output_size=10, vocab=vocab,\n",
        "    rec_layer=FastRNNLayer, dropout=None\n",
        ").to(device)\n",
        "\n",
        "loss_fn = torch.nn.CrossEntropyLoss(reduction='mean')\n",
        "optimizer = torch.optim.Adam(model.parameters(), lr=learning_rate)"
      ]
    },
    {
      "cell_type": "code",
      "execution_count": null,
      "metadata": {
        "colab": {
          "base_uri": "https://localhost:8080/"
        },
        "execution": {
          "iopub.execute_input": "2023-04-26T18:53:20.922941Z",
          "iopub.status.busy": "2023-04-26T18:53:20.922364Z",
          "iopub.status.idle": "2023-04-26T19:05:13.332427Z",
          "shell.execute_reply": "2023-04-26T19:05:13.331243Z",
          "shell.execute_reply.started": "2023-04-26T18:53:20.922897Z"
        },
        "id": "UykYNQbYpQkL",
        "outputId": "71f41391-b5c9-49d2-8272-eab63510be24",
        "trusted": true
      },
      "outputs": [
        {
          "name": "stdout",
          "output_type": "stream",
          "text": [
            "Epoch: 1/15. Loss (Train/Test): 1.809/1.846. Accuracy (Train/Test): 0.328/0.326\n",
            "Epoch: 2/15. Loss (Train/Test): 1.567/1.694. Accuracy (Train/Test): 0.393/0.356\n",
            "Epoch: 3/15. Loss (Train/Test): 1.380/1.623. Accuracy (Train/Test): 0.454/0.380\n",
            "Epoch: 4/15. Loss (Train/Test): 1.185/1.644. Accuracy (Train/Test): 0.542/0.374\n",
            "Epoch: 5/15. Loss (Train/Test): 0.971/1.701. Accuracy (Train/Test): 0.644/0.372\n",
            "Epoch: 6/15. Loss (Train/Test): 0.789/1.924. Accuracy (Train/Test): 0.715/0.346\n",
            "Epoch: 7/15. Loss (Train/Test): 0.570/2.171. Accuracy (Train/Test): 0.814/0.351\n",
            "Epoch: 8/15. Loss (Train/Test): 0.398/2.523. Accuracy (Train/Test): 0.874/0.339\n",
            "Epoch: 9/15. Loss (Train/Test): 0.234/2.841. Accuracy (Train/Test): 0.938/0.327\n",
            "Epoch: 10/15. Loss (Train/Test): 0.162/3.195. Accuracy (Train/Test): 0.956/0.337\n",
            "Epoch: 11/15. Loss (Train/Test): 0.102/3.631. Accuracy (Train/Test): 0.976/0.311\n",
            "Epoch: 12/15. Loss (Train/Test): 0.057/3.926. Accuracy (Train/Test): 0.988/0.318\n",
            "Epoch: 13/15. Loss (Train/Test): 0.045/4.095. Accuracy (Train/Test): 0.990/0.321\n",
            "Epoch: 14/15. Loss (Train/Test): 0.033/4.381. Accuracy (Train/Test): 0.994/0.311\n",
            "Epoch: 15/15. Loss (Train/Test): 0.026/4.571. Accuracy (Train/Test): 0.995/0.309\n",
            "Time: 712.4036989212036\n"
          ]
        }
      ],
      "source": [
        "fast_off_time = time() \n",
        "train_losses_fast_off, train_accuracies_fast_off, test_losses_fast_off, test_accuracies_fast_off = train(\n",
        "    train_dataloader, test_dataloader, model, loss_fn, optimizer, device, num_epochs\n",
        ")\n",
        "fast_off_time = time() - fast_off_time\n",
        "print(\"Time:\", fast_off_time)"
      ]
    },
    {
      "cell_type": "markdown",
      "metadata": {
        "id": "MSCYk_EqPnHy"
      },
      "source": [
        "Протестируйте полученный слой (вновь подставив его в `RNNClassifier` в качестве `rec_layer`) с `dropout=0.25`. Сравните время обучения с предыдущими моделями. Проследите, чтобы качество получилось такое же, как при первой реализации этого дропаута."
      ]
    },
    {
      "cell_type": "code",
      "execution_count": null,
      "metadata": {
        "execution": {
          "iopub.execute_input": "2023-04-26T19:05:13.334985Z",
          "iopub.status.busy": "2023-04-26T19:05:13.334152Z",
          "iopub.status.idle": "2023-04-26T19:05:13.404786Z",
          "shell.execute_reply": "2023-04-26T19:05:13.403840Z",
          "shell.execute_reply.started": "2023-04-26T19:05:13.334944Z"
        },
        "id": "8quLLLd4pkPc",
        "trusted": true
      },
      "outputs": [],
      "source": [
        "model = RNNClassifier(\n",
        "    embedding_dim=embedding_dim, hidden_dim=hidden_dim, output_size=10, vocab=vocab,\n",
        "    rec_layer=FastRNNLayer, dropout=0.25\n",
        ").to(device)\n",
        "\n",
        "loss_fn = torch.nn.CrossEntropyLoss(reduction='mean')\n",
        "optimizer = torch.optim.Adam(model.parameters(), lr=learning_rate)"
      ]
    },
    {
      "cell_type": "code",
      "execution_count": null,
      "metadata": {
        "colab": {
          "base_uri": "https://localhost:8080/"
        },
        "execution": {
          "iopub.execute_input": "2023-04-26T19:05:13.406766Z",
          "iopub.status.busy": "2023-04-26T19:05:13.406208Z",
          "iopub.status.idle": "2023-04-26T19:17:07.244588Z",
          "shell.execute_reply": "2023-04-26T19:17:07.243415Z",
          "shell.execute_reply.started": "2023-04-26T19:05:13.406725Z"
        },
        "id": "UZsh7b49jPyQ",
        "outputId": "07b54d99-98a2-446f-97a7-438af3256ebb",
        "trusted": true
      },
      "outputs": [
        {
          "name": "stdout",
          "output_type": "stream",
          "text": [
            "Epoch: 1/15. Loss (Train/Test): 1.887/1.908. Accuracy (Train/Test): 0.303/0.298\n",
            "Epoch: 2/15. Loss (Train/Test): 1.626/1.701. Accuracy (Train/Test): 0.365/0.353\n",
            "Epoch: 3/15. Loss (Train/Test): 1.521/1.647. Accuracy (Train/Test): 0.395/0.366\n",
            "Epoch: 4/15. Loss (Train/Test): 1.391/1.587. Accuracy (Train/Test): 0.445/0.387\n",
            "Epoch: 5/15. Loss (Train/Test): 1.310/1.585. Accuracy (Train/Test): 0.474/0.395\n",
            "Epoch: 6/15. Loss (Train/Test): 1.203/1.585. Accuracy (Train/Test): 0.526/0.394\n",
            "Epoch: 7/15. Loss (Train/Test): 1.103/1.586. Accuracy (Train/Test): 0.574/0.393\n",
            "Epoch: 8/15. Loss (Train/Test): 1.032/1.619. Accuracy (Train/Test): 0.595/0.401\n",
            "Epoch: 9/15. Loss (Train/Test): 0.938/1.672. Accuracy (Train/Test): 0.636/0.396\n",
            "Epoch: 10/15. Loss (Train/Test): 0.832/1.726. Accuracy (Train/Test): 0.693/0.382\n",
            "Epoch: 11/15. Loss (Train/Test): 0.762/1.793. Accuracy (Train/Test): 0.728/0.375\n",
            "Epoch: 12/15. Loss (Train/Test): 0.672/1.819. Accuracy (Train/Test): 0.775/0.377\n",
            "Epoch: 13/15. Loss (Train/Test): 0.583/1.919. Accuracy (Train/Test): 0.807/0.371\n",
            "Epoch: 14/15. Loss (Train/Test): 0.531/1.947. Accuracy (Train/Test): 0.831/0.371\n",
            "Epoch: 15/15. Loss (Train/Test): 0.476/2.040. Accuracy (Train/Test): 0.844/0.371\n",
            "Time: 713.8319890499115\n"
          ]
        }
      ],
      "source": [
        "fast_25_time = time() \n",
        "train_losses_fast_25, train_accuracies_fast_25, test_losses_fast_25, test_accuracies_fast_25 = train(\n",
        "    train_dataloader, test_dataloader, model, loss_fn, optimizer, device, num_epochs\n",
        ")\n",
        "fast_25_time = time() - fast_25_time\n",
        "print(\"Time:\", fast_25_time)"
      ]
    },
    {
      "cell_type": "markdown",
      "metadata": {
        "id": "CcNhDm6IPnHy"
      },
      "source": [
        "</конец взлома pytorch>"
      ]
    },
    {
      "cell_type": "markdown",
      "metadata": {
        "id": "81jy7W0EPnHy"
      },
      "source": [
        "## `Реализация дропаута по статье Семениуты и др.`"
      ]
    },
    {
      "cell_type": "markdown",
      "metadata": {
        "id": "Ev-GBcOIPnHy"
      },
      "source": [
        "Перейдем к реализации дропаута для LSTM по статье [Semeniuta et al](http://www.aclweb.org/anthology/C16-1165). \n",
        "\n",
        "Этот метод применения дропаута не менее популярен, чем предыдущий. Его особенность состоит в том, что он придуман специально для гейтовых архитектур. В контексте LSTM этот дропаут накладывается только на информационный поток ($m_h$ — маска дропаута):\n",
        "$$\n",
        "i = \\sigma(h_{t-1}W^i + x_t U^i+b_i) \\quad\n",
        "o = \\sigma(h_{t-1}W^o + x_t U^o+b_o) \n",
        "$$\n",
        "$$\n",
        "f = \\sigma(h_{t-1}W^f + x_t U^f+b_f) \\quad \n",
        "g = tanh(h_{t-1} W^g + x_t U^g+b_g) \n",
        "$$\n",
        "$$\n",
        "c_t = f \\odot c_{t-1} +  i \\odot g \\odot {\\bf m_h} \\quad\n",
        "h_t =  o \\odot tanh(c_t)\n",
        "$$\n",
        "На входы $x_t$ маска накладывается как в предыдущем дропауте. Впрочем, на входы маску можно наложить вообще до вызова рекуррентного слоя.\n",
        "\n",
        "Согласно статье, маска дропаута может быть как одинаковая, так и разная для всех моментов времени. Мы сделаем одинаковую для всех моментов времени.\n",
        "\n",
        "Для реализации этого дропаута можно: \n",
        "1. самостоятельно реализовать LSTM (интерфейса LSTMCell не хватит) \n",
        "2. снова воспользоваться трюком с установкой весов (но тут мы опираемся на свойство $tanh(0)=0$, к тому же, трюк в данном случае выглядит менее тривиально, чем с дропаутом Гала). \n",
        "\n",
        "Предлагается реализовать дропаут по сценарию 1."
      ]
    },
    {
      "cell_type": "code",
      "execution_count": null,
      "metadata": {
        "ExecuteTime": {
          "end_time": "2021-04-02T00:05:14.447201Z",
          "start_time": "2021-04-02T00:05:14.350457Z"
        },
        "execution": {
          "iopub.execute_input": "2023-04-26T15:59:46.431242Z",
          "iopub.status.busy": "2023-04-26T15:59:46.430609Z",
          "iopub.status.idle": "2023-04-26T15:59:46.444212Z",
          "shell.execute_reply": "2023-04-26T15:59:46.443093Z",
          "shell.execute_reply.started": "2023-04-26T15:59:46.431201Z"
        },
        "id": "aqq5XIkzPnHy",
        "trusted": true
      },
      "outputs": [],
      "source": [
        "class HandmadeLSTM(torch.nn.Module):\n",
        "    def __init__(self, input_size, hidden_size, dropout=0.0):\n",
        "        super().__init__()\n",
        "        \n",
        "        if dropout == 0.0:\n",
        "            dropout = None\n",
        "        self.dropout = dropout\n",
        "        self.input_size = input_size\n",
        "        self.hidden_size = hidden_size\n",
        "        \n",
        "        self.input_weights = torch.nn.Linear(input_size, 4 * hidden_size)\n",
        "        self.hidden_weights = torch.nn.Linear(hidden_size, 4 * hidden_size)\n",
        "        \n",
        "        self.reset_params()\n",
        "\n",
        "    def reset_params(self):\n",
        "        \"\"\"\n",
        "        Initialization as in Pytorch. \n",
        "        Do not forget to call this method!\n",
        "        https://pytorch.org/docs/stable/_modules/torch/nn/modules/rnn.html#LSTM\n",
        "        \"\"\"\n",
        "        stdv = 1.0 / np.sqrt(self.hidden_size)\n",
        "        for weight in self.parameters():\n",
        "            torch.nn.init.uniform_(weight, -stdv, stdv)\n",
        "\n",
        "    def forward(self, x):\n",
        "        h_0, c_0 = init_h0_c0(x.shape[1], self.hidden_size, x)\n",
        "        mask_x, mask_g = gen_dropout_mask(self.input_size, self.hidden_size, self.training, self.dropout, x)\n",
        "        \n",
        "        output = []\n",
        "        h_t, c_t = h_0, c_0\n",
        "        for t in range(x.shape[0]):\n",
        "            vec = self.input_weights(x[t] * mask_x) + self.hidden_weights(h_t)\n",
        "            i = torch.sigmoid(vec[:, : self.hidden_size])\n",
        "            f = torch.sigmoid(vec[:, self.hidden_size : 2*self.hidden_size])\n",
        "            g = torch.tanh(vec[:, 2*self.hidden_size : 3*self.hidden_size])\n",
        "            o = torch.sigmoid(vec[:, 3*self.hidden_size :])\n",
        "            c_t = f * c_t + i * g * mask_g\n",
        "            h_t = o * torch.tanh(c_t)\n",
        "            output.append(h_t)\n",
        "\n",
        "        return torch.stack(output), (h_t, c_t)"
      ]
    },
    {
      "cell_type": "code",
      "execution_count": null,
      "metadata": {
        "execution": {
          "iopub.execute_input": "2023-04-26T19:17:07.247772Z",
          "iopub.status.busy": "2023-04-26T19:17:07.247449Z",
          "iopub.status.idle": "2023-04-26T19:17:07.265072Z",
          "shell.execute_reply": "2023-04-26T19:17:07.264006Z",
          "shell.execute_reply.started": "2023-04-26T19:17:07.247741Z"
        },
        "id": "mk3iq13frYIS",
        "trusted": true
      },
      "outputs": [],
      "source": [
        "import warnings\n",
        "\n",
        "class HandmadeLSTM(torch.nn.Module):\n",
        "    def __init__(self, input_size, hidden_size, dropout=0.0, layers_dropout=0.0, num_layers=1):\n",
        "        super().__init__()\n",
        "        \n",
        "        if dropout == 0.0:\n",
        "            dropout = None\n",
        "        self.dropout = dropout\n",
        "        self.input_size = input_size\n",
        "        self.hidden_size = hidden_size\n",
        "\n",
        "        self.num_layers = num_layers\n",
        "        self.layers_dropout = layers_dropout\n",
        "\n",
        "        self.module = torch.nn.LSTM(input_size, hidden_size, dropout=layers_dropout, num_layers=num_layers)\n",
        "\n",
        "        self.layer_names = []\n",
        "        for layer_n in range(self.num_layers):\n",
        "            self.layer_names += [(f'weight_hh_l{layer_n}', f'weight_ih_l{layer_n}', f'bias_ih_l{layer_n}', f'bias_hh_l{layer_n}')]\n",
        "\n",
        "        for layer in self.layer_names:\n",
        "            for sub_layer in layer:\n",
        "                w = getattr(self.module, sub_layer)\n",
        "                delattr(self.module, sub_layer)\n",
        "                self.register_parameter(f'{sub_layer}_raw', torch.nn.Parameter(w.data))\n",
        "\n",
        "\n",
        "    def _setweights(self, x):\n",
        "        \"\"\"\n",
        "            Apply dropout to the raw weights.\n",
        "        \"\"\"\n",
        "        for layer in self.layer_names:\n",
        "            layer_w_hh, layer_w_ih, layer_b_ih, layer_b_hh = layer\n",
        "            raw_w_hh = getattr(self, f'{layer_w_hh}_raw')\n",
        "            raw_w_ih = getattr(self, f'{layer_w_ih}_raw')\n",
        "            raw_b_ih = getattr(self, f'{layer_b_ih}_raw')\n",
        "            raw_b_hh = getattr(self, f'{layer_b_hh}_raw')\n",
        "\n",
        "            mask, _ = gen_dropout_mask(self.hidden_size, 0, self.training, self.dropout, raw_w_hh)\n",
        "            mask = torch.cat((raw_w_hh.new_ones((self.hidden_size, )), \n",
        "                           raw_w_hh.new_ones((self.hidden_size, )),\n",
        "                           mask,\n",
        "                           raw_w_hh.new_ones((self.hidden_size, ))))\n",
        "            \n",
        "            masked_w_hh = raw_w_hh * mask[:, None]\n",
        "            masked_w_ih = raw_w_ih * mask[:, None]\n",
        "            masked_b_ih = raw_b_ih * mask\n",
        "            masked_b_hh = raw_b_hh * mask\n",
        "\n",
        "            setattr(self.module, layer_w_hh, masked_w_hh)\n",
        "            setattr(self.module, layer_w_ih, masked_w_ih)\n",
        "            setattr(self.module, layer_b_ih, masked_b_ih)\n",
        "            setattr(self.module, layer_b_hh, masked_b_hh)\n",
        "\n",
        "    def forward(self, x, h_c=None):\n",
        "        \"\"\"\n",
        "        :param x: tensor containing the features of the input sequence.\n",
        "        :param Optional[Tuple[torch.Tensor, torch.Tensor]] h_c: initial hidden state and initial cell state\n",
        "        \"\"\"\n",
        "        with warnings.catch_warnings():\n",
        "            # To avoid the warning that comes because the weights aren't flattened.\n",
        "            warnings.simplefilter(\"ignore\")\n",
        "            mask_x, _ = gen_dropout_mask(self.input_size, 0, self.training, self.dropout, x)\n",
        "            x = x * mask_x\n",
        "            self._setweights(x)\n",
        "            if h_c is None:\n",
        "                return self.module(x)\n",
        "            else:\n",
        "                return self.module(x, h_c)\n",
        "\n",
        "            \n",
        "    def reset(self):\n",
        "        if hasattr(self.module, 'reset'):\n",
        "            self.module.reset()"
      ]
    },
    {
      "cell_type": "markdown",
      "metadata": {
        "id": "PxHgsVivPnHy"
      },
      "source": [
        "Протестируйте вашу реализацию без дропаута (проконтролируйте качество и сравните время обучения с временем обучения `torch.nn.LSTM` и `RNNLayer`), а также с `dropout=0.25`. Сравните качество модели с таким дропаутом с качеством модели с дропаутом Гала и Гарамани."
      ]
    },
    {
      "cell_type": "code",
      "execution_count": null,
      "metadata": {
        "execution": {
          "iopub.execute_input": "2023-04-26T19:17:07.267234Z",
          "iopub.status.busy": "2023-04-26T19:17:07.266771Z",
          "iopub.status.idle": "2023-04-26T19:17:07.329615Z",
          "shell.execute_reply": "2023-04-26T19:17:07.328681Z",
          "shell.execute_reply.started": "2023-04-26T19:17:07.267189Z"
        },
        "id": "asJOJHb6rYIT",
        "trusted": true
      },
      "outputs": [],
      "source": [
        "model = RNNClassifier(\n",
        "    embedding_dim=embedding_dim, hidden_dim=hidden_dim, output_size=10, vocab=vocab,\n",
        "    rec_layer=HandmadeLSTM, dropout=None\n",
        ").to(device)\n",
        "\n",
        "loss_fn = torch.nn.CrossEntropyLoss(reduction='mean')\n",
        "optimizer = torch.optim.Adam(model.parameters(), lr=learning_rate)"
      ]
    },
    {
      "cell_type": "code",
      "execution_count": null,
      "metadata": {
        "ExecuteTime": {
          "end_time": "2021-04-01T23:01:53.046622Z",
          "start_time": "2021-04-01T22:30:08.733475Z"
        },
        "execution": {
          "iopub.execute_input": "2023-04-26T19:17:07.331422Z",
          "iopub.status.busy": "2023-04-26T19:17:07.331060Z",
          "iopub.status.idle": "2023-04-26T19:29:12.936196Z",
          "shell.execute_reply": "2023-04-26T19:29:12.934767Z",
          "shell.execute_reply.started": "2023-04-26T19:17:07.331387Z"
        },
        "id": "RWJBbh5RPnHz",
        "outputId": "532f33d7-fa0d-417c-fbc4-8401844d5323",
        "trusted": true
      },
      "outputs": [
        {
          "name": "stdout",
          "output_type": "stream",
          "text": [
            "Epoch: 1/15. Loss (Train/Test): 1.983/1.989. Accuracy (Train/Test): 0.259/0.255\n",
            "Epoch: 2/15. Loss (Train/Test): 1.576/1.686. Accuracy (Train/Test): 0.385/0.361\n",
            "Epoch: 3/15. Loss (Train/Test): 1.413/1.637. Accuracy (Train/Test): 0.449/0.378\n",
            "Epoch: 4/15. Loss (Train/Test): 1.261/1.640. Accuracy (Train/Test): 0.509/0.375\n",
            "Epoch: 5/15. Loss (Train/Test): 1.109/1.658. Accuracy (Train/Test): 0.570/0.385\n",
            "Epoch: 6/15. Loss (Train/Test): 0.885/1.796. Accuracy (Train/Test): 0.679/0.360\n",
            "Epoch: 7/15. Loss (Train/Test): 0.672/2.011. Accuracy (Train/Test): 0.765/0.361\n",
            "Epoch: 8/15. Loss (Train/Test): 0.506/2.241. Accuracy (Train/Test): 0.840/0.332\n",
            "Epoch: 9/15. Loss (Train/Test): 0.353/2.590. Accuracy (Train/Test): 0.897/0.326\n",
            "Epoch: 10/15. Loss (Train/Test): 0.213/2.907. Accuracy (Train/Test): 0.942/0.332\n",
            "Epoch: 11/15. Loss (Train/Test): 0.139/3.228. Accuracy (Train/Test): 0.966/0.332\n",
            "Epoch: 12/15. Loss (Train/Test): 0.091/3.517. Accuracy (Train/Test): 0.979/0.329\n",
            "Epoch: 13/15. Loss (Train/Test): 0.055/3.924. Accuracy (Train/Test): 0.988/0.323\n",
            "Epoch: 14/15. Loss (Train/Test): 0.041/4.209. Accuracy (Train/Test): 0.991/0.316\n",
            "Epoch: 15/15. Loss (Train/Test): 0.028/4.348. Accuracy (Train/Test): 0.994/0.319\n",
            "Time: 725.5988471508026\n"
          ]
        }
      ],
      "source": [
        "Sem_off_time = time() \n",
        "train_losses_sem_off, train_accuracies_sem_off, test_losses_sem_off, test_accuracies_sem_off = train(\n",
        "    train_dataloader, test_dataloader, model, loss_fn, optimizer, device, num_epochs\n",
        ")\n",
        "Sem_off_time = time() - Sem_off_time\n",
        "print(\"Time:\", Sem_off_time)"
      ]
    },
    {
      "cell_type": "code",
      "execution_count": null,
      "metadata": {
        "execution": {
          "iopub.execute_input": "2023-04-26T16:00:08.596328Z",
          "iopub.status.busy": "2023-04-26T16:00:08.595932Z",
          "iopub.status.idle": "2023-04-26T16:00:11.592700Z",
          "shell.execute_reply": "2023-04-26T16:00:11.591637Z",
          "shell.execute_reply.started": "2023-04-26T16:00:08.596288Z"
        },
        "id": "qBMQmcIJrYIT",
        "trusted": true
      },
      "outputs": [],
      "source": [
        "model = RNNClassifier(\n",
        "    embedding_dim=embedding_dim, hidden_dim=hidden_dim, output_size=10, vocab=vocab,\n",
        "    rec_layer=HandmadeLSTM, dropout=0.25\n",
        ").to(device)\n",
        "\n",
        "loss_fn = torch.nn.CrossEntropyLoss(reduction='mean')\n",
        "optimizer = torch.optim.Adam(model.parameters(), lr=learning_rate)"
      ]
    },
    {
      "cell_type": "code",
      "execution_count": null,
      "metadata": {
        "ExecuteTime": {
          "end_time": "2021-04-01T23:33:28.808063Z",
          "start_time": "2021-04-01T23:01:53.049547Z"
        },
        "execution": {
          "iopub.execute_input": "2023-04-26T16:00:12.976607Z",
          "iopub.status.busy": "2023-04-26T16:00:12.975889Z",
          "iopub.status.idle": "2023-04-26T16:12:48.380182Z",
          "shell.execute_reply": "2023-04-26T16:12:48.378888Z",
          "shell.execute_reply.started": "2023-04-26T16:00:12.976567Z"
        },
        "id": "RLgLI74JPnHz",
        "outputId": "08e9b74d-29ff-480e-8556-b795e3d1824e",
        "trusted": true
      },
      "outputs": [
        {
          "name": "stdout",
          "output_type": "stream",
          "text": [
            "Epoch: 1/15. Loss (Train/Test): 1.918/1.943. Accuracy (Train/Test): 0.293/0.291\n",
            "Epoch: 2/15. Loss (Train/Test): 1.673/1.750. Accuracy (Train/Test): 0.354/0.338\n",
            "Epoch: 3/15. Loss (Train/Test): 1.566/1.700. Accuracy (Train/Test): 0.382/0.356\n",
            "Epoch: 4/15. Loss (Train/Test): 1.437/1.643. Accuracy (Train/Test): 0.429/0.368\n",
            "Epoch: 5/15. Loss (Train/Test): 1.367/1.646. Accuracy (Train/Test): 0.451/0.387\n",
            "Epoch: 6/15. Loss (Train/Test): 1.261/1.609. Accuracy (Train/Test): 0.491/0.395\n",
            "Epoch: 7/15. Loss (Train/Test): 1.193/1.662. Accuracy (Train/Test): 0.520/0.390\n",
            "Epoch: 8/15. Loss (Train/Test): 1.113/1.684. Accuracy (Train/Test): 0.556/0.378\n",
            "Epoch: 9/15. Loss (Train/Test): 1.022/1.767. Accuracy (Train/Test): 0.593/0.378\n",
            "Epoch: 10/15. Loss (Train/Test): 0.971/1.806. Accuracy (Train/Test): 0.608/0.394\n",
            "Epoch: 11/15. Loss (Train/Test): 0.912/1.879. Accuracy (Train/Test): 0.635/0.388\n",
            "Epoch: 12/15. Loss (Train/Test): 0.837/1.923. Accuracy (Train/Test): 0.676/0.386\n",
            "Epoch: 13/15. Loss (Train/Test): 0.769/1.935. Accuracy (Train/Test): 0.701/0.387\n",
            "Epoch: 14/15. Loss (Train/Test): 0.687/2.041. Accuracy (Train/Test): 0.744/0.378\n",
            "Epoch: 15/15. Loss (Train/Test): 0.634/2.109. Accuracy (Train/Test): 0.765/0.377\n",
            "Time: 755.3978881835938\n"
          ]
        }
      ],
      "source": [
        "Sem_25_time = time() \n",
        "train_losses_sem_25, train_accuracies_sem_25, test_losses_sem_25, test_accuracies_sem_25 = train(\n",
        "    train_dataloader, test_dataloader, model, loss_fn, optimizer, device, num_epochs\n",
        ")\n",
        "Sem_25_time = time() - Sem_25_time\n",
        "print(\"Time:\", Sem_25_time)"
      ]
    },
    {
      "cell_type": "markdown",
      "metadata": {
        "ExecuteTime": {
          "end_time": "2021-04-01T23:33:28.831346Z",
          "start_time": "2021-04-01T23:33:28.810453Z"
        },
        "id": "kwunYDAiPnHz"
      },
      "source": [
        "## `Сравнение всех предложенных моделей`"
      ]
    },
    {
      "cell_type": "markdown",
      "metadata": {
        "ExecuteTime": {
          "end_time": "2021-04-01T23:48:05.361634Z",
          "start_time": "2021-04-01T23:48:05.333901Z"
        },
        "id": "akAL2JbHPnHz"
      },
      "source": [
        "Используя замеры времени заполните табличку с временем работы четырёх реализованных моделей в следующей ячейке:"
      ]
    },
    {
      "cell_type": "markdown",
      "metadata": {
        "id": "1XfdgPzAPnHz"
      },
      "source": [
        "| torch.nn.LSTM | RNNLayer | FastRNNLayer | HandmadeLSTM |\n",
        "|---------------|----------|--------------|--------------|\n",
        "| 11m 40s        | 73m 53s  | 11m 52s       | 12m 05s      |"
      ]
    },
    {
      "cell_type": "markdown",
      "metadata": {
        "id": "taaxohTdrYIU"
      },
      "source": [
        "Обучение получилось чуть дольше чем ожидалось, потому что я по глупости использовал генератор с питоновским циклом в RNNClassifier, но затем исправил эту досадную ошибку."
      ]
    },
    {
      "cell_type": "code",
      "execution_count": null,
      "metadata": {
        "ExecuteTime": {
          "end_time": "2021-04-02T00:05:14.722913Z",
          "start_time": "2021-04-02T00:05:14.448857Z"
        },
        "execution": {
          "iopub.execute_input": "2023-04-26T19:41:23.849218Z",
          "iopub.status.busy": "2023-04-26T19:41:23.848524Z",
          "iopub.status.idle": "2023-04-26T19:41:23.855838Z",
          "shell.execute_reply": "2023-04-26T19:41:23.854592Z",
          "shell.execute_reply.started": "2023-04-26T19:41:23.849176Z"
        },
        "id": "o5ZfnEIRPnHz",
        "trusted": true
      },
      "outputs": [],
      "source": [
        "import matplotlib.pyplot as plt"
      ]
    },
    {
      "cell_type": "code",
      "execution_count": null,
      "metadata": {
        "ExecuteTime": {
          "end_time": "2021-04-02T00:05:14.745238Z",
          "start_time": "2021-04-02T00:05:14.724188Z"
        },
        "execution": {
          "iopub.execute_input": "2023-04-26T19:43:51.061350Z",
          "iopub.status.busy": "2023-04-26T19:43:51.060473Z",
          "iopub.status.idle": "2023-04-26T19:43:51.067870Z",
          "shell.execute_reply": "2023-04-26T19:43:51.066614Z",
          "shell.execute_reply.started": "2023-04-26T19:43:51.061301Z"
        },
        "id": "CVeY--gaPnHz",
        "trusted": true
      },
      "outputs": [],
      "source": [
        "%matplotlib inline\n",
        "\n",
        "import matplotlib_inline.backend_inline\n",
        "\n",
        "matplotlib_inline.backend_inline.set_matplotlib_formats('pdf', 'svg')"
      ]
    },
    {
      "cell_type": "markdown",
      "metadata": {
        "id": "IbeLJyI_PnH0"
      },
      "source": [
        "Нарисуйте два графика — функция потерь и качество на обучающей и тестовой выборке для всех 7 моделей обученных выше."
      ]
    },
    {
      "cell_type": "code",
      "execution_count": null,
      "metadata": {
        "execution": {
          "iopub.execute_input": "2023-04-26T19:47:44.158009Z",
          "iopub.status.busy": "2023-04-26T19:47:44.157517Z",
          "iopub.status.idle": "2023-04-26T19:47:45.925043Z",
          "shell.execute_reply": "2023-04-26T19:47:45.924080Z",
          "shell.execute_reply.started": "2023-04-26T19:47:44.157969Z"
        },
        "id": "QcA6m5yurYIV",
        "outputId": "47ac255a-536e-458a-b31c-c03e2be5514f",
        "trusted": true
      },
      "outputs": [
        {
          "data": {
            "application/pdf": "[encoded data removed]",
            "image/svg+xml": [
              "<?xml version=\"1.0\" encoding=\"utf-8\" standalone=\"no\"?>\n",
              "<!DOCTYPE svg PUBLIC \"-//W3C//DTD SVG 1.1//EN\"\n",
              "  \"http://www.w3.org/Graphics/SVG/1.1/DTD/svg11.dtd\">\n",
              "<svg xmlns:xlink=\"http://www.w3.org/1999/xlink\" width=\"712.773125pt\" height=\"712.474375pt\" viewBox=\"0 0 712.773125 712.474375\" xmlns=\"http://www.w3.org/2000/svg\" version=\"1.1\">\n",
              " <metadata>\n",
              "  <rdf:RDF xmlns:dc=\"http://purl.org/dc/elements/1.1/\" xmlns:cc=\"http://creativecommons.org/ns#\" xmlns:rdf=\"http://www.w3.org/1999/02/22-rdf-syntax-ns#\">\n",
              "   <cc:Work>\n",
              "    <dc:type rdf:resource=\"http://purl.org/dc/dcmitype/StillImage\"/>\n",
              "    <dc:date>2023-04-26T19:47:44.885156</dc:date>\n",
              "    <dc:format>image/svg+xml</dc:format>\n",
              "    <dc:creator>\n",
              "     <cc:Agent>\n",
              "      <dc:title>Matplotlib v3.5.3, https://matplotlib.org/</dc:title>\n",
              "     </cc:Agent>\n",
              "    </dc:creator>\n",
              "   </cc:Work>\n",
              "  </rdf:RDF>\n",
              " </metadata>\n",
              " <defs>\n",
              "  <style type=\"text/css\">*{stroke-linejoin: round; stroke-linecap: butt}</style>\n",
              " </defs>\n",
              " <g id=\"figure_1\">\n",
              "  <g id=\"patch_1\">\n",
              "   <path d=\"M 0 712.474375 \n",
              "L 712.773125 712.474375 \n",
              "L 712.773125 0 \n",
              "L 0 0 \n",
              "z\n",
              "\" style=\"fill: #ffffff\"/>\n",
              "  </g>\n",
              "  <g id=\"axes_1\">\n",
              "   <g id=\"patch_2\">\n",
              "    <path d=\"M 30.103125 320.318125 \n",
              "L 705.573125 320.318125 \n",
              "L 705.573125 22.318125 \n",
              "L 30.103125 22.318125 \n",
              "z\n",
              "\" style=\"fill: #ffffff\"/>\n",
              "   </g>\n",
              "   <g id=\"matplotlib.axis_1\">\n",
              "    <g id=\"xtick_1\">\n",
              "     <g id=\"line2d_1\">\n",
              "      <path d=\"M 60.806307 320.318125 \n",
              "L 60.806307 22.318125 \n",
              "\" clip-path=\"url(#p870ea54cda)\" style=\"fill: none; stroke: #b0b0b0; stroke-width: 0.8; stroke-linecap: square\"/>\n",
              "     </g>\n",
              "     <g id=\"line2d_2\">\n",
              "      <defs>\n",
              "       <path id=\"me763055caa\" d=\"M 0 0 \n",
              "L 0 3.5 \n",
              "\" style=\"stroke: #000000; stroke-width: 0.8\"/>\n",
              "      </defs>\n",
              "      <g>\n",
              "       <use xlink:href=\"#me763055caa\" x=\"60.806307\" y=\"320.318125\" style=\"stroke: #000000; stroke-width: 0.8\"/>\n",
              "      </g>\n",
              "     </g>\n",
              "     <g id=\"text_1\">\n",
              "      <!-- 0 -->\n",
              "      <g transform=\"translate(57.625057 334.916562)scale(0.1 -0.1)\">\n",
              "       <defs>\n",
              "        <path id=\"DejaVuSans-30\" d=\"M 2034 4250 \n",
              "Q 1547 4250 1301 3770 \n",
              "Q 1056 3291 1056 2328 \n",
              "Q 1056 1369 1301 889 \n",
              "Q 1547 409 2034 409 \n",
              "Q 2525 409 2770 889 \n",
              "Q 3016 1369 3016 2328 \n",
              "Q 3016 3291 2770 3770 \n",
              "Q 2525 4250 2034 4250 \n",
              "z\n",
              "M 2034 4750 \n",
              "Q 2819 4750 3233 4129 \n",
              "Q 3647 3509 3647 2328 \n",
              "Q 3647 1150 3233 529 \n",
              "Q 2819 -91 2034 -91 \n",
              "Q 1250 -91 836 529 \n",
              "Q 422 1150 422 2328 \n",
              "Q 422 3509 836 4129 \n",
              "Q 1250 4750 2034 4750 \n",
              "z\n",
              "\" transform=\"scale(0.015625)\"/>\n",
              "       </defs>\n",
              "       <use xlink:href=\"#DejaVuSans-30\"/>\n",
              "      </g>\n",
              "     </g>\n",
              "    </g>\n",
              "    <g id=\"xtick_2\">\n",
              "     <g id=\"line2d_3\">\n",
              "      <path d=\"M 148.529683 320.318125 \n",
              "L 148.529683 22.318125 \n",
              "\" clip-path=\"url(#p870ea54cda)\" style=\"fill: none; stroke: #b0b0b0; stroke-width: 0.8; stroke-linecap: square\"/>\n",
              "     </g>\n",
              "     <g id=\"line2d_4\">\n",
              "      <g>\n",
              "       <use xlink:href=\"#me763055caa\" x=\"148.529683\" y=\"320.318125\" style=\"stroke: #000000; stroke-width: 0.8\"/>\n",
              "      </g>\n",
              "     </g>\n",
              "     <g id=\"text_2\">\n",
              "      <!-- 2 -->\n",
              "      <g transform=\"translate(145.348433 334.916562)scale(0.1 -0.1)\">\n",
              "       <defs>\n",
              "        <path id=\"DejaVuSans-32\" d=\"M 1228 531 \n",
              "L 3431 531 \n",
              "L 3431 0 \n",
              "L 469 0 \n",
              "L 469 531 \n",
              "Q 828 903 1448 1529 \n",
              "Q 2069 2156 2228 2338 \n",
              "Q 2531 2678 2651 2914 \n",
              "Q 2772 3150 2772 3378 \n",
              "Q 2772 3750 2511 3984 \n",
              "Q 2250 4219 1831 4219 \n",
              "Q 1534 4219 1204 4116 \n",
              "Q 875 4013 500 3803 \n",
              "L 500 4441 \n",
              "Q 881 4594 1212 4672 \n",
              "Q 1544 4750 1819 4750 \n",
              "Q 2544 4750 2975 4387 \n",
              "Q 3406 4025 3406 3419 \n",
              "Q 3406 3131 3298 2873 \n",
              "Q 3191 2616 2906 2266 \n",
              "Q 2828 2175 2409 1742 \n",
              "Q 1991 1309 1228 531 \n",
              "z\n",
              "\" transform=\"scale(0.015625)\"/>\n",
              "       </defs>\n",
              "       <use xlink:href=\"#DejaVuSans-32\"/>\n",
              "      </g>\n",
              "     </g>\n",
              "    </g>\n",
              "    <g id=\"xtick_3\">\n",
              "     <g id=\"line2d_5\">\n",
              "      <path d=\"M 236.25306 320.318125 \n",
              "L 236.25306 22.318125 \n",
              "\" clip-path=\"url(#p870ea54cda)\" style=\"fill: none; stroke: #b0b0b0; stroke-width: 0.8; stroke-linecap: square\"/>\n",
              "     </g>\n",
              "     <g id=\"line2d_6\">\n",
              "      <g>\n",
              "       <use xlink:href=\"#me763055caa\" x=\"236.25306\" y=\"320.318125\" style=\"stroke: #000000; stroke-width: 0.8\"/>\n",
              "      </g>\n",
              "     </g>\n",
              "     <g id=\"text_3\">\n",
              "      <!-- 4 -->\n",
              "      <g transform=\"translate(233.07181 334.916562)scale(0.1 -0.1)\">\n",
              "       <defs>\n",
              "        <path id=\"DejaVuSans-34\" d=\"M 2419 4116 \n",
              "L 825 1625 \n",
              "L 2419 1625 \n",
              "L 2419 4116 \n",
              "z\n",
              "M 2253 4666 \n",
              "L 3047 4666 \n",
              "L 3047 1625 \n",
              "L 3713 1625 \n",
              "L 3713 1100 \n",
              "L 3047 1100 \n",
              "L 3047 0 \n",
              "L 2419 0 \n",
              "L 2419 1100 \n",
              "L 313 1100 \n",
              "L 313 1709 \n",
              "L 2253 4666 \n",
              "z\n",
              "\" transform=\"scale(0.015625)\"/>\n",
              "       </defs>\n",
              "       <use xlink:href=\"#DejaVuSans-34\"/>\n",
              "      </g>\n",
              "     </g>\n",
              "    </g>\n",
              "    <g id=\"xtick_4\">\n",
              "     <g id=\"line2d_7\">\n",
              "      <path d=\"M 323.976437 320.318125 \n",
              "L 323.976437 22.318125 \n",
              "\" clip-path=\"url(#p870ea54cda)\" style=\"fill: none; stroke: #b0b0b0; stroke-width: 0.8; stroke-linecap: square\"/>\n",
              "     </g>\n",
              "     <g id=\"line2d_8\">\n",
              "      <g>\n",
              "       <use xlink:href=\"#me763055caa\" x=\"323.976437\" y=\"320.318125\" style=\"stroke: #000000; stroke-width: 0.8\"/>\n",
              "      </g>\n",
              "     </g>\n",
              "     <g id=\"text_4\">\n",
              "      <!-- 6 -->\n",
              "      <g transform=\"translate(320.795187 334.916562)scale(0.1 -0.1)\">\n",
              "       <defs>\n",
              "        <path id=\"DejaVuSans-36\" d=\"M 2113 2584 \n",
              "Q 1688 2584 1439 2293 \n",
              "Q 1191 2003 1191 1497 \n",
              "Q 1191 994 1439 701 \n",
              "Q 1688 409 2113 409 \n",
              "Q 2538 409 2786 701 \n",
              "Q 3034 994 3034 1497 \n",
              "Q 3034 2003 2786 2293 \n",
              "Q 2538 2584 2113 2584 \n",
              "z\n",
              "M 3366 4563 \n",
              "L 3366 3988 \n",
              "Q 3128 4100 2886 4159 \n",
              "Q 2644 4219 2406 4219 \n",
              "Q 1781 4219 1451 3797 \n",
              "Q 1122 3375 1075 2522 \n",
              "Q 1259 2794 1537 2939 \n",
              "Q 1816 3084 2150 3084 \n",
              "Q 2853 3084 3261 2657 \n",
              "Q 3669 2231 3669 1497 \n",
              "Q 3669 778 3244 343 \n",
              "Q 2819 -91 2113 -91 \n",
              "Q 1303 -91 875 529 \n",
              "Q 447 1150 447 2328 \n",
              "Q 447 3434 972 4092 \n",
              "Q 1497 4750 2381 4750 \n",
              "Q 2619 4750 2861 4703 \n",
              "Q 3103 4656 3366 4563 \n",
              "z\n",
              "\" transform=\"scale(0.015625)\"/>\n",
              "       </defs>\n",
              "       <use xlink:href=\"#DejaVuSans-36\"/>\n",
              "      </g>\n",
              "     </g>\n",
              "    </g>\n",
              "    <g id=\"xtick_5\">\n",
              "     <g id=\"line2d_9\">\n",
              "      <path d=\"M 411.699813 320.318125 \n",
              "L 411.699813 22.318125 \n",
              "\" clip-path=\"url(#p870ea54cda)\" style=\"fill: none; stroke: #b0b0b0; stroke-width: 0.8; stroke-linecap: square\"/>\n",
              "     </g>\n",
              "     <g id=\"line2d_10\">\n",
              "      <g>\n",
              "       <use xlink:href=\"#me763055caa\" x=\"411.699813\" y=\"320.318125\" style=\"stroke: #000000; stroke-width: 0.8\"/>\n",
              "      </g>\n",
              "     </g>\n",
              "     <g id=\"text_5\">\n",
              "      <!-- 8 -->\n",
              "      <g transform=\"translate(408.518563 334.916562)scale(0.1 -0.1)\">\n",
              "       <defs>\n",
              "        <path id=\"DejaVuSans-38\" d=\"M 2034 2216 \n",
              "Q 1584 2216 1326 1975 \n",
              "Q 1069 1734 1069 1313 \n",
              "Q 1069 891 1326 650 \n",
              "Q 1584 409 2034 409 \n",
              "Q 2484 409 2743 651 \n",
              "Q 3003 894 3003 1313 \n",
              "Q 3003 1734 2745 1975 \n",
              "Q 2488 2216 2034 2216 \n",
              "z\n",
              "M 1403 2484 \n",
              "Q 997 2584 770 2862 \n",
              "Q 544 3141 544 3541 \n",
              "Q 544 4100 942 4425 \n",
              "Q 1341 4750 2034 4750 \n",
              "Q 2731 4750 3128 4425 \n",
              "Q 3525 4100 3525 3541 \n",
              "Q 3525 3141 3298 2862 \n",
              "Q 3072 2584 2669 2484 \n",
              "Q 3125 2378 3379 2068 \n",
              "Q 3634 1759 3634 1313 \n",
              "Q 3634 634 3220 271 \n",
              "Q 2806 -91 2034 -91 \n",
              "Q 1263 -91 848 271 \n",
              "Q 434 634 434 1313 \n",
              "Q 434 1759 690 2068 \n",
              "Q 947 2378 1403 2484 \n",
              "z\n",
              "M 1172 3481 \n",
              "Q 1172 3119 1398 2916 \n",
              "Q 1625 2713 2034 2713 \n",
              "Q 2441 2713 2670 2916 \n",
              "Q 2900 3119 2900 3481 \n",
              "Q 2900 3844 2670 4047 \n",
              "Q 2441 4250 2034 4250 \n",
              "Q 1625 4250 1398 4047 \n",
              "Q 1172 3844 1172 3481 \n",
              "z\n",
              "\" transform=\"scale(0.015625)\"/>\n",
              "       </defs>\n",
              "       <use xlink:href=\"#DejaVuSans-38\"/>\n",
              "      </g>\n",
              "     </g>\n",
              "    </g>\n",
              "    <g id=\"xtick_6\">\n",
              "     <g id=\"line2d_11\">\n",
              "      <path d=\"M 499.42319 320.318125 \n",
              "L 499.42319 22.318125 \n",
              "\" clip-path=\"url(#p870ea54cda)\" style=\"fill: none; stroke: #b0b0b0; stroke-width: 0.8; stroke-linecap: square\"/>\n",
              "     </g>\n",
              "     <g id=\"line2d_12\">\n",
              "      <g>\n",
              "       <use xlink:href=\"#me763055caa\" x=\"499.42319\" y=\"320.318125\" style=\"stroke: #000000; stroke-width: 0.8\"/>\n",
              "      </g>\n",
              "     </g>\n",
              "     <g id=\"text_6\">\n",
              "      <!-- 10 -->\n",
              "      <g transform=\"translate(493.06069 334.916562)scale(0.1 -0.1)\">\n",
              "       <defs>\n",
              "        <path id=\"DejaVuSans-31\" d=\"M 794 531 \n",
              "L 1825 531 \n",
              "L 1825 4091 \n",
              "L 703 3866 \n",
              "L 703 4441 \n",
              "L 1819 4666 \n",
              "L 2450 4666 \n",
              "L 2450 531 \n",
              "L 3481 531 \n",
              "L 3481 0 \n",
              "L 794 0 \n",
              "L 794 531 \n",
              "z\n",
              "\" transform=\"scale(0.015625)\"/>\n",
              "       </defs>\n",
              "       <use xlink:href=\"#DejaVuSans-31\"/>\n",
              "       <use xlink:href=\"#DejaVuSans-30\" x=\"63.623047\"/>\n",
              "      </g>\n",
              "     </g>\n",
              "    </g>\n",
              "    <g id=\"xtick_7\">\n",
              "     <g id=\"line2d_13\">\n",
              "      <path d=\"M 587.146567 320.318125 \n",
              "L 587.146567 22.318125 \n",
              "\" clip-path=\"url(#p870ea54cda)\" style=\"fill: none; stroke: #b0b0b0; stroke-width: 0.8; stroke-linecap: square\"/>\n",
              "     </g>\n",
              "     <g id=\"line2d_14\">\n",
              "      <g>\n",
              "       <use xlink:href=\"#me763055caa\" x=\"587.146567\" y=\"320.318125\" style=\"stroke: #000000; stroke-width: 0.8\"/>\n",
              "      </g>\n",
              "     </g>\n",
              "     <g id=\"text_7\">\n",
              "      <!-- 12 -->\n",
              "      <g transform=\"translate(580.784067 334.916562)scale(0.1 -0.1)\">\n",
              "       <use xlink:href=\"#DejaVuSans-31\"/>\n",
              "       <use xlink:href=\"#DejaVuSans-32\" x=\"63.623047\"/>\n",
              "      </g>\n",
              "     </g>\n",
              "    </g>\n",
              "    <g id=\"xtick_8\">\n",
              "     <g id=\"line2d_15\">\n",
              "      <path d=\"M 674.869943 320.318125 \n",
              "L 674.869943 22.318125 \n",
              "\" clip-path=\"url(#p870ea54cda)\" style=\"fill: none; stroke: #b0b0b0; stroke-width: 0.8; stroke-linecap: square\"/>\n",
              "     </g>\n",
              "     <g id=\"line2d_16\">\n",
              "      <g>\n",
              "       <use xlink:href=\"#me763055caa\" x=\"674.869943\" y=\"320.318125\" style=\"stroke: #000000; stroke-width: 0.8\"/>\n",
              "      </g>\n",
              "     </g>\n",
              "     <g id=\"text_8\">\n",
              "      <!-- 14 -->\n",
              "      <g transform=\"translate(668.507443 334.916562)scale(0.1 -0.1)\">\n",
              "       <use xlink:href=\"#DejaVuSans-31\"/>\n",
              "       <use xlink:href=\"#DejaVuSans-34\" x=\"63.623047\"/>\n",
              "      </g>\n",
              "     </g>\n",
              "    </g>\n",
              "    <g id=\"text_9\">\n",
              "     <!-- Epoch -->\n",
              "     <g transform=\"translate(352.527187 348.594687)scale(0.1 -0.1)\">\n",
              "      <defs>\n",
              "       <path id=\"DejaVuSans-45\" d=\"M 628 4666 \n",
              "L 3578 4666 \n",
              "L 3578 4134 \n",
              "L 1259 4134 \n",
              "L 1259 2753 \n",
              "L 3481 2753 \n",
              "L 3481 2222 \n",
              "L 1259 2222 \n",
              "L 1259 531 \n",
              "L 3634 531 \n",
              "L 3634 0 \n",
              "L 628 0 \n",
              "L 628 4666 \n",
              "z\n",
              "\" transform=\"scale(0.015625)\"/>\n",
              "       <path id=\"DejaVuSans-70\" d=\"M 1159 525 \n",
              "L 1159 -1331 \n",
              "L 581 -1331 \n",
              "L 581 3500 \n",
              "L 1159 3500 \n",
              "L 1159 2969 \n",
              "Q 1341 3281 1617 3432 \n",
              "Q 1894 3584 2278 3584 \n",
              "Q 2916 3584 3314 3078 \n",
              "Q 3713 2572 3713 1747 \n",
              "Q 3713 922 3314 415 \n",
              "Q 2916 -91 2278 -91 \n",
              "Q 1894 -91 1617 61 \n",
              "Q 1341 213 1159 525 \n",
              "z\n",
              "M 3116 1747 \n",
              "Q 3116 2381 2855 2742 \n",
              "Q 2594 3103 2138 3103 \n",
              "Q 1681 3103 1420 2742 \n",
              "Q 1159 2381 1159 1747 \n",
              "Q 1159 1113 1420 752 \n",
              "Q 1681 391 2138 391 \n",
              "Q 2594 391 2855 752 \n",
              "Q 3116 1113 3116 1747 \n",
              "z\n",
              "\" transform=\"scale(0.015625)\"/>\n",
              "       <path id=\"DejaVuSans-6f\" d=\"M 1959 3097 \n",
              "Q 1497 3097 1228 2736 \n",
              "Q 959 2375 959 1747 \n",
              "Q 959 1119 1226 758 \n",
              "Q 1494 397 1959 397 \n",
              "Q 2419 397 2687 759 \n",
              "Q 2956 1122 2956 1747 \n",
              "Q 2956 2369 2687 2733 \n",
              "Q 2419 3097 1959 3097 \n",
              "z\n",
              "M 1959 3584 \n",
              "Q 2709 3584 3137 3096 \n",
              "Q 3566 2609 3566 1747 \n",
              "Q 3566 888 3137 398 \n",
              "Q 2709 -91 1959 -91 \n",
              "Q 1206 -91 779 398 \n",
              "Q 353 888 353 1747 \n",
              "Q 353 2609 779 3096 \n",
              "Q 1206 3584 1959 3584 \n",
              "z\n",
              "\" transform=\"scale(0.015625)\"/>\n",
              "       <path id=\"DejaVuSans-63\" d=\"M 3122 3366 \n",
              "L 3122 2828 \n",
              "Q 2878 2963 2633 3030 \n",
              "Q 2388 3097 2138 3097 \n",
              "Q 1578 3097 1268 2742 \n",
              "Q 959 2388 959 1747 \n",
              "Q 959 1106 1268 751 \n",
              "Q 1578 397 2138 397 \n",
              "Q 2388 397 2633 464 \n",
              "Q 2878 531 3122 666 \n",
              "L 3122 134 \n",
              "Q 2881 22 2623 -34 \n",
              "Q 2366 -91 2075 -91 \n",
              "Q 1284 -91 818 406 \n",
              "Q 353 903 353 1747 \n",
              "Q 353 2603 823 3093 \n",
              "Q 1294 3584 2113 3584 \n",
              "Q 2378 3584 2631 3529 \n",
              "Q 2884 3475 3122 3366 \n",
              "z\n",
              "\" transform=\"scale(0.015625)\"/>\n",
              "       <path id=\"DejaVuSans-68\" d=\"M 3513 2113 \n",
              "L 3513 0 \n",
              "L 2938 0 \n",
              "L 2938 2094 \n",
              "Q 2938 2591 2744 2837 \n",
              "Q 2550 3084 2163 3084 \n",
              "Q 1697 3084 1428 2787 \n",
              "Q 1159 2491 1159 1978 \n",
              "L 1159 0 \n",
              "L 581 0 \n",
              "L 581 4863 \n",
              "L 1159 4863 \n",
              "L 1159 2956 \n",
              "Q 1366 3272 1645 3428 \n",
              "Q 1925 3584 2291 3584 \n",
              "Q 2894 3584 3203 3211 \n",
              "Q 3513 2838 3513 2113 \n",
              "z\n",
              "\" transform=\"scale(0.015625)\"/>\n",
              "      </defs>\n",
              "      <use xlink:href=\"#DejaVuSans-45\"/>\n",
              "      <use xlink:href=\"#DejaVuSans-70\" x=\"63.183594\"/>\n",
              "      <use xlink:href=\"#DejaVuSans-6f\" x=\"126.660156\"/>\n",
              "      <use xlink:href=\"#DejaVuSans-63\" x=\"187.841797\"/>\n",
              "      <use xlink:href=\"#DejaVuSans-68\" x=\"242.822266\"/>\n",
              "     </g>\n",
              "    </g>\n",
              "   </g>\n",
              "   <g id=\"matplotlib.axis_2\">\n",
              "    <g id=\"ytick_1\">\n",
              "     <g id=\"line2d_17\">\n",
              "      <path d=\"M 30.103125 308.32983 \n",
              "L 705.573125 308.32983 \n",
              "\" clip-path=\"url(#p870ea54cda)\" style=\"fill: none; stroke: #b0b0b0; stroke-width: 0.8; stroke-linecap: square\"/>\n",
              "     </g>\n",
              "     <g id=\"line2d_18\">\n",
              "      <defs>\n",
              "       <path id=\"m87070af6d8\" d=\"M 0 0 \n",
              "L -3.5 0 \n",
              "\" style=\"stroke: #000000; stroke-width: 0.8\"/>\n",
              "      </defs>\n",
              "      <g>\n",
              "       <use xlink:href=\"#m87070af6d8\" x=\"30.103125\" y=\"308.32983\" style=\"stroke: #000000; stroke-width: 0.8\"/>\n",
              "      </g>\n",
              "     </g>\n",
              "     <g id=\"text_10\">\n",
              "      <!-- 0 -->\n",
              "      <g transform=\"translate(16.740625 312.129049)scale(0.1 -0.1)\">\n",
              "       <use xlink:href=\"#DejaVuSans-30\"/>\n",
              "      </g>\n",
              "     </g>\n",
              "    </g>\n",
              "    <g id=\"ytick_2\">\n",
              "     <g id=\"line2d_19\">\n",
              "      <path d=\"M 30.103125 248.716953 \n",
              "L 705.573125 248.716953 \n",
              "\" clip-path=\"url(#p870ea54cda)\" style=\"fill: none; stroke: #b0b0b0; stroke-width: 0.8; stroke-linecap: square\"/>\n",
              "     </g>\n",
              "     <g id=\"line2d_20\">\n",
              "      <g>\n",
              "       <use xlink:href=\"#m87070af6d8\" x=\"30.103125\" y=\"248.716953\" style=\"stroke: #000000; stroke-width: 0.8\"/>\n",
              "      </g>\n",
              "     </g>\n",
              "     <g id=\"text_11\">\n",
              "      <!-- 1 -->\n",
              "      <g transform=\"translate(16.740625 252.516171)scale(0.1 -0.1)\">\n",
              "       <use xlink:href=\"#DejaVuSans-31\"/>\n",
              "      </g>\n",
              "     </g>\n",
              "    </g>\n",
              "    <g id=\"ytick_3\">\n",
              "     <g id=\"line2d_21\">\n",
              "      <path d=\"M 30.103125 189.104075 \n",
              "L 705.573125 189.104075 \n",
              "\" clip-path=\"url(#p870ea54cda)\" style=\"fill: none; stroke: #b0b0b0; stroke-width: 0.8; stroke-linecap: square\"/>\n",
              "     </g>\n",
              "     <g id=\"line2d_22\">\n",
              "      <g>\n",
              "       <use xlink:href=\"#m87070af6d8\" x=\"30.103125\" y=\"189.104075\" style=\"stroke: #000000; stroke-width: 0.8\"/>\n",
              "      </g>\n",
              "     </g>\n",
              "     <g id=\"text_12\">\n",
              "      <!-- 2 -->\n",
              "      <g transform=\"translate(16.740625 192.903294)scale(0.1 -0.1)\">\n",
              "       <use xlink:href=\"#DejaVuSans-32\"/>\n",
              "      </g>\n",
              "     </g>\n",
              "    </g>\n",
              "    <g id=\"ytick_4\">\n",
              "     <g id=\"line2d_23\">\n",
              "      <path d=\"M 30.103125 129.491197 \n",
              "L 705.573125 129.491197 \n",
              "\" clip-path=\"url(#p870ea54cda)\" style=\"fill: none; stroke: #b0b0b0; stroke-width: 0.8; stroke-linecap: square\"/>\n",
              "     </g>\n",
              "     <g id=\"line2d_24\">\n",
              "      <g>\n",
              "       <use xlink:href=\"#m87070af6d8\" x=\"30.103125\" y=\"129.491197\" style=\"stroke: #000000; stroke-width: 0.8\"/>\n",
              "      </g>\n",
              "     </g>\n",
              "     <g id=\"text_13\">\n",
              "      <!-- 3 -->\n",
              "      <g transform=\"translate(16.740625 133.290416)scale(0.1 -0.1)\">\n",
              "       <defs>\n",
              "        <path id=\"DejaVuSans-33\" d=\"M 2597 2516 \n",
              "Q 3050 2419 3304 2112 \n",
              "Q 3559 1806 3559 1356 \n",
              "Q 3559 666 3084 287 \n",
              "Q 2609 -91 1734 -91 \n",
              "Q 1441 -91 1130 -33 \n",
              "Q 819 25 488 141 \n",
              "L 488 750 \n",
              "Q 750 597 1062 519 \n",
              "Q 1375 441 1716 441 \n",
              "Q 2309 441 2620 675 \n",
              "Q 2931 909 2931 1356 \n",
              "Q 2931 1769 2642 2001 \n",
              "Q 2353 2234 1838 2234 \n",
              "L 1294 2234 \n",
              "L 1294 2753 \n",
              "L 1863 2753 \n",
              "Q 2328 2753 2575 2939 \n",
              "Q 2822 3125 2822 3475 \n",
              "Q 2822 3834 2567 4026 \n",
              "Q 2313 4219 1838 4219 \n",
              "Q 1578 4219 1281 4162 \n",
              "Q 984 4106 628 3988 \n",
              "L 628 4550 \n",
              "Q 988 4650 1302 4700 \n",
              "Q 1616 4750 1894 4750 \n",
              "Q 2613 4750 3031 4423 \n",
              "Q 3450 4097 3450 3541 \n",
              "Q 3450 3153 3228 2886 \n",
              "Q 3006 2619 2597 2516 \n",
              "z\n",
              "\" transform=\"scale(0.015625)\"/>\n",
              "       </defs>\n",
              "       <use xlink:href=\"#DejaVuSans-33\"/>\n",
              "      </g>\n",
              "     </g>\n",
              "    </g>\n",
              "    <g id=\"ytick_5\">\n",
              "     <g id=\"line2d_25\">\n",
              "      <path d=\"M 30.103125 69.87832 \n",
              "L 705.573125 69.87832 \n",
              "\" clip-path=\"url(#p870ea54cda)\" style=\"fill: none; stroke: #b0b0b0; stroke-width: 0.8; stroke-linecap: square\"/>\n",
              "     </g>\n",
              "     <g id=\"line2d_26\">\n",
              "      <g>\n",
              "       <use xlink:href=\"#m87070af6d8\" x=\"30.103125\" y=\"69.87832\" style=\"stroke: #000000; stroke-width: 0.8\"/>\n",
              "      </g>\n",
              "     </g>\n",
              "     <g id=\"text_14\">\n",
              "      <!-- 4 -->\n",
              "      <g transform=\"translate(16.740625 73.677539)scale(0.1 -0.1)\">\n",
              "       <use xlink:href=\"#DejaVuSans-34\"/>\n",
              "      </g>\n",
              "     </g>\n",
              "    </g>\n",
              "   </g>\n",
              "   <g id=\"line2d_27\">\n",
              "    <path d=\"M 60.806307 195.783893 \n",
              "L 104.667995 216.228768 \n",
              "L 148.529683 227.015821 \n",
              "L 192.391372 239.809183 \n",
              "L 236.25306 251.841715 \n",
              "L 280.114748 265.632284 \n",
              "L 323.976437 277.075379 \n",
              "L 367.838125 287.041437 \n",
              "L 411.699813 295.652364 \n",
              "L 455.561502 299.858307 \n",
              "L 499.42319 303.752851 \n",
              "L 543.284878 305.027344 \n",
              "L 587.146567 306.178369 \n",
              "L 631.008255 306.051009 \n",
              "L 674.869943 306.106753 \n",
              "\" clip-path=\"url(#p870ea54cda)\" style=\"fill: none; stroke: #000000; stroke-width: 1.5; stroke-linecap: square\"/>\n",
              "   </g>\n",
              "   <g id=\"line2d_28\">\n",
              "    <path d=\"M 60.806307 194.10057 \n",
              "L 104.667995 208.536656 \n",
              "L 148.529683 210.821218 \n",
              "L 192.391372 211.408242 \n",
              "L 236.25306 204.677805 \n",
              "L 280.114748 190.815831 \n",
              "L 323.976437 179.730978 \n",
              "L 367.838125 158.78164 \n",
              "L 411.699813 137.271621 \n",
              "L 455.561502 115.063638 \n",
              "L 499.42319 94.559844 \n",
              "L 543.284878 72.430061 \n",
              "L 587.146567 59.455976 \n",
              "L 631.008255 48.545591 \n",
              "L 674.869943 36.18189 \n",
              "\" clip-path=\"url(#p870ea54cda)\" style=\"fill: none; stroke-dasharray: 5.55,2.4; stroke-dashoffset: 0; stroke: #000000; stroke-width: 1.5\"/>\n",
              "   </g>\n",
              "   <g id=\"line2d_29\">\n",
              "    <path d=\"M 60.806307 191.868539 \n",
              "L 104.667995 218.794978 \n",
              "L 148.529683 229.324224 \n",
              "L 192.391372 239.777581 \n",
              "L 236.25306 251.218334 \n",
              "L 280.114748 264.089415 \n",
              "L 323.976437 275.443673 \n",
              "L 367.838125 286.332183 \n",
              "L 411.699813 294.468261 \n",
              "L 455.561502 299.24035 \n",
              "L 499.42319 302.906514 \n",
              "L 543.284878 304.734423 \n",
              "L 587.146567 305.689579 \n",
              "L 631.008255 306.295117 \n",
              "L 674.869943 306.147007 \n",
              "\" clip-path=\"url(#p870ea54cda)\" style=\"fill: none; stroke: #ff0000; stroke-width: 1.5; stroke-linecap: square\"/>\n",
              "   </g>\n",
              "   <g id=\"line2d_30\">\n",
              "    <path d=\"M 60.806307 190.195683 \n",
              "L 104.667995 209.459928 \n",
              "L 148.529683 212.079777 \n",
              "L 192.391372 211.307815 \n",
              "L 236.25306 204.79165 \n",
              "L 280.114748 195.606155 \n",
              "L 323.976437 179.946927 \n",
              "L 367.838125 158.394483 \n",
              "L 411.699813 136.860956 \n",
              "L 455.561502 113.40027 \n",
              "L 499.42319 92.729489 \n",
              "L 543.284878 79.775074 \n",
              "L 587.146567 68.921172 \n",
              "L 631.008255 49.390913 \n",
              "L 674.869943 39.145888 \n",
              "\" clip-path=\"url(#p870ea54cda)\" style=\"fill: none; stroke-dasharray: 5.55,2.4; stroke-dashoffset: 0; stroke: #ff0000; stroke-width: 1.5\"/>\n",
              "   </g>\n",
              "   <g id=\"line2d_31\">\n",
              "    <path d=\"M 60.806307 198.3214 \n",
              "L 104.667995 212.764394 \n",
              "L 148.529683 220.677217 \n",
              "L 192.391372 226.065125 \n",
              "L 236.25306 233.413095 \n",
              "L 280.114748 239.81582 \n",
              "L 323.976437 245.389263 \n",
              "L 367.838125 250.920401 \n",
              "L 411.699813 255.023119 \n",
              "L 455.561502 260.37013 \n",
              "L 499.42319 265.812026 \n",
              "L 543.284878 269.594612 \n",
              "L 587.146567 271.551464 \n",
              "L 631.008255 278.945898 \n",
              "L 674.869943 282.774614 \n",
              "\" clip-path=\"url(#p870ea54cda)\" style=\"fill: none; stroke: #0000ff; stroke-width: 1.5; stroke-linecap: square\"/>\n",
              "   </g>\n",
              "   <g id=\"line2d_32\">\n",
              "    <path d=\"M 60.806307 196.470024 \n",
              "L 104.667995 207.982342 \n",
              "L 148.529683 211.646819 \n",
              "L 192.391372 211.042518 \n",
              "L 236.25306 214.995835 \n",
              "L 280.114748 214.240907 \n",
              "L 323.976437 212.49661 \n",
              "L 367.838125 210.830939 \n",
              "L 411.699813 207.852458 \n",
              "L 455.561502 203.676647 \n",
              "L 499.42319 201.436373 \n",
              "L 543.284878 196.951355 \n",
              "L 587.146567 192.737056 \n",
              "L 631.008255 188.422002 \n",
              "L 674.869943 182.716323 \n",
              "\" clip-path=\"url(#p870ea54cda)\" style=\"fill: none; stroke-dasharray: 5.55,2.4; stroke-dashoffset: 0; stroke: #0000ff; stroke-width: 1.5\"/>\n",
              "   </g>\n",
              "   <g id=\"line2d_33\">\n",
              "    <path d=\"M 60.806307 200.479431 \n",
              "L 104.667995 214.898186 \n",
              "L 148.529683 226.0604 \n",
              "L 192.391372 237.662358 \n",
              "L 236.25306 250.462834 \n",
              "L 280.114748 261.285905 \n",
              "L 323.976437 274.37177 \n",
              "L 367.838125 284.574966 \n",
              "L 411.699813 294.403256 \n",
              "L 455.561502 298.687078 \n",
              "L 499.42319 302.219823 \n",
              "L 543.284878 304.952454 \n",
              "L 587.146567 305.657691 \n",
              "L 631.008255 306.386802 \n",
              "L 674.869943 306.77267 \n",
              "\" clip-path=\"url(#p870ea54cda)\" style=\"fill: none; stroke: #008000; stroke-width: 1.5; stroke-linecap: square\"/>\n",
              "   </g>\n",
              "   <g id=\"line2d_34\">\n",
              "    <path d=\"M 60.806307 198.269132 \n",
              "L 104.667995 207.34435 \n",
              "L 148.529683 211.566644 \n",
              "L 192.391372 210.337925 \n",
              "L 236.25306 206.946541 \n",
              "L 280.114748 193.63316 \n",
              "L 323.976437 178.914693 \n",
              "L 367.838125 157.902293 \n",
              "L 411.699813 138.95584 \n",
              "L 455.561502 117.886887 \n",
              "L 499.42319 91.850156 \n",
              "L 543.284878 74.273378 \n",
              "L 587.146567 64.234865 \n",
              "L 631.008255 47.157596 \n",
              "L 674.869943 35.86358 \n",
              "\" clip-path=\"url(#p870ea54cda)\" style=\"fill: none; stroke-dasharray: 5.55,2.4; stroke-dashoffset: 0; stroke: #008000; stroke-width: 1.5\"/>\n",
              "   </g>\n",
              "   <g id=\"line2d_35\">\n",
              "    <path d=\"M 60.806307 195.838108 \n",
              "L 104.667995 211.411689 \n",
              "L 148.529683 217.666658 \n",
              "L 192.391372 225.384523 \n",
              "L 236.25306 230.266157 \n",
              "L 280.114748 236.623195 \n",
              "L 323.976437 242.593545 \n",
              "L 367.838125 246.814922 \n",
              "L 411.699813 252.440235 \n",
              "L 455.561502 258.749809 \n",
              "L 499.42319 262.88974 \n",
              "L 543.284878 268.265439 \n",
              "L 587.146567 273.551115 \n",
              "L 631.008255 276.673419 \n",
              "L 674.869943 279.95729 \n",
              "\" clip-path=\"url(#p870ea54cda)\" style=\"fill: none; stroke: #ffa500; stroke-width: 1.5; stroke-linecap: square\"/>\n",
              "   </g>\n",
              "   <g id=\"line2d_36\">\n",
              "    <path d=\"M 60.806307 194.586449 \n",
              "L 104.667995 206.909047 \n",
              "L 148.529683 210.150714 \n",
              "L 192.391372 213.728684 \n",
              "L 236.25306 213.870087 \n",
              "L 280.114748 213.852925 \n",
              "L 323.976437 213.764628 \n",
              "L 367.838125 211.83263 \n",
              "L 411.699813 208.653713 \n",
              "L 455.561502 205.426323 \n",
              "L 499.42319 201.467805 \n",
              "L 543.284878 199.919965 \n",
              "L 587.146567 193.922483 \n",
              "L 631.008255 192.246877 \n",
              "L 674.869943 186.728516 \n",
              "\" clip-path=\"url(#p870ea54cda)\" style=\"fill: none; stroke-dasharray: 5.55,2.4; stroke-dashoffset: 0; stroke: #ffa500; stroke-width: 1.5\"/>\n",
              "   </g>\n",
              "   <g id=\"line2d_37\">\n",
              "    <path d=\"M 60.806307 190.128684 \n",
              "L 104.667995 214.402826 \n",
              "L 148.529683 224.076695 \n",
              "L 192.391372 233.153306 \n",
              "L 236.25306 242.242453 \n",
              "L 280.114748 255.58567 \n",
              "L 323.976437 268.244657 \n",
              "L 367.838125 278.167165 \n",
              "L 411.699813 287.314049 \n",
              "L 455.561502 295.659067 \n",
              "L 499.42319 300.041052 \n",
              "L 543.284878 302.89091 \n",
              "L 587.146567 305.03835 \n",
              "L 631.008255 305.89567 \n",
              "L 674.869943 306.650486 \n",
              "\" clip-path=\"url(#p870ea54cda)\" style=\"fill: none; stroke: #800080; stroke-width: 1.5; stroke-linecap: square\"/>\n",
              "   </g>\n",
              "   <g id=\"line2d_38\">\n",
              "    <path d=\"M 60.806307 189.779951 \n",
              "L 104.667995 207.824125 \n",
              "L 148.529683 210.736687 \n",
              "L 192.391372 210.589385 \n",
              "L 236.25306 209.480316 \n",
              "L 280.114748 201.257327 \n",
              "L 323.976437 188.423665 \n",
              "L 367.838125 174.740843 \n",
              "L 411.699813 153.932909 \n",
              "L 455.561502 135.007547 \n",
              "L 499.42319 115.918895 \n",
              "L 543.284878 98.653533 \n",
              "L 587.146567 74.423451 \n",
              "L 631.008255 57.394634 \n",
              "L 674.869943 49.159813 \n",
              "\" clip-path=\"url(#p870ea54cda)\" style=\"fill: none; stroke-dasharray: 5.55,2.4; stroke-dashoffset: 0; stroke: #800080; stroke-width: 1.5\"/>\n",
              "   </g>\n",
              "   <g id=\"line2d_39\">\n",
              "    <path d=\"M 60.806307 193.990868 \n",
              "L 104.667995 208.592698 \n",
              "L 148.529683 214.980727 \n",
              "L 192.391372 222.685047 \n",
              "L 236.25306 226.841685 \n",
              "L 280.114748 233.182116 \n",
              "L 323.976437 237.186435 \n",
              "L 367.838125 241.96057 \n",
              "L 411.699813 247.387081 \n",
              "L 455.561502 250.418579 \n",
              "L 499.42319 253.971261 \n",
              "L 543.284878 258.412535 \n",
              "L 587.146567 262.458473 \n",
              "L 631.008255 267.401556 \n",
              "L 674.869943 270.554236 \n",
              "\" clip-path=\"url(#p870ea54cda)\" style=\"fill: none; stroke: #00ffff; stroke-width: 1.5; stroke-linecap: square\"/>\n",
              "   </g>\n",
              "   <g id=\"line2d_40\">\n",
              "    <path d=\"M 60.806307 192.510646 \n",
              "L 104.667995 204.008069 \n",
              "L 148.529683 206.963191 \n",
              "L 192.391372 210.366621 \n",
              "L 236.25306 210.197225 \n",
              "L 280.114748 212.416215 \n",
              "L 323.976437 209.228032 \n",
              "L 367.838125 207.957079 \n",
              "L 411.699813 203.021664 \n",
              "L 455.561502 200.683854 \n",
              "L 499.42319 196.327889 \n",
              "L 543.284878 193.708744 \n",
              "L 587.146567 192.989198 \n",
              "L 631.008255 186.679368 \n",
              "L 674.869943 182.595457 \n",
              "\" clip-path=\"url(#p870ea54cda)\" style=\"fill: none; stroke-dasharray: 5.55,2.4; stroke-dashoffset: 0; stroke: #00ffff; stroke-width: 1.5\"/>\n",
              "   </g>\n",
              "   <g id=\"patch_3\">\n",
              "    <path d=\"M 30.103125 320.318125 \n",
              "L 30.103125 22.318125 \n",
              "\" style=\"fill: none; stroke: #000000; stroke-width: 0.8; stroke-linejoin: miter; stroke-linecap: square\"/>\n",
              "   </g>\n",
              "   <g id=\"patch_4\">\n",
              "    <path d=\"M 705.573125 320.318125 \n",
              "L 705.573125 22.318125 \n",
              "\" style=\"fill: none; stroke: #000000; stroke-width: 0.8; stroke-linejoin: miter; stroke-linecap: square\"/>\n",
              "   </g>\n",
              "   <g id=\"patch_5\">\n",
              "    <path d=\"M 30.103125 320.318125 \n",
              "L 705.573125 320.318125 \n",
              "\" style=\"fill: none; stroke: #000000; stroke-width: 0.8; stroke-linejoin: miter; stroke-linecap: square\"/>\n",
              "   </g>\n",
              "   <g id=\"patch_6\">\n",
              "    <path d=\"M 30.103125 22.318125 \n",
              "L 705.573125 22.318125 \n",
              "\" style=\"fill: none; stroke: #000000; stroke-width: 0.8; stroke-linejoin: miter; stroke-linecap: square\"/>\n",
              "   </g>\n",
              "   <g id=\"text_15\">\n",
              "    <!-- CrossEntropy Loss -->\n",
              "    <g transform=\"translate(313.017812 16.318125)scale(0.12 -0.12)\">\n",
              "     <defs>\n",
              "      <path id=\"DejaVuSans-43\" d=\"M 4122 4306 \n",
              "L 4122 3641 \n",
              "Q 3803 3938 3442 4084 \n",
              "Q 3081 4231 2675 4231 \n",
              "Q 1875 4231 1450 3742 \n",
              "Q 1025 3253 1025 2328 \n",
              "Q 1025 1406 1450 917 \n",
              "Q 1875 428 2675 428 \n",
              "Q 3081 428 3442 575 \n",
              "Q 3803 722 4122 1019 \n",
              "L 4122 359 \n",
              "Q 3791 134 3420 21 \n",
              "Q 3050 -91 2638 -91 \n",
              "Q 1578 -91 968 557 \n",
              "Q 359 1206 359 2328 \n",
              "Q 359 3453 968 4101 \n",
              "Q 1578 4750 2638 4750 \n",
              "Q 3056 4750 3426 4639 \n",
              "Q 3797 4528 4122 4306 \n",
              "z\n",
              "\" transform=\"scale(0.015625)\"/>\n",
              "      <path id=\"DejaVuSans-72\" d=\"M 2631 2963 \n",
              "Q 2534 3019 2420 3045 \n",
              "Q 2306 3072 2169 3072 \n",
              "Q 1681 3072 1420 2755 \n",
              "Q 1159 2438 1159 1844 \n",
              "L 1159 0 \n",
              "L 581 0 \n",
              "L 581 3500 \n",
              "L 1159 3500 \n",
              "L 1159 2956 \n",
              "Q 1341 3275 1631 3429 \n",
              "Q 1922 3584 2338 3584 \n",
              "Q 2397 3584 2469 3576 \n",
              "Q 2541 3569 2628 3553 \n",
              "L 2631 2963 \n",
              "z\n",
              "\" transform=\"scale(0.015625)\"/>\n",
              "      <path id=\"DejaVuSans-73\" d=\"M 2834 3397 \n",
              "L 2834 2853 \n",
              "Q 2591 2978 2328 3040 \n",
              "Q 2066 3103 1784 3103 \n",
              "Q 1356 3103 1142 2972 \n",
              "Q 928 2841 928 2578 \n",
              "Q 928 2378 1081 2264 \n",
              "Q 1234 2150 1697 2047 \n",
              "L 1894 2003 \n",
              "Q 2506 1872 2764 1633 \n",
              "Q 3022 1394 3022 966 \n",
              "Q 3022 478 2636 193 \n",
              "Q 2250 -91 1575 -91 \n",
              "Q 1294 -91 989 -36 \n",
              "Q 684 19 347 128 \n",
              "L 347 722 \n",
              "Q 666 556 975 473 \n",
              "Q 1284 391 1588 391 \n",
              "Q 1994 391 2212 530 \n",
              "Q 2431 669 2431 922 \n",
              "Q 2431 1156 2273 1281 \n",
              "Q 2116 1406 1581 1522 \n",
              "L 1381 1569 \n",
              "Q 847 1681 609 1914 \n",
              "Q 372 2147 372 2553 \n",
              "Q 372 3047 722 3315 \n",
              "Q 1072 3584 1716 3584 \n",
              "Q 2034 3584 2315 3537 \n",
              "Q 2597 3491 2834 3397 \n",
              "z\n",
              "\" transform=\"scale(0.015625)\"/>\n",
              "      <path id=\"DejaVuSans-6e\" d=\"M 3513 2113 \n",
              "L 3513 0 \n",
              "L 2938 0 \n",
              "L 2938 2094 \n",
              "Q 2938 2591 2744 2837 \n",
              "Q 2550 3084 2163 3084 \n",
              "Q 1697 3084 1428 2787 \n",
              "Q 1159 2491 1159 1978 \n",
              "L 1159 0 \n",
              "L 581 0 \n",
              "L 581 3500 \n",
              "L 1159 3500 \n",
              "L 1159 2956 \n",
              "Q 1366 3272 1645 3428 \n",
              "Q 1925 3584 2291 3584 \n",
              "Q 2894 3584 3203 3211 \n",
              "Q 3513 2838 3513 2113 \n",
              "z\n",
              "\" transform=\"scale(0.015625)\"/>\n",
              "      <path id=\"DejaVuSans-74\" d=\"M 1172 4494 \n",
              "L 1172 3500 \n",
              "L 2356 3500 \n",
              "L 2356 3053 \n",
              "L 1172 3053 \n",
              "L 1172 1153 \n",
              "Q 1172 725 1289 603 \n",
              "Q 1406 481 1766 481 \n",
              "L 2356 481 \n",
              "L 2356 0 \n",
              "L 1766 0 \n",
              "Q 1100 0 847 248 \n",
              "Q 594 497 594 1153 \n",
              "L 594 3053 \n",
              "L 172 3053 \n",
              "L 172 3500 \n",
              "L 594 3500 \n",
              "L 594 4494 \n",
              "L 1172 4494 \n",
              "z\n",
              "\" transform=\"scale(0.015625)\"/>\n",
              "      <path id=\"DejaVuSans-79\" d=\"M 2059 -325 \n",
              "Q 1816 -950 1584 -1140 \n",
              "Q 1353 -1331 966 -1331 \n",
              "L 506 -1331 \n",
              "L 506 -850 \n",
              "L 844 -850 \n",
              "Q 1081 -850 1212 -737 \n",
              "Q 1344 -625 1503 -206 \n",
              "L 1606 56 \n",
              "L 191 3500 \n",
              "L 800 3500 \n",
              "L 1894 763 \n",
              "L 2988 3500 \n",
              "L 3597 3500 \n",
              "L 2059 -325 \n",
              "z\n",
              "\" transform=\"scale(0.015625)\"/>\n",
              "      <path id=\"DejaVuSans-20\" transform=\"scale(0.015625)\"/>\n",
              "      <path id=\"DejaVuSans-4c\" d=\"M 628 4666 \n",
              "L 1259 4666 \n",
              "L 1259 531 \n",
              "L 3531 531 \n",
              "L 3531 0 \n",
              "L 628 0 \n",
              "L 628 4666 \n",
              "z\n",
              "\" transform=\"scale(0.015625)\"/>\n",
              "     </defs>\n",
              "     <use xlink:href=\"#DejaVuSans-43\"/>\n",
              "     <use xlink:href=\"#DejaVuSans-72\" x=\"69.824219\"/>\n",
              "     <use xlink:href=\"#DejaVuSans-6f\" x=\"108.6875\"/>\n",
              "     <use xlink:href=\"#DejaVuSans-73\" x=\"169.869141\"/>\n",
              "     <use xlink:href=\"#DejaVuSans-73\" x=\"221.96875\"/>\n",
              "     <use xlink:href=\"#DejaVuSans-45\" x=\"274.068359\"/>\n",
              "     <use xlink:href=\"#DejaVuSans-6e\" x=\"337.251953\"/>\n",
              "     <use xlink:href=\"#DejaVuSans-74\" x=\"400.630859\"/>\n",
              "     <use xlink:href=\"#DejaVuSans-72\" x=\"439.839844\"/>\n",
              "     <use xlink:href=\"#DejaVuSans-6f\" x=\"478.703125\"/>\n",
              "     <use xlink:href=\"#DejaVuSans-70\" x=\"539.884766\"/>\n",
              "     <use xlink:href=\"#DejaVuSans-79\" x=\"603.361328\"/>\n",
              "     <use xlink:href=\"#DejaVuSans-20\" x=\"662.541016\"/>\n",
              "     <use xlink:href=\"#DejaVuSans-4c\" x=\"694.328125\"/>\n",
              "     <use xlink:href=\"#DejaVuSans-6f\" x=\"748.291016\"/>\n",
              "     <use xlink:href=\"#DejaVuSans-73\" x=\"809.472656\"/>\n",
              "     <use xlink:href=\"#DejaVuSans-73\" x=\"861.572266\"/>\n",
              "    </g>\n",
              "   </g>\n",
              "   <g id=\"legend_1\">\n",
              "    <g id=\"patch_7\">\n",
              "     <path d=\"M 575.355937 275.565 \n",
              "L 698.573125 275.565 \n",
              "Q 700.573125 275.565 700.573125 273.565 \n",
              "L 700.573125 69.07125 \n",
              "Q 700.573125 67.07125 698.573125 67.07125 \n",
              "L 575.355937 67.07125 \n",
              "Q 573.355937 67.07125 573.355937 69.07125 \n",
              "L 573.355937 273.565 \n",
              "Q 573.355937 275.565 575.355937 275.565 \n",
              "z\n",
              "\" style=\"fill: #ffffff; opacity: 0.8; stroke: #cccccc; stroke-linejoin: miter\"/>\n",
              "    </g>\n",
              "    <g id=\"line2d_41\">\n",
              "     <path d=\"M 577.355937 75.169687 \n",
              "L 587.355937 75.169687 \n",
              "L 597.355937 75.169687 \n",
              "\" style=\"fill: none; stroke: #000000; stroke-width: 1.5; stroke-linecap: square\"/>\n",
              "    </g>\n",
              "    <g id=\"text_16\">\n",
              "     <!-- Base -->\n",
              "     <g transform=\"translate(605.355937 78.669687)scale(0.1 -0.1)\">\n",
              "      <defs>\n",
              "       <path id=\"DejaVuSans-42\" d=\"M 1259 2228 \n",
              "L 1259 519 \n",
              "L 2272 519 \n",
              "Q 2781 519 3026 730 \n",
              "Q 3272 941 3272 1375 \n",
              "Q 3272 1813 3026 2020 \n",
              "Q 2781 2228 2272 2228 \n",
              "L 1259 2228 \n",
              "z\n",
              "M 1259 4147 \n",
              "L 1259 2741 \n",
              "L 2194 2741 \n",
              "Q 2656 2741 2882 2914 \n",
              "Q 3109 3088 3109 3444 \n",
              "Q 3109 3797 2882 3972 \n",
              "Q 2656 4147 2194 4147 \n",
              "L 1259 4147 \n",
              "z\n",
              "M 628 4666 \n",
              "L 2241 4666 \n",
              "Q 2963 4666 3353 4366 \n",
              "Q 3744 4066 3744 3513 \n",
              "Q 3744 3084 3544 2831 \n",
              "Q 3344 2578 2956 2516 \n",
              "Q 3422 2416 3680 2098 \n",
              "Q 3938 1781 3938 1306 \n",
              "Q 3938 681 3513 340 \n",
              "Q 3088 0 2303 0 \n",
              "L 628 0 \n",
              "L 628 4666 \n",
              "z\n",
              "\" transform=\"scale(0.015625)\"/>\n",
              "       <path id=\"DejaVuSans-61\" d=\"M 2194 1759 \n",
              "Q 1497 1759 1228 1600 \n",
              "Q 959 1441 959 1056 \n",
              "Q 959 750 1161 570 \n",
              "Q 1363 391 1709 391 \n",
              "Q 2188 391 2477 730 \n",
              "Q 2766 1069 2766 1631 \n",
              "L 2766 1759 \n",
              "L 2194 1759 \n",
              "z\n",
              "M 3341 1997 \n",
              "L 3341 0 \n",
              "L 2766 0 \n",
              "L 2766 531 \n",
              "Q 2569 213 2275 61 \n",
              "Q 1981 -91 1556 -91 \n",
              "Q 1019 -91 701 211 \n",
              "Q 384 513 384 1019 \n",
              "Q 384 1609 779 1909 \n",
              "Q 1175 2209 1959 2209 \n",
              "L 2766 2209 \n",
              "L 2766 2266 \n",
              "Q 2766 2663 2505 2880 \n",
              "Q 2244 3097 1772 3097 \n",
              "Q 1472 3097 1187 3025 \n",
              "Q 903 2953 641 2809 \n",
              "L 641 3341 \n",
              "Q 956 3463 1253 3523 \n",
              "Q 1550 3584 1831 3584 \n",
              "Q 2591 3584 2966 3190 \n",
              "Q 3341 2797 3341 1997 \n",
              "z\n",
              "\" transform=\"scale(0.015625)\"/>\n",
              "       <path id=\"DejaVuSans-65\" d=\"M 3597 1894 \n",
              "L 3597 1613 \n",
              "L 953 1613 \n",
              "Q 991 1019 1311 708 \n",
              "Q 1631 397 2203 397 \n",
              "Q 2534 397 2845 478 \n",
              "Q 3156 559 3463 722 \n",
              "L 3463 178 \n",
              "Q 3153 47 2828 -22 \n",
              "Q 2503 -91 2169 -91 \n",
              "Q 1331 -91 842 396 \n",
              "Q 353 884 353 1716 \n",
              "Q 353 2575 817 3079 \n",
              "Q 1281 3584 2069 3584 \n",
              "Q 2775 3584 3186 3129 \n",
              "Q 3597 2675 3597 1894 \n",
              "z\n",
              "M 3022 2063 \n",
              "Q 3016 2534 2758 2815 \n",
              "Q 2500 3097 2075 3097 \n",
              "Q 1594 3097 1305 2825 \n",
              "Q 1016 2553 972 2059 \n",
              "L 3022 2063 \n",
              "z\n",
              "\" transform=\"scale(0.015625)\"/>\n",
              "      </defs>\n",
              "      <use xlink:href=\"#DejaVuSans-42\"/>\n",
              "      <use xlink:href=\"#DejaVuSans-61\" x=\"68.603516\"/>\n",
              "      <use xlink:href=\"#DejaVuSans-73\" x=\"129.882812\"/>\n",
              "      <use xlink:href=\"#DejaVuSans-65\" x=\"181.982422\"/>\n",
              "     </g>\n",
              "    </g>\n",
              "    <g id=\"line2d_42\">\n",
              "     <path d=\"M 577.355937 89.847812 \n",
              "L 587.355937 89.847812 \n",
              "L 597.355937 89.847812 \n",
              "\" style=\"fill: none; stroke-dasharray: 5.55,2.4; stroke-dashoffset: 0; stroke: #000000; stroke-width: 1.5\"/>\n",
              "    </g>\n",
              "    <g id=\"text_17\">\n",
              "     <!-- Base -->\n",
              "     <g transform=\"translate(605.355937 93.347812)scale(0.1 -0.1)\">\n",
              "      <use xlink:href=\"#DejaVuSans-42\"/>\n",
              "      <use xlink:href=\"#DejaVuSans-61\" x=\"68.603516\"/>\n",
              "      <use xlink:href=\"#DejaVuSans-73\" x=\"129.882812\"/>\n",
              "      <use xlink:href=\"#DejaVuSans-65\" x=\"181.982422\"/>\n",
              "     </g>\n",
              "    </g>\n",
              "    <g id=\"line2d_43\">\n",
              "     <path d=\"M 577.355937 104.525937 \n",
              "L 587.355937 104.525937 \n",
              "L 597.355937 104.525937 \n",
              "\" style=\"fill: none; stroke: #ff0000; stroke-width: 1.5; stroke-linecap: square\"/>\n",
              "    </g>\n",
              "    <g id=\"text_18\">\n",
              "     <!-- VarDropCheck -->\n",
              "     <g transform=\"translate(605.355937 108.025937)scale(0.1 -0.1)\">\n",
              "      <defs>\n",
              "       <path id=\"DejaVuSans-56\" d=\"M 1831 0 \n",
              "L 50 4666 \n",
              "L 709 4666 \n",
              "L 2188 738 \n",
              "L 3669 4666 \n",
              "L 4325 4666 \n",
              "L 2547 0 \n",
              "L 1831 0 \n",
              "z\n",
              "\" transform=\"scale(0.015625)\"/>\n",
              "       <path id=\"DejaVuSans-44\" d=\"M 1259 4147 \n",
              "L 1259 519 \n",
              "L 2022 519 \n",
              "Q 2988 519 3436 956 \n",
              "Q 3884 1394 3884 2338 \n",
              "Q 3884 3275 3436 3711 \n",
              "Q 2988 4147 2022 4147 \n",
              "L 1259 4147 \n",
              "z\n",
              "M 628 4666 \n",
              "L 1925 4666 \n",
              "Q 3281 4666 3915 4102 \n",
              "Q 4550 3538 4550 2338 \n",
              "Q 4550 1131 3912 565 \n",
              "Q 3275 0 1925 0 \n",
              "L 628 0 \n",
              "L 628 4666 \n",
              "z\n",
              "\" transform=\"scale(0.015625)\"/>\n",
              "       <path id=\"DejaVuSans-6b\" d=\"M 581 4863 \n",
              "L 1159 4863 \n",
              "L 1159 1991 \n",
              "L 2875 3500 \n",
              "L 3609 3500 \n",
              "L 1753 1863 \n",
              "L 3688 0 \n",
              "L 2938 0 \n",
              "L 1159 1709 \n",
              "L 1159 0 \n",
              "L 581 0 \n",
              "L 581 4863 \n",
              "z\n",
              "\" transform=\"scale(0.015625)\"/>\n",
              "      </defs>\n",
              "      <use xlink:href=\"#DejaVuSans-56\"/>\n",
              "      <use xlink:href=\"#DejaVuSans-61\" x=\"60.658203\"/>\n",
              "      <use xlink:href=\"#DejaVuSans-72\" x=\"121.9375\"/>\n",
              "      <use xlink:href=\"#DejaVuSans-44\" x=\"163.050781\"/>\n",
              "      <use xlink:href=\"#DejaVuSans-72\" x=\"240.052734\"/>\n",
              "      <use xlink:href=\"#DejaVuSans-6f\" x=\"278.916016\"/>\n",
              "      <use xlink:href=\"#DejaVuSans-70\" x=\"340.097656\"/>\n",
              "      <use xlink:href=\"#DejaVuSans-43\" x=\"403.574219\"/>\n",
              "      <use xlink:href=\"#DejaVuSans-68\" x=\"473.398438\"/>\n",
              "      <use xlink:href=\"#DejaVuSans-65\" x=\"536.777344\"/>\n",
              "      <use xlink:href=\"#DejaVuSans-63\" x=\"598.300781\"/>\n",
              "      <use xlink:href=\"#DejaVuSans-6b\" x=\"653.28125\"/>\n",
              "     </g>\n",
              "    </g>\n",
              "    <g id=\"line2d_44\">\n",
              "     <path d=\"M 577.355937 119.204062 \n",
              "L 587.355937 119.204062 \n",
              "L 597.355937 119.204062 \n",
              "\" style=\"fill: none; stroke-dasharray: 5.55,2.4; stroke-dashoffset: 0; stroke: #ff0000; stroke-width: 1.5\"/>\n",
              "    </g>\n",
              "    <g id=\"text_19\">\n",
              "     <!-- VarDropCheck -->\n",
              "     <g transform=\"translate(605.355937 122.704062)scale(0.1 -0.1)\">\n",
              "      <use xlink:href=\"#DejaVuSans-56\"/>\n",
              "      <use xlink:href=\"#DejaVuSans-61\" x=\"60.658203\"/>\n",
              "      <use xlink:href=\"#DejaVuSans-72\" x=\"121.9375\"/>\n",
              "      <use xlink:href=\"#DejaVuSans-44\" x=\"163.050781\"/>\n",
              "      <use xlink:href=\"#DejaVuSans-72\" x=\"240.052734\"/>\n",
              "      <use xlink:href=\"#DejaVuSans-6f\" x=\"278.916016\"/>\n",
              "      <use xlink:href=\"#DejaVuSans-70\" x=\"340.097656\"/>\n",
              "      <use xlink:href=\"#DejaVuSans-43\" x=\"403.574219\"/>\n",
              "      <use xlink:href=\"#DejaVuSans-68\" x=\"473.398438\"/>\n",
              "      <use xlink:href=\"#DejaVuSans-65\" x=\"536.777344\"/>\n",
              "      <use xlink:href=\"#DejaVuSans-63\" x=\"598.300781\"/>\n",
              "      <use xlink:href=\"#DejaVuSans-6b\" x=\"653.28125\"/>\n",
              "     </g>\n",
              "    </g>\n",
              "    <g id=\"line2d_45\">\n",
              "     <path d=\"M 577.355937 133.882187 \n",
              "L 587.355937 133.882187 \n",
              "L 597.355937 133.882187 \n",
              "\" style=\"fill: none; stroke: #0000ff; stroke-width: 1.5; stroke-linecap: square\"/>\n",
              "    </g>\n",
              "    <g id=\"text_20\">\n",
              "     <!-- VarDrop -->\n",
              "     <g transform=\"translate(605.355937 137.382187)scale(0.1 -0.1)\">\n",
              "      <use xlink:href=\"#DejaVuSans-56\"/>\n",
              "      <use xlink:href=\"#DejaVuSans-61\" x=\"60.658203\"/>\n",
              "      <use xlink:href=\"#DejaVuSans-72\" x=\"121.9375\"/>\n",
              "      <use xlink:href=\"#DejaVuSans-44\" x=\"163.050781\"/>\n",
              "      <use xlink:href=\"#DejaVuSans-72\" x=\"240.052734\"/>\n",
              "      <use xlink:href=\"#DejaVuSans-6f\" x=\"278.916016\"/>\n",
              "      <use xlink:href=\"#DejaVuSans-70\" x=\"340.097656\"/>\n",
              "     </g>\n",
              "    </g>\n",
              "    <g id=\"line2d_46\">\n",
              "     <path d=\"M 577.355937 148.560312 \n",
              "L 587.355937 148.560312 \n",
              "L 597.355937 148.560312 \n",
              "\" style=\"fill: none; stroke-dasharray: 5.55,2.4; stroke-dashoffset: 0; stroke: #0000ff; stroke-width: 1.5\"/>\n",
              "    </g>\n",
              "    <g id=\"text_21\">\n",
              "     <!-- VarDrop -->\n",
              "     <g transform=\"translate(605.355937 152.060312)scale(0.1 -0.1)\">\n",
              "      <use xlink:href=\"#DejaVuSans-56\"/>\n",
              "      <use xlink:href=\"#DejaVuSans-61\" x=\"60.658203\"/>\n",
              "      <use xlink:href=\"#DejaVuSans-72\" x=\"121.9375\"/>\n",
              "      <use xlink:href=\"#DejaVuSans-44\" x=\"163.050781\"/>\n",
              "      <use xlink:href=\"#DejaVuSans-72\" x=\"240.052734\"/>\n",
              "      <use xlink:href=\"#DejaVuSans-6f\" x=\"278.916016\"/>\n",
              "      <use xlink:href=\"#DejaVuSans-70\" x=\"340.097656\"/>\n",
              "     </g>\n",
              "    </g>\n",
              "    <g id=\"line2d_47\">\n",
              "     <path d=\"M 577.355937 163.238437 \n",
              "L 587.355937 163.238437 \n",
              "L 597.355937 163.238437 \n",
              "\" style=\"fill: none; stroke: #008000; stroke-width: 1.5; stroke-linecap: square\"/>\n",
              "    </g>\n",
              "    <g id=\"text_22\">\n",
              "     <!-- FastVarDropCheck -->\n",
              "     <g transform=\"translate(605.355937 166.738437)scale(0.1 -0.1)\">\n",
              "      <defs>\n",
              "       <path id=\"DejaVuSans-46\" d=\"M 628 4666 \n",
              "L 3309 4666 \n",
              "L 3309 4134 \n",
              "L 1259 4134 \n",
              "L 1259 2759 \n",
              "L 3109 2759 \n",
              "L 3109 2228 \n",
              "L 1259 2228 \n",
              "L 1259 0 \n",
              "L 628 0 \n",
              "L 628 4666 \n",
              "z\n",
              "\" transform=\"scale(0.015625)\"/>\n",
              "      </defs>\n",
              "      <use xlink:href=\"#DejaVuSans-46\"/>\n",
              "      <use xlink:href=\"#DejaVuSans-61\" x=\"48.394531\"/>\n",
              "      <use xlink:href=\"#DejaVuSans-73\" x=\"109.673828\"/>\n",
              "      <use xlink:href=\"#DejaVuSans-74\" x=\"161.773438\"/>\n",
              "      <use xlink:href=\"#DejaVuSans-56\" x=\"200.982422\"/>\n",
              "      <use xlink:href=\"#DejaVuSans-61\" x=\"261.640625\"/>\n",
              "      <use xlink:href=\"#DejaVuSans-72\" x=\"322.919922\"/>\n",
              "      <use xlink:href=\"#DejaVuSans-44\" x=\"364.033203\"/>\n",
              "      <use xlink:href=\"#DejaVuSans-72\" x=\"441.035156\"/>\n",
              "      <use xlink:href=\"#DejaVuSans-6f\" x=\"479.898438\"/>\n",
              "      <use xlink:href=\"#DejaVuSans-70\" x=\"541.080078\"/>\n",
              "      <use xlink:href=\"#DejaVuSans-43\" x=\"604.556641\"/>\n",
              "      <use xlink:href=\"#DejaVuSans-68\" x=\"674.380859\"/>\n",
              "      <use xlink:href=\"#DejaVuSans-65\" x=\"737.759766\"/>\n",
              "      <use xlink:href=\"#DejaVuSans-63\" x=\"799.283203\"/>\n",
              "      <use xlink:href=\"#DejaVuSans-6b\" x=\"854.263672\"/>\n",
              "     </g>\n",
              "    </g>\n",
              "    <g id=\"line2d_48\">\n",
              "     <path d=\"M 577.355937 177.916562 \n",
              "L 587.355937 177.916562 \n",
              "L 597.355937 177.916562 \n",
              "\" style=\"fill: none; stroke-dasharray: 5.55,2.4; stroke-dashoffset: 0; stroke: #008000; stroke-width: 1.5\"/>\n",
              "    </g>\n",
              "    <g id=\"text_23\">\n",
              "     <!-- FastVarDropCheck -->\n",
              "     <g transform=\"translate(605.355937 181.416562)scale(0.1 -0.1)\">\n",
              "      <use xlink:href=\"#DejaVuSans-46\"/>\n",
              "      <use xlink:href=\"#DejaVuSans-61\" x=\"48.394531\"/>\n",
              "      <use xlink:href=\"#DejaVuSans-73\" x=\"109.673828\"/>\n",
              "      <use xlink:href=\"#DejaVuSans-74\" x=\"161.773438\"/>\n",
              "      <use xlink:href=\"#DejaVuSans-56\" x=\"200.982422\"/>\n",
              "      <use xlink:href=\"#DejaVuSans-61\" x=\"261.640625\"/>\n",
              "      <use xlink:href=\"#DejaVuSans-72\" x=\"322.919922\"/>\n",
              "      <use xlink:href=\"#DejaVuSans-44\" x=\"364.033203\"/>\n",
              "      <use xlink:href=\"#DejaVuSans-72\" x=\"441.035156\"/>\n",
              "      <use xlink:href=\"#DejaVuSans-6f\" x=\"479.898438\"/>\n",
              "      <use xlink:href=\"#DejaVuSans-70\" x=\"541.080078\"/>\n",
              "      <use xlink:href=\"#DejaVuSans-43\" x=\"604.556641\"/>\n",
              "      <use xlink:href=\"#DejaVuSans-68\" x=\"674.380859\"/>\n",
              "      <use xlink:href=\"#DejaVuSans-65\" x=\"737.759766\"/>\n",
              "      <use xlink:href=\"#DejaVuSans-63\" x=\"799.283203\"/>\n",
              "      <use xlink:href=\"#DejaVuSans-6b\" x=\"854.263672\"/>\n",
              "     </g>\n",
              "    </g>\n",
              "    <g id=\"line2d_49\">\n",
              "     <path d=\"M 577.355937 192.594687 \n",
              "L 587.355937 192.594687 \n",
              "L 597.355937 192.594687 \n",
              "\" style=\"fill: none; stroke: #ffa500; stroke-width: 1.5; stroke-linecap: square\"/>\n",
              "    </g>\n",
              "    <g id=\"text_24\">\n",
              "     <!-- FastVarDrop -->\n",
              "     <g transform=\"translate(605.355937 196.094687)scale(0.1 -0.1)\">\n",
              "      <use xlink:href=\"#DejaVuSans-46\"/>\n",
              "      <use xlink:href=\"#DejaVuSans-61\" x=\"48.394531\"/>\n",
              "      <use xlink:href=\"#DejaVuSans-73\" x=\"109.673828\"/>\n",
              "      <use xlink:href=\"#DejaVuSans-74\" x=\"161.773438\"/>\n",
              "      <use xlink:href=\"#DejaVuSans-56\" x=\"200.982422\"/>\n",
              "      <use xlink:href=\"#DejaVuSans-61\" x=\"261.640625\"/>\n",
              "      <use xlink:href=\"#DejaVuSans-72\" x=\"322.919922\"/>\n",
              "      <use xlink:href=\"#DejaVuSans-44\" x=\"364.033203\"/>\n",
              "      <use xlink:href=\"#DejaVuSans-72\" x=\"441.035156\"/>\n",
              "      <use xlink:href=\"#DejaVuSans-6f\" x=\"479.898438\"/>\n",
              "      <use xlink:href=\"#DejaVuSans-70\" x=\"541.080078\"/>\n",
              "     </g>\n",
              "    </g>\n",
              "    <g id=\"line2d_50\">\n",
              "     <path d=\"M 577.355937 207.272812 \n",
              "L 587.355937 207.272812 \n",
              "L 597.355937 207.272812 \n",
              "\" style=\"fill: none; stroke-dasharray: 5.55,2.4; stroke-dashoffset: 0; stroke: #ffa500; stroke-width: 1.5\"/>\n",
              "    </g>\n",
              "    <g id=\"text_25\">\n",
              "     <!-- FastVarDrop -->\n",
              "     <g transform=\"translate(605.355937 210.772812)scale(0.1 -0.1)\">\n",
              "      <use xlink:href=\"#DejaVuSans-46\"/>\n",
              "      <use xlink:href=\"#DejaVuSans-61\" x=\"48.394531\"/>\n",
              "      <use xlink:href=\"#DejaVuSans-73\" x=\"109.673828\"/>\n",
              "      <use xlink:href=\"#DejaVuSans-74\" x=\"161.773438\"/>\n",
              "      <use xlink:href=\"#DejaVuSans-56\" x=\"200.982422\"/>\n",
              "      <use xlink:href=\"#DejaVuSans-61\" x=\"261.640625\"/>\n",
              "      <use xlink:href=\"#DejaVuSans-72\" x=\"322.919922\"/>\n",
              "      <use xlink:href=\"#DejaVuSans-44\" x=\"364.033203\"/>\n",
              "      <use xlink:href=\"#DejaVuSans-72\" x=\"441.035156\"/>\n",
              "      <use xlink:href=\"#DejaVuSans-6f\" x=\"479.898438\"/>\n",
              "      <use xlink:href=\"#DejaVuSans-70\" x=\"541.080078\"/>\n",
              "     </g>\n",
              "    </g>\n",
              "    <g id=\"line2d_51\">\n",
              "     <path d=\"M 577.355937 221.950937 \n",
              "L 587.355937 221.950937 \n",
              "L 597.355937 221.950937 \n",
              "\" style=\"fill: none; stroke: #800080; stroke-width: 1.5; stroke-linecap: square\"/>\n",
              "    </g>\n",
              "    <g id=\"text_26\">\n",
              "     <!-- HandmadeCheck -->\n",
              "     <g transform=\"translate(605.355937 225.450937)scale(0.1 -0.1)\">\n",
              "      <defs>\n",
              "       <path id=\"DejaVuSans-48\" d=\"M 628 4666 \n",
              "L 1259 4666 \n",
              "L 1259 2753 \n",
              "L 3553 2753 \n",
              "L 3553 4666 \n",
              "L 4184 4666 \n",
              "L 4184 0 \n",
              "L 3553 0 \n",
              "L 3553 2222 \n",
              "L 1259 2222 \n",
              "L 1259 0 \n",
              "L 628 0 \n",
              "L 628 4666 \n",
              "z\n",
              "\" transform=\"scale(0.015625)\"/>\n",
              "       <path id=\"DejaVuSans-64\" d=\"M 2906 2969 \n",
              "L 2906 4863 \n",
              "L 3481 4863 \n",
              "L 3481 0 \n",
              "L 2906 0 \n",
              "L 2906 525 \n",
              "Q 2725 213 2448 61 \n",
              "Q 2172 -91 1784 -91 \n",
              "Q 1150 -91 751 415 \n",
              "Q 353 922 353 1747 \n",
              "Q 353 2572 751 3078 \n",
              "Q 1150 3584 1784 3584 \n",
              "Q 2172 3584 2448 3432 \n",
              "Q 2725 3281 2906 2969 \n",
              "z\n",
              "M 947 1747 \n",
              "Q 947 1113 1208 752 \n",
              "Q 1469 391 1925 391 \n",
              "Q 2381 391 2643 752 \n",
              "Q 2906 1113 2906 1747 \n",
              "Q 2906 2381 2643 2742 \n",
              "Q 2381 3103 1925 3103 \n",
              "Q 1469 3103 1208 2742 \n",
              "Q 947 2381 947 1747 \n",
              "z\n",
              "\" transform=\"scale(0.015625)\"/>\n",
              "       <path id=\"DejaVuSans-6d\" d=\"M 3328 2828 \n",
              "Q 3544 3216 3844 3400 \n",
              "Q 4144 3584 4550 3584 \n",
              "Q 5097 3584 5394 3201 \n",
              "Q 5691 2819 5691 2113 \n",
              "L 5691 0 \n",
              "L 5113 0 \n",
              "L 5113 2094 \n",
              "Q 5113 2597 4934 2840 \n",
              "Q 4756 3084 4391 3084 \n",
              "Q 3944 3084 3684 2787 \n",
              "Q 3425 2491 3425 1978 \n",
              "L 3425 0 \n",
              "L 2847 0 \n",
              "L 2847 2094 \n",
              "Q 2847 2600 2669 2842 \n",
              "Q 2491 3084 2119 3084 \n",
              "Q 1678 3084 1418 2786 \n",
              "Q 1159 2488 1159 1978 \n",
              "L 1159 0 \n",
              "L 581 0 \n",
              "L 581 3500 \n",
              "L 1159 3500 \n",
              "L 1159 2956 \n",
              "Q 1356 3278 1631 3431 \n",
              "Q 1906 3584 2284 3584 \n",
              "Q 2666 3584 2933 3390 \n",
              "Q 3200 3197 3328 2828 \n",
              "z\n",
              "\" transform=\"scale(0.015625)\"/>\n",
              "      </defs>\n",
              "      <use xlink:href=\"#DejaVuSans-48\"/>\n",
              "      <use xlink:href=\"#DejaVuSans-61\" x=\"75.195312\"/>\n",
              "      <use xlink:href=\"#DejaVuSans-6e\" x=\"136.474609\"/>\n",
              "      <use xlink:href=\"#DejaVuSans-64\" x=\"199.853516\"/>\n",
              "      <use xlink:href=\"#DejaVuSans-6d\" x=\"263.330078\"/>\n",
              "      <use xlink:href=\"#DejaVuSans-61\" x=\"360.742188\"/>\n",
              "      <use xlink:href=\"#DejaVuSans-64\" x=\"422.021484\"/>\n",
              "      <use xlink:href=\"#DejaVuSans-65\" x=\"485.498047\"/>\n",
              "      <use xlink:href=\"#DejaVuSans-43\" x=\"547.021484\"/>\n",
              "      <use xlink:href=\"#DejaVuSans-68\" x=\"616.845703\"/>\n",
              "      <use xlink:href=\"#DejaVuSans-65\" x=\"680.224609\"/>\n",
              "      <use xlink:href=\"#DejaVuSans-63\" x=\"741.748047\"/>\n",
              "      <use xlink:href=\"#DejaVuSans-6b\" x=\"796.728516\"/>\n",
              "     </g>\n",
              "    </g>\n",
              "    <g id=\"line2d_52\">\n",
              "     <path d=\"M 577.355937 236.629062 \n",
              "L 587.355937 236.629062 \n",
              "L 597.355937 236.629062 \n",
              "\" style=\"fill: none; stroke-dasharray: 5.55,2.4; stroke-dashoffset: 0; stroke: #800080; stroke-width: 1.5\"/>\n",
              "    </g>\n",
              "    <g id=\"text_27\">\n",
              "     <!-- HandmadeCheck -->\n",
              "     <g transform=\"translate(605.355937 240.129062)scale(0.1 -0.1)\">\n",
              "      <use xlink:href=\"#DejaVuSans-48\"/>\n",
              "      <use xlink:href=\"#DejaVuSans-61\" x=\"75.195312\"/>\n",
              "      <use xlink:href=\"#DejaVuSans-6e\" x=\"136.474609\"/>\n",
              "      <use xlink:href=\"#DejaVuSans-64\" x=\"199.853516\"/>\n",
              "      <use xlink:href=\"#DejaVuSans-6d\" x=\"263.330078\"/>\n",
              "      <use xlink:href=\"#DejaVuSans-61\" x=\"360.742188\"/>\n",
              "      <use xlink:href=\"#DejaVuSans-64\" x=\"422.021484\"/>\n",
              "      <use xlink:href=\"#DejaVuSans-65\" x=\"485.498047\"/>\n",
              "      <use xlink:href=\"#DejaVuSans-43\" x=\"547.021484\"/>\n",
              "      <use xlink:href=\"#DejaVuSans-68\" x=\"616.845703\"/>\n",
              "      <use xlink:href=\"#DejaVuSans-65\" x=\"680.224609\"/>\n",
              "      <use xlink:href=\"#DejaVuSans-63\" x=\"741.748047\"/>\n",
              "      <use xlink:href=\"#DejaVuSans-6b\" x=\"796.728516\"/>\n",
              "     </g>\n",
              "    </g>\n",
              "    <g id=\"line2d_53\">\n",
              "     <path d=\"M 577.355937 251.307187 \n",
              "L 587.355937 251.307187 \n",
              "L 597.355937 251.307187 \n",
              "\" style=\"fill: none; stroke: #00ffff; stroke-width: 1.5; stroke-linecap: square\"/>\n",
              "    </g>\n",
              "    <g id=\"text_28\">\n",
              "     <!-- Handmade -->\n",
              "     <g transform=\"translate(605.355937 254.807187)scale(0.1 -0.1)\">\n",
              "      <use xlink:href=\"#DejaVuSans-48\"/>\n",
              "      <use xlink:href=\"#DejaVuSans-61\" x=\"75.195312\"/>\n",
              "      <use xlink:href=\"#DejaVuSans-6e\" x=\"136.474609\"/>\n",
              "      <use xlink:href=\"#DejaVuSans-64\" x=\"199.853516\"/>\n",
              "      <use xlink:href=\"#DejaVuSans-6d\" x=\"263.330078\"/>\n",
              "      <use xlink:href=\"#DejaVuSans-61\" x=\"360.742188\"/>\n",
              "      <use xlink:href=\"#DejaVuSans-64\" x=\"422.021484\"/>\n",
              "      <use xlink:href=\"#DejaVuSans-65\" x=\"485.498047\"/>\n",
              "     </g>\n",
              "    </g>\n",
              "    <g id=\"line2d_54\">\n",
              "     <path d=\"M 577.355937 265.985312 \n",
              "L 587.355937 265.985312 \n",
              "L 597.355937 265.985312 \n",
              "\" style=\"fill: none; stroke-dasharray: 5.55,2.4; stroke-dashoffset: 0; stroke: #00ffff; stroke-width: 1.5\"/>\n",
              "    </g>\n",
              "    <g id=\"text_29\">\n",
              "     <!-- Handmade -->\n",
              "     <g transform=\"translate(605.355937 269.485312)scale(0.1 -0.1)\">\n",
              "      <use xlink:href=\"#DejaVuSans-48\"/>\n",
              "      <use xlink:href=\"#DejaVuSans-61\" x=\"75.195312\"/>\n",
              "      <use xlink:href=\"#DejaVuSans-6e\" x=\"136.474609\"/>\n",
              "      <use xlink:href=\"#DejaVuSans-64\" x=\"199.853516\"/>\n",
              "      <use xlink:href=\"#DejaVuSans-6d\" x=\"263.330078\"/>\n",
              "      <use xlink:href=\"#DejaVuSans-61\" x=\"360.742188\"/>\n",
              "      <use xlink:href=\"#DejaVuSans-64\" x=\"422.021484\"/>\n",
              "      <use xlink:href=\"#DejaVuSans-65\" x=\"485.498047\"/>\n",
              "     </g>\n",
              "    </g>\n",
              "   </g>\n",
              "  </g>\n",
              "  <g id=\"axes_2\">\n",
              "   <g id=\"patch_8\">\n",
              "    <path d=\"M 30.103125 674.918125 \n",
              "L 705.573125 674.918125 \n",
              "L 705.573125 376.918125 \n",
              "L 30.103125 376.918125 \n",
              "z\n",
              "\" style=\"fill: #ffffff\"/>\n",
              "   </g>\n",
              "   <g id=\"matplotlib.axis_3\">\n",
              "    <g id=\"xtick_9\">\n",
              "     <g id=\"line2d_55\">\n",
              "      <path d=\"M 60.806307 674.918125 \n",
              "L 60.806307 376.918125 \n",
              "\" clip-path=\"url(#peeb37b02a0)\" style=\"fill: none; stroke: #b0b0b0; stroke-width: 0.8; stroke-linecap: square\"/>\n",
              "     </g>\n",
              "     <g id=\"line2d_56\">\n",
              "      <g>\n",
              "       <use xlink:href=\"#me763055caa\" x=\"60.806307\" y=\"674.918125\" style=\"stroke: #000000; stroke-width: 0.8\"/>\n",
              "      </g>\n",
              "     </g>\n",
              "     <g id=\"text_30\">\n",
              "      <!-- 0 -->\n",
              "      <g transform=\"translate(57.625057 689.516562)scale(0.1 -0.1)\">\n",
              "       <use xlink:href=\"#DejaVuSans-30\"/>\n",
              "      </g>\n",
              "     </g>\n",
              "    </g>\n",
              "    <g id=\"xtick_10\">\n",
              "     <g id=\"line2d_57\">\n",
              "      <path d=\"M 148.529683 674.918125 \n",
              "L 148.529683 376.918125 \n",
              "\" clip-path=\"url(#peeb37b02a0)\" style=\"fill: none; stroke: #b0b0b0; stroke-width: 0.8; stroke-linecap: square\"/>\n",
              "     </g>\n",
              "     <g id=\"line2d_58\">\n",
              "      <g>\n",
              "       <use xlink:href=\"#me763055caa\" x=\"148.529683\" y=\"674.918125\" style=\"stroke: #000000; stroke-width: 0.8\"/>\n",
              "      </g>\n",
              "     </g>\n",
              "     <g id=\"text_31\">\n",
              "      <!-- 2 -->\n",
              "      <g transform=\"translate(145.348433 689.516562)scale(0.1 -0.1)\">\n",
              "       <use xlink:href=\"#DejaVuSans-32\"/>\n",
              "      </g>\n",
              "     </g>\n",
              "    </g>\n",
              "    <g id=\"xtick_11\">\n",
              "     <g id=\"line2d_59\">\n",
              "      <path d=\"M 236.25306 674.918125 \n",
              "L 236.25306 376.918125 \n",
              "\" clip-path=\"url(#peeb37b02a0)\" style=\"fill: none; stroke: #b0b0b0; stroke-width: 0.8; stroke-linecap: square\"/>\n",
              "     </g>\n",
              "     <g id=\"line2d_60\">\n",
              "      <g>\n",
              "       <use xlink:href=\"#me763055caa\" x=\"236.25306\" y=\"674.918125\" style=\"stroke: #000000; stroke-width: 0.8\"/>\n",
              "      </g>\n",
              "     </g>\n",
              "     <g id=\"text_32\">\n",
              "      <!-- 4 -->\n",
              "      <g transform=\"translate(233.07181 689.516562)scale(0.1 -0.1)\">\n",
              "       <use xlink:href=\"#DejaVuSans-34\"/>\n",
              "      </g>\n",
              "     </g>\n",
              "    </g>\n",
              "    <g id=\"xtick_12\">\n",
              "     <g id=\"line2d_61\">\n",
              "      <path d=\"M 323.976437 674.918125 \n",
              "L 323.976437 376.918125 \n",
              "\" clip-path=\"url(#peeb37b02a0)\" style=\"fill: none; stroke: #b0b0b0; stroke-width: 0.8; stroke-linecap: square\"/>\n",
              "     </g>\n",
              "     <g id=\"line2d_62\">\n",
              "      <g>\n",
              "       <use xlink:href=\"#me763055caa\" x=\"323.976437\" y=\"674.918125\" style=\"stroke: #000000; stroke-width: 0.8\"/>\n",
              "      </g>\n",
              "     </g>\n",
              "     <g id=\"text_33\">\n",
              "      <!-- 6 -->\n",
              "      <g transform=\"translate(320.795187 689.516562)scale(0.1 -0.1)\">\n",
              "       <use xlink:href=\"#DejaVuSans-36\"/>\n",
              "      </g>\n",
              "     </g>\n",
              "    </g>\n",
              "    <g id=\"xtick_13\">\n",
              "     <g id=\"line2d_63\">\n",
              "      <path d=\"M 411.699813 674.918125 \n",
              "L 411.699813 376.918125 \n",
              "\" clip-path=\"url(#peeb37b02a0)\" style=\"fill: none; stroke: #b0b0b0; stroke-width: 0.8; stroke-linecap: square\"/>\n",
              "     </g>\n",
              "     <g id=\"line2d_64\">\n",
              "      <g>\n",
              "       <use xlink:href=\"#me763055caa\" x=\"411.699813\" y=\"674.918125\" style=\"stroke: #000000; stroke-width: 0.8\"/>\n",
              "      </g>\n",
              "     </g>\n",
              "     <g id=\"text_34\">\n",
              "      <!-- 8 -->\n",
              "      <g transform=\"translate(408.518563 689.516562)scale(0.1 -0.1)\">\n",
              "       <use xlink:href=\"#DejaVuSans-38\"/>\n",
              "      </g>\n",
              "     </g>\n",
              "    </g>\n",
              "    <g id=\"xtick_14\">\n",
              "     <g id=\"line2d_65\">\n",
              "      <path d=\"M 499.42319 674.918125 \n",
              "L 499.42319 376.918125 \n",
              "\" clip-path=\"url(#peeb37b02a0)\" style=\"fill: none; stroke: #b0b0b0; stroke-width: 0.8; stroke-linecap: square\"/>\n",
              "     </g>\n",
              "     <g id=\"line2d_66\">\n",
              "      <g>\n",
              "       <use xlink:href=\"#me763055caa\" x=\"499.42319\" y=\"674.918125\" style=\"stroke: #000000; stroke-width: 0.8\"/>\n",
              "      </g>\n",
              "     </g>\n",
              "     <g id=\"text_35\">\n",
              "      <!-- 10 -->\n",
              "      <g transform=\"translate(493.06069 689.516562)scale(0.1 -0.1)\">\n",
              "       <use xlink:href=\"#DejaVuSans-31\"/>\n",
              "       <use xlink:href=\"#DejaVuSans-30\" x=\"63.623047\"/>\n",
              "      </g>\n",
              "     </g>\n",
              "    </g>\n",
              "    <g id=\"xtick_15\">\n",
              "     <g id=\"line2d_67\">\n",
              "      <path d=\"M 587.146567 674.918125 \n",
              "L 587.146567 376.918125 \n",
              "\" clip-path=\"url(#peeb37b02a0)\" style=\"fill: none; stroke: #b0b0b0; stroke-width: 0.8; stroke-linecap: square\"/>\n",
              "     </g>\n",
              "     <g id=\"line2d_68\">\n",
              "      <g>\n",
              "       <use xlink:href=\"#me763055caa\" x=\"587.146567\" y=\"674.918125\" style=\"stroke: #000000; stroke-width: 0.8\"/>\n",
              "      </g>\n",
              "     </g>\n",
              "     <g id=\"text_36\">\n",
              "      <!-- 12 -->\n",
              "      <g transform=\"translate(580.784067 689.516562)scale(0.1 -0.1)\">\n",
              "       <use xlink:href=\"#DejaVuSans-31\"/>\n",
              "       <use xlink:href=\"#DejaVuSans-32\" x=\"63.623047\"/>\n",
              "      </g>\n",
              "     </g>\n",
              "    </g>\n",
              "    <g id=\"xtick_16\">\n",
              "     <g id=\"line2d_69\">\n",
              "      <path d=\"M 674.869943 674.918125 \n",
              "L 674.869943 376.918125 \n",
              "\" clip-path=\"url(#peeb37b02a0)\" style=\"fill: none; stroke: #b0b0b0; stroke-width: 0.8; stroke-linecap: square\"/>\n",
              "     </g>\n",
              "     <g id=\"line2d_70\">\n",
              "      <g>\n",
              "       <use xlink:href=\"#me763055caa\" x=\"674.869943\" y=\"674.918125\" style=\"stroke: #000000; stroke-width: 0.8\"/>\n",
              "      </g>\n",
              "     </g>\n",
              "     <g id=\"text_37\">\n",
              "      <!-- 14 -->\n",
              "      <g transform=\"translate(668.507443 689.516562)scale(0.1 -0.1)\">\n",
              "       <use xlink:href=\"#DejaVuSans-31\"/>\n",
              "       <use xlink:href=\"#DejaVuSans-34\" x=\"63.623047\"/>\n",
              "      </g>\n",
              "     </g>\n",
              "    </g>\n",
              "    <g id=\"text_38\">\n",
              "     <!-- Epoch -->\n",
              "     <g transform=\"translate(352.527187 703.194687)scale(0.1 -0.1)\">\n",
              "      <use xlink:href=\"#DejaVuSans-45\"/>\n",
              "      <use xlink:href=\"#DejaVuSans-70\" x=\"63.183594\"/>\n",
              "      <use xlink:href=\"#DejaVuSans-6f\" x=\"126.660156\"/>\n",
              "      <use xlink:href=\"#DejaVuSans-63\" x=\"187.841797\"/>\n",
              "      <use xlink:href=\"#DejaVuSans-68\" x=\"242.822266\"/>\n",
              "     </g>\n",
              "    </g>\n",
              "   </g>\n",
              "   <g id=\"matplotlib.axis_4\">\n",
              "    <g id=\"ytick_6\">\n",
              "     <g id=\"line2d_71\">\n",
              "      <path d=\"M 30.103125 644.814185 \n",
              "L 705.573125 644.814185 \n",
              "\" clip-path=\"url(#peeb37b02a0)\" style=\"fill: none; stroke: #b0b0b0; stroke-width: 0.8; stroke-linecap: square\"/>\n",
              "     </g>\n",
              "     <g id=\"line2d_72\">\n",
              "      <g>\n",
              "       <use xlink:href=\"#m87070af6d8\" x=\"30.103125\" y=\"644.814185\" style=\"stroke: #000000; stroke-width: 0.8\"/>\n",
              "      </g>\n",
              "     </g>\n",
              "     <g id=\"text_39\">\n",
              "      <!-- 0.3 -->\n",
              "      <g transform=\"translate(7.2 648.613404)scale(0.1 -0.1)\">\n",
              "       <defs>\n",
              "        <path id=\"DejaVuSans-2e\" d=\"M 684 794 \n",
              "L 1344 794 \n",
              "L 1344 0 \n",
              "L 684 0 \n",
              "L 684 794 \n",
              "z\n",
              "\" transform=\"scale(0.015625)\"/>\n",
              "       </defs>\n",
              "       <use xlink:href=\"#DejaVuSans-30\"/>\n",
              "       <use xlink:href=\"#DejaVuSans-2e\" x=\"63.623047\"/>\n",
              "       <use xlink:href=\"#DejaVuSans-33\" x=\"95.410156\"/>\n",
              "      </g>\n",
              "     </g>\n",
              "    </g>\n",
              "    <g id=\"ytick_7\">\n",
              "     <g id=\"line2d_73\">\n",
              "      <path d=\"M 30.103125 608.21276 \n",
              "L 705.573125 608.21276 \n",
              "\" clip-path=\"url(#peeb37b02a0)\" style=\"fill: none; stroke: #b0b0b0; stroke-width: 0.8; stroke-linecap: square\"/>\n",
              "     </g>\n",
              "     <g id=\"line2d_74\">\n",
              "      <g>\n",
              "       <use xlink:href=\"#m87070af6d8\" x=\"30.103125\" y=\"608.21276\" style=\"stroke: #000000; stroke-width: 0.8\"/>\n",
              "      </g>\n",
              "     </g>\n",
              "     <g id=\"text_40\">\n",
              "      <!-- 0.4 -->\n",
              "      <g transform=\"translate(7.2 612.011979)scale(0.1 -0.1)\">\n",
              "       <use xlink:href=\"#DejaVuSans-30\"/>\n",
              "       <use xlink:href=\"#DejaVuSans-2e\" x=\"63.623047\"/>\n",
              "       <use xlink:href=\"#DejaVuSans-34\" x=\"95.410156\"/>\n",
              "      </g>\n",
              "     </g>\n",
              "    </g>\n",
              "    <g id=\"ytick_8\">\n",
              "     <g id=\"line2d_75\">\n",
              "      <path d=\"M 30.103125 571.611335 \n",
              "L 705.573125 571.611335 \n",
              "\" clip-path=\"url(#peeb37b02a0)\" style=\"fill: none; stroke: #b0b0b0; stroke-width: 0.8; stroke-linecap: square\"/>\n",
              "     </g>\n",
              "     <g id=\"line2d_76\">\n",
              "      <g>\n",
              "       <use xlink:href=\"#m87070af6d8\" x=\"30.103125\" y=\"571.611335\" style=\"stroke: #000000; stroke-width: 0.8\"/>\n",
              "      </g>\n",
              "     </g>\n",
              "     <g id=\"text_41\">\n",
              "      <!-- 0.5 -->\n",
              "      <g transform=\"translate(7.2 575.410554)scale(0.1 -0.1)\">\n",
              "       <defs>\n",
              "        <path id=\"DejaVuSans-35\" d=\"M 691 4666 \n",
              "L 3169 4666 \n",
              "L 3169 4134 \n",
              "L 1269 4134 \n",
              "L 1269 2991 \n",
              "Q 1406 3038 1543 3061 \n",
              "Q 1681 3084 1819 3084 \n",
              "Q 2600 3084 3056 2656 \n",
              "Q 3513 2228 3513 1497 \n",
              "Q 3513 744 3044 326 \n",
              "Q 2575 -91 1722 -91 \n",
              "Q 1428 -91 1123 -41 \n",
              "Q 819 9 494 109 \n",
              "L 494 744 \n",
              "Q 775 591 1075 516 \n",
              "Q 1375 441 1709 441 \n",
              "Q 2250 441 2565 725 \n",
              "Q 2881 1009 2881 1497 \n",
              "Q 2881 1984 2565 2268 \n",
              "Q 2250 2553 1709 2553 \n",
              "Q 1456 2553 1204 2497 \n",
              "Q 953 2441 691 2322 \n",
              "L 691 4666 \n",
              "z\n",
              "\" transform=\"scale(0.015625)\"/>\n",
              "       </defs>\n",
              "       <use xlink:href=\"#DejaVuSans-30\"/>\n",
              "       <use xlink:href=\"#DejaVuSans-2e\" x=\"63.623047\"/>\n",
              "       <use xlink:href=\"#DejaVuSans-35\" x=\"95.410156\"/>\n",
              "      </g>\n",
              "     </g>\n",
              "    </g>\n",
              "    <g id=\"ytick_9\">\n",
              "     <g id=\"line2d_77\">\n",
              "      <path d=\"M 30.103125 535.00991 \n",
              "L 705.573125 535.00991 \n",
              "\" clip-path=\"url(#peeb37b02a0)\" style=\"fill: none; stroke: #b0b0b0; stroke-width: 0.8; stroke-linecap: square\"/>\n",
              "     </g>\n",
              "     <g id=\"line2d_78\">\n",
              "      <g>\n",
              "       <use xlink:href=\"#m87070af6d8\" x=\"30.103125\" y=\"535.00991\" style=\"stroke: #000000; stroke-width: 0.8\"/>\n",
              "      </g>\n",
              "     </g>\n",
              "     <g id=\"text_42\">\n",
              "      <!-- 0.6 -->\n",
              "      <g transform=\"translate(7.2 538.809129)scale(0.1 -0.1)\">\n",
              "       <use xlink:href=\"#DejaVuSans-30\"/>\n",
              "       <use xlink:href=\"#DejaVuSans-2e\" x=\"63.623047\"/>\n",
              "       <use xlink:href=\"#DejaVuSans-36\" x=\"95.410156\"/>\n",
              "      </g>\n",
              "     </g>\n",
              "    </g>\n",
              "    <g id=\"ytick_10\">\n",
              "     <g id=\"line2d_79\">\n",
              "      <path d=\"M 30.103125 498.408485 \n",
              "L 705.573125 498.408485 \n",
              "\" clip-path=\"url(#peeb37b02a0)\" style=\"fill: none; stroke: #b0b0b0; stroke-width: 0.8; stroke-linecap: square\"/>\n",
              "     </g>\n",
              "     <g id=\"line2d_80\">\n",
              "      <g>\n",
              "       <use xlink:href=\"#m87070af6d8\" x=\"30.103125\" y=\"498.408485\" style=\"stroke: #000000; stroke-width: 0.8\"/>\n",
              "      </g>\n",
              "     </g>\n",
              "     <g id=\"text_43\">\n",
              "      <!-- 0.7 -->\n",
              "      <g transform=\"translate(7.2 502.207704)scale(0.1 -0.1)\">\n",
              "       <defs>\n",
              "        <path id=\"DejaVuSans-37\" d=\"M 525 4666 \n",
              "L 3525 4666 \n",
              "L 3525 4397 \n",
              "L 1831 0 \n",
              "L 1172 0 \n",
              "L 2766 4134 \n",
              "L 525 4134 \n",
              "L 525 4666 \n",
              "z\n",
              "\" transform=\"scale(0.015625)\"/>\n",
              "       </defs>\n",
              "       <use xlink:href=\"#DejaVuSans-30\"/>\n",
              "       <use xlink:href=\"#DejaVuSans-2e\" x=\"63.623047\"/>\n",
              "       <use xlink:href=\"#DejaVuSans-37\" x=\"95.410156\"/>\n",
              "      </g>\n",
              "     </g>\n",
              "    </g>\n",
              "    <g id=\"ytick_11\">\n",
              "     <g id=\"line2d_81\">\n",
              "      <path d=\"M 30.103125 461.807061 \n",
              "L 705.573125 461.807061 \n",
              "\" clip-path=\"url(#peeb37b02a0)\" style=\"fill: none; stroke: #b0b0b0; stroke-width: 0.8; stroke-linecap: square\"/>\n",
              "     </g>\n",
              "     <g id=\"line2d_82\">\n",
              "      <g>\n",
              "       <use xlink:href=\"#m87070af6d8\" x=\"30.103125\" y=\"461.807061\" style=\"stroke: #000000; stroke-width: 0.8\"/>\n",
              "      </g>\n",
              "     </g>\n",
              "     <g id=\"text_44\">\n",
              "      <!-- 0.8 -->\n",
              "      <g transform=\"translate(7.2 465.606279)scale(0.1 -0.1)\">\n",
              "       <use xlink:href=\"#DejaVuSans-30\"/>\n",
              "       <use xlink:href=\"#DejaVuSans-2e\" x=\"63.623047\"/>\n",
              "       <use xlink:href=\"#DejaVuSans-38\" x=\"95.410156\"/>\n",
              "      </g>\n",
              "     </g>\n",
              "    </g>\n",
              "    <g id=\"ytick_12\">\n",
              "     <g id=\"line2d_83\">\n",
              "      <path d=\"M 30.103125 425.205636 \n",
              "L 705.573125 425.205636 \n",
              "\" clip-path=\"url(#peeb37b02a0)\" style=\"fill: none; stroke: #b0b0b0; stroke-width: 0.8; stroke-linecap: square\"/>\n",
              "     </g>\n",
              "     <g id=\"line2d_84\">\n",
              "      <g>\n",
              "       <use xlink:href=\"#m87070af6d8\" x=\"30.103125\" y=\"425.205636\" style=\"stroke: #000000; stroke-width: 0.8\"/>\n",
              "      </g>\n",
              "     </g>\n",
              "     <g id=\"text_45\">\n",
              "      <!-- 0.9 -->\n",
              "      <g transform=\"translate(7.2 429.004855)scale(0.1 -0.1)\">\n",
              "       <defs>\n",
              "        <path id=\"DejaVuSans-39\" d=\"M 703 97 \n",
              "L 703 672 \n",
              "Q 941 559 1184 500 \n",
              "Q 1428 441 1663 441 \n",
              "Q 2288 441 2617 861 \n",
              "Q 2947 1281 2994 2138 \n",
              "Q 2813 1869 2534 1725 \n",
              "Q 2256 1581 1919 1581 \n",
              "Q 1219 1581 811 2004 \n",
              "Q 403 2428 403 3163 \n",
              "Q 403 3881 828 4315 \n",
              "Q 1253 4750 1959 4750 \n",
              "Q 2769 4750 3195 4129 \n",
              "Q 3622 3509 3622 2328 \n",
              "Q 3622 1225 3098 567 \n",
              "Q 2575 -91 1691 -91 \n",
              "Q 1453 -91 1209 -44 \n",
              "Q 966 3 703 97 \n",
              "z\n",
              "M 1959 2075 \n",
              "Q 2384 2075 2632 2365 \n",
              "Q 2881 2656 2881 3163 \n",
              "Q 2881 3666 2632 3958 \n",
              "Q 2384 4250 1959 4250 \n",
              "Q 1534 4250 1286 3958 \n",
              "Q 1038 3666 1038 3163 \n",
              "Q 1038 2656 1286 2365 \n",
              "Q 1534 2075 1959 2075 \n",
              "z\n",
              "\" transform=\"scale(0.015625)\"/>\n",
              "       </defs>\n",
              "       <use xlink:href=\"#DejaVuSans-30\"/>\n",
              "       <use xlink:href=\"#DejaVuSans-2e\" x=\"63.623047\"/>\n",
              "       <use xlink:href=\"#DejaVuSans-39\" x=\"95.410156\"/>\n",
              "      </g>\n",
              "     </g>\n",
              "    </g>\n",
              "    <g id=\"ytick_13\">\n",
              "     <g id=\"line2d_85\">\n",
              "      <path d=\"M 30.103125 388.604211 \n",
              "L 705.573125 388.604211 \n",
              "\" clip-path=\"url(#peeb37b02a0)\" style=\"fill: none; stroke: #b0b0b0; stroke-width: 0.8; stroke-linecap: square\"/>\n",
              "     </g>\n",
              "     <g id=\"line2d_86\">\n",
              "      <g>\n",
              "       <use xlink:href=\"#m87070af6d8\" x=\"30.103125\" y=\"388.604211\" style=\"stroke: #000000; stroke-width: 0.8\"/>\n",
              "      </g>\n",
              "     </g>\n",
              "     <g id=\"text_46\">\n",
              "      <!-- 1.0 -->\n",
              "      <g transform=\"translate(7.2 392.40343)scale(0.1 -0.1)\">\n",
              "       <use xlink:href=\"#DejaVuSans-31\"/>\n",
              "       <use xlink:href=\"#DejaVuSans-2e\" x=\"63.623047\"/>\n",
              "       <use xlink:href=\"#DejaVuSans-30\" x=\"95.410156\"/>\n",
              "      </g>\n",
              "     </g>\n",
              "    </g>\n",
              "   </g>\n",
              "   <g id=\"line2d_87\">\n",
              "    <path d=\"M 60.806307 641.973914 \n",
              "L 104.667995 607.158645 \n",
              "L 148.529683 581.859733 \n",
              "L 192.391372 553.222787 \n",
              "L 236.25306 515.625795 \n",
              "L 280.114748 482.479559 \n",
              "L 323.976437 449.172255 \n",
              "L 367.838125 427.372446 \n",
              "L 411.699813 409.203499 \n",
              "L 455.561502 401.107264 \n",
              "L 499.42319 394.709329 \n",
              "L 543.284878 392.820705 \n",
              "L 587.146567 391.371284 \n",
              "L 631.008255 392.000833 \n",
              "L 674.869943 392.074026 \n",
              "\" clip-path=\"url(#peeb37b02a0)\" style=\"fill: none; stroke: #000000; stroke-width: 1.5; stroke-linecap: square\"/>\n",
              "   </g>\n",
              "   <g id=\"line2d_88\">\n",
              "    <path d=\"M 60.806307 641.446858 \n",
              "L 104.667995 621.477118 \n",
              "L 148.529683 623.65857 \n",
              "L 192.391372 614.361803 \n",
              "L 236.25306 619.559206 \n",
              "L 280.114748 620.232671 \n",
              "L 323.976437 625.517916 \n",
              "L 367.838125 628.15322 \n",
              "L 411.699813 630.642115 \n",
              "L 455.561502 637.625672 \n",
              "L 499.42319 632.340426 \n",
              "L 543.284878 636.527622 \n",
              "L 587.146567 633.365262 \n",
              "L 631.008255 632.223295 \n",
              "L 674.869943 634.653636 \n",
              "\" clip-path=\"url(#peeb37b02a0)\" style=\"fill: none; stroke-dasharray: 5.55,2.4; stroke-dashoffset: 0; stroke: #000000; stroke-width: 1.5\"/>\n",
              "   </g>\n",
              "   <g id=\"line2d_89\">\n",
              "    <path d=\"M 60.806307 658.532404 \n",
              "L 104.667995 606.646227 \n",
              "L 148.529683 581.947587 \n",
              "L 192.391372 554.071937 \n",
              "L 236.25306 519.695881 \n",
              "L 280.114748 480.956923 \n",
              "L 323.976437 454.72104 \n",
              "L 367.838125 429.070746 \n",
              "L 411.699813 412.365859 \n",
              "L 455.561502 403.903615 \n",
              "L 499.42319 397.022539 \n",
              "L 543.284878 393.479531 \n",
              "L 587.146567 391.883702 \n",
              "L 631.008255 391.078468 \n",
              "L 674.869943 391.971555 \n",
              "\" clip-path=\"url(#peeb37b02a0)\" style=\"fill: none; stroke: #ff0000; stroke-width: 1.5; stroke-linecap: square\"/>\n",
              "   </g>\n",
              "   <g id=\"line2d_90\">\n",
              "    <path d=\"M 60.806307 657.946782 \n",
              "L 104.667995 621.09647 \n",
              "L 148.529683 617.670571 \n",
              "L 192.391372 613.820097 \n",
              "L 236.25306 620.335152 \n",
              "L 280.114748 623.248633 \n",
              "L 323.976437 624.99086 \n",
              "L 367.838125 629.910085 \n",
              "L 411.699813 631.959767 \n",
              "L 455.561502 629.924724 \n",
              "L 499.42319 630.290744 \n",
              "L 543.284878 634.653636 \n",
              "L 587.146567 635.502786 \n",
              "L 631.008255 635.312462 \n",
              "L 674.869943 643.716141 \n",
              "\" clip-path=\"url(#peeb37b02a0)\" style=\"fill: none; stroke-dasharray: 5.55,2.4; stroke-dashoffset: 0; stroke: #ff0000; stroke-width: 1.5\"/>\n",
              "   </g>\n",
              "   <g id=\"line2d_91\">\n",
              "    <path d=\"M 60.806307 638.211294 \n",
              "L 104.667995 618.256193 \n",
              "L 148.529683 602.751827 \n",
              "L 192.391372 590.248784 \n",
              "L 236.25306 567.248454 \n",
              "L 280.114748 557.087888 \n",
              "L 323.976437 539.050711 \n",
              "L 367.838125 522.828964 \n",
              "L 411.699813 514.10318 \n",
              "L 455.561502 496.783383 \n",
              "L 499.42319 478.877975 \n",
              "L 543.284878 470.06436 \n",
              "L 587.146567 470.445008 \n",
              "L 631.008255 445.70244 \n",
              "L 674.869943 435.044117 \n",
              "\" clip-path=\"url(#peeb37b02a0)\" style=\"fill: none; stroke: #0000ff; stroke-width: 1.5; stroke-linecap: square\"/>\n",
              "   </g>\n",
              "   <g id=\"line2d_92\">\n",
              "    <path d=\"M 60.806307 640.099929 \n",
              "L 104.667995 623.717124 \n",
              "L 148.529683 619.119992 \n",
              "L 192.391372 616.821421 \n",
              "L 236.25306 614.171479 \n",
              "L 280.114748 608.007795 \n",
              "L 323.976437 610.613821 \n",
              "L 367.838125 609.750022 \n",
              "L 411.699813 608.944788 \n",
              "L 455.561502 613.820097 \n",
              "L 499.42319 613.219837 \n",
              "L 543.284878 616.748217 \n",
              "L 587.146567 611.199443 \n",
              "L 631.008255 615.928344 \n",
              "L 674.869943 619.99842 \n",
              "\" clip-path=\"url(#peeb37b02a0)\" style=\"fill: none; stroke-dasharray: 5.55,2.4; stroke-dashoffset: 0; stroke: #0000ff; stroke-width: 1.5\"/>\n",
              "   </g>\n",
              "   <g id=\"line2d_93\">\n",
              "    <path d=\"M 60.806307 634.521867 \n",
              "L 104.667995 610.862711 \n",
              "L 148.529683 588.272307 \n",
              "L 192.391372 556.165545 \n",
              "L 236.25306 519.066332 \n",
              "L 280.114748 492.962197 \n",
              "L 323.976437 456.65358 \n",
              "L 367.838125 434.648808 \n",
              "L 411.699813 411.282469 \n",
              "L 455.561502 404.533163 \n",
              "L 499.42319 397.359272 \n",
              "L 543.284878 393.172076 \n",
              "L 587.146567 392.366842 \n",
              "L 631.008255 390.932081 \n",
              "L 674.869943 390.46358 \n",
              "\" clip-path=\"url(#peeb37b02a0)\" style=\"fill: none; stroke: #008000; stroke-width: 1.5; stroke-linecap: square\"/>\n",
              "   </g>\n",
              "   <g id=\"line2d_94\">\n",
              "    <path d=\"M 60.806307 635.473509 \n",
              "L 104.667995 624.141699 \n",
              "L 148.529683 615.430565 \n",
              "L 192.391372 617.875545 \n",
              "L 236.25306 618.578287 \n",
              "L 280.114748 627.977535 \n",
              "L 323.976437 626.0889 \n",
              "L 367.838125 630.715319 \n",
              "L 411.699813 634.917164 \n",
              "L 455.561502 631.418061 \n",
              "L 499.42319 640.817309 \n",
              "L 543.284878 638.357691 \n",
              "L 587.146567 637.215736 \n",
              "L 631.008255 640.714828 \n",
              "L 674.869943 641.402931 \n",
              "\" clip-path=\"url(#peeb37b02a0)\" style=\"fill: none; stroke-dasharray: 5.55,2.4; stroke-dashoffset: 0; stroke: #008000; stroke-width: 1.5\"/>\n",
              "   </g>\n",
              "   <g id=\"line2d_95\">\n",
              "    <path d=\"M 60.806307 643.833272 \n",
              "L 104.667995 620.847581 \n",
              "L 148.529683 610.072115 \n",
              "L 192.391372 591.873891 \n",
              "L 236.25306 581.230195 \n",
              "L 280.114748 562.256025 \n",
              "L 323.976437 544.52628 \n",
              "L 367.838125 536.898547 \n",
              "L 411.699813 521.65772 \n",
              "L 455.561502 500.809553 \n",
              "L 499.42319 488.247946 \n",
              "L 543.284878 470.972064 \n",
              "L 587.146567 459.201052 \n",
              "L 631.008255 450.607038 \n",
              "L 674.869943 445.760995 \n",
              "\" clip-path=\"url(#peeb37b02a0)\" style=\"fill: none; stroke: #ffa500; stroke-width: 1.5; stroke-linecap: square\"/>\n",
              "   </g>\n",
              "   <g id=\"line2d_96\">\n",
              "    <path d=\"M 60.806307 645.370525 \n",
              "L 104.667995 625.298304 \n",
              "L 148.529683 620.671884 \n",
              "L 192.391372 613.088078 \n",
              "L 236.25306 609.998911 \n",
              "L 280.114748 610.540617 \n",
              "L 323.976437 610.804145 \n",
              "L 367.838125 607.83211 \n",
              "L 411.699813 609.735383 \n",
              "L 455.561502 614.625331 \n",
              "L 499.42319 617.43632 \n",
              "L 543.284878 616.47005 \n",
              "L 587.146567 618.680768 \n",
              "L 631.008255 618.710056 \n",
              "L 674.869943 618.666129 \n",
              "\" clip-path=\"url(#peeb37b02a0)\" style=\"fill: none; stroke-dasharray: 5.55,2.4; stroke-dashoffset: 0; stroke: #ffa500; stroke-width: 1.5\"/>\n",
              "   </g>\n",
              "   <g id=\"line2d_97\">\n",
              "    <path d=\"M 60.806307 659.952537 \n",
              "L 104.667995 613.878663 \n",
              "L 148.529683 590.17558 \n",
              "L 192.391372 568.214735 \n",
              "L 236.25306 546.048895 \n",
              "L 280.114748 506.19727 \n",
              "L 323.976437 474.734695 \n",
              "L 367.838125 447.005453 \n",
              "L 411.699813 426.215841 \n",
              "L 455.561502 409.891602 \n",
              "L 499.42319 401.019432 \n",
              "L 543.284878 396.349075 \n",
              "L 587.146567 392.937836 \n",
              "L 631.008255 391.854425 \n",
              "L 674.869943 390.624626 \n",
              "\" clip-path=\"url(#peeb37b02a0)\" style=\"fill: none; stroke: #800080; stroke-width: 1.5; stroke-linecap: square\"/>\n",
              "   </g>\n",
              "   <g id=\"line2d_98\">\n",
              "    <path d=\"M 60.806307 661.37267 \n",
              "L 104.667995 622.370195 \n",
              "L 148.529683 616.206511 \n",
              "L 192.391372 617.348478 \n",
              "L 236.25306 613.527292 \n",
              "L 280.114748 622.721566 \n",
              "L 323.976437 622.589807 \n",
              "L 367.838125 633.013891 \n",
              "L 411.699813 635.297813 \n",
              "L 455.561502 632.926048 \n",
              "L 499.42319 633.248142 \n",
              "L 543.284878 634.316904 \n",
              "L 587.146567 636.366575 \n",
              "L 631.008255 639.089721 \n",
              "L 674.869943 637.845273 \n",
              "\" clip-path=\"url(#peeb37b02a0)\" style=\"fill: none; stroke-dasharray: 5.55,2.4; stroke-dashoffset: 0; stroke: #800080; stroke-width: 1.5\"/>\n",
              "   </g>\n",
              "   <g id=\"line2d_99\">\n",
              "    <path d=\"M 60.806307 647.464134 \n",
              "L 104.667995 625.078703 \n",
              "L 148.529683 614.962064 \n",
              "L 192.391372 597.525146 \n",
              "L 236.25306 589.57532 \n",
              "L 280.114748 574.832261 \n",
              "L 323.976437 564.144649 \n",
              "L 367.838125 551.187754 \n",
              "L 411.699813 537.703782 \n",
              "L 455.561502 532.052526 \n",
              "L 499.42319 522.316546 \n",
              "L 543.284878 507.031781 \n",
              "L 587.146567 497.939988 \n",
              "L 631.008255 482.274575 \n",
              "L 674.869943 474.66148 \n",
              "\" clip-path=\"url(#peeb37b02a0)\" style=\"fill: none; stroke: #00ffff; stroke-width: 1.5; stroke-linecap: square\"/>\n",
              "   </g>\n",
              "   <g id=\"line2d_100\">\n",
              "    <path d=\"M 60.806307 648.035117 \n",
              "L 104.667995 631.081329 \n",
              "L 148.529683 624.302746 \n",
              "L 192.391372 619.764169 \n",
              "L 236.25306 613.000224 \n",
              "L 280.114748 610.116042 \n",
              "L 323.976437 612.004666 \n",
              "L 367.838125 616.367558 \n",
              "L 411.699813 616.191873 \n",
              "L 455.561502 610.584533 \n",
              "L 499.42319 612.517095 \n",
              "L 543.284878 613.439449 \n",
              "L 587.146567 613.029513 \n",
              "L 631.008255 616.309003 \n",
              "L 674.869943 616.777494 \n",
              "\" clip-path=\"url(#peeb37b02a0)\" style=\"fill: none; stroke-dasharray: 5.55,2.4; stroke-dashoffset: 0; stroke: #00ffff; stroke-width: 1.5\"/>\n",
              "   </g>\n",
              "   <g id=\"patch_9\">\n",
              "    <path d=\"M 30.103125 674.918125 \n",
              "L 30.103125 376.918125 \n",
              "\" style=\"fill: none; stroke: #000000; stroke-width: 0.8; stroke-linejoin: miter; stroke-linecap: square\"/>\n",
              "   </g>\n",
              "   <g id=\"patch_10\">\n",
              "    <path d=\"M 705.573125 674.918125 \n",
              "L 705.573125 376.918125 \n",
              "\" style=\"fill: none; stroke: #000000; stroke-width: 0.8; stroke-linejoin: miter; stroke-linecap: square\"/>\n",
              "   </g>\n",
              "   <g id=\"patch_11\">\n",
              "    <path d=\"M 30.103125 674.918125 \n",
              "L 705.573125 674.918125 \n",
              "\" style=\"fill: none; stroke: #000000; stroke-width: 0.8; stroke-linejoin: miter; stroke-linecap: square\"/>\n",
              "   </g>\n",
              "   <g id=\"patch_12\">\n",
              "    <path d=\"M 30.103125 376.918125 \n",
              "L 705.573125 376.918125 \n",
              "\" style=\"fill: none; stroke: #000000; stroke-width: 0.8; stroke-linejoin: miter; stroke-linecap: square\"/>\n",
              "   </g>\n",
              "   <g id=\"text_47\">\n",
              "    <!-- Accuracy -->\n",
              "    <g transform=\"translate(340.444375 370.918125)scale(0.12 -0.12)\">\n",
              "     <defs>\n",
              "      <path id=\"DejaVuSans-41\" d=\"M 2188 4044 \n",
              "L 1331 1722 \n",
              "L 3047 1722 \n",
              "L 2188 4044 \n",
              "z\n",
              "M 1831 4666 \n",
              "L 2547 4666 \n",
              "L 4325 0 \n",
              "L 3669 0 \n",
              "L 3244 1197 \n",
              "L 1141 1197 \n",
              "L 716 0 \n",
              "L 50 0 \n",
              "L 1831 4666 \n",
              "z\n",
              "\" transform=\"scale(0.015625)\"/>\n",
              "      <path id=\"DejaVuSans-75\" d=\"M 544 1381 \n",
              "L 544 3500 \n",
              "L 1119 3500 \n",
              "L 1119 1403 \n",
              "Q 1119 906 1312 657 \n",
              "Q 1506 409 1894 409 \n",
              "Q 2359 409 2629 706 \n",
              "Q 2900 1003 2900 1516 \n",
              "L 2900 3500 \n",
              "L 3475 3500 \n",
              "L 3475 0 \n",
              "L 2900 0 \n",
              "L 2900 538 \n",
              "Q 2691 219 2414 64 \n",
              "Q 2138 -91 1772 -91 \n",
              "Q 1169 -91 856 284 \n",
              "Q 544 659 544 1381 \n",
              "z\n",
              "M 1991 3584 \n",
              "L 1991 3584 \n",
              "z\n",
              "\" transform=\"scale(0.015625)\"/>\n",
              "     </defs>\n",
              "     <use xlink:href=\"#DejaVuSans-41\"/>\n",
              "     <use xlink:href=\"#DejaVuSans-63\" x=\"66.658203\"/>\n",
              "     <use xlink:href=\"#DejaVuSans-63\" x=\"121.638672\"/>\n",
              "     <use xlink:href=\"#DejaVuSans-75\" x=\"176.619141\"/>\n",
              "     <use xlink:href=\"#DejaVuSans-72\" x=\"239.998047\"/>\n",
              "     <use xlink:href=\"#DejaVuSans-61\" x=\"281.111328\"/>\n",
              "     <use xlink:href=\"#DejaVuSans-63\" x=\"342.390625\"/>\n",
              "     <use xlink:href=\"#DejaVuSans-79\" x=\"397.371094\"/>\n",
              "    </g>\n",
              "   </g>\n",
              "   <g id=\"legend_2\">\n",
              "    <g id=\"patch_13\">\n",
              "     <path d=\"M 37.103125 590.411875 \n",
              "L 160.320313 590.411875 \n",
              "Q 162.320313 590.411875 162.320313 588.411875 \n",
              "L 162.320313 383.918125 \n",
              "Q 162.320313 381.918125 160.320313 381.918125 \n",
              "L 37.103125 381.918125 \n",
              "Q 35.103125 381.918125 35.103125 383.918125 \n",
              "L 35.103125 588.411875 \n",
              "Q 35.103125 590.411875 37.103125 590.411875 \n",
              "z\n",
              "\" style=\"fill: #ffffff; opacity: 0.8; stroke: #cccccc; stroke-linejoin: miter\"/>\n",
              "    </g>\n",
              "    <g id=\"line2d_101\">\n",
              "     <path d=\"M 39.103125 390.016562 \n",
              "L 49.103125 390.016562 \n",
              "L 59.103125 390.016562 \n",
              "\" style=\"fill: none; stroke: #000000; stroke-width: 1.5; stroke-linecap: square\"/>\n",
              "    </g>\n",
              "    <g id=\"text_48\">\n",
              "     <!-- Base -->\n",
              "     <g transform=\"translate(67.103125 393.516562)scale(0.1 -0.1)\">\n",
              "      <use xlink:href=\"#DejaVuSans-42\"/>\n",
              "      <use xlink:href=\"#DejaVuSans-61\" x=\"68.603516\"/>\n",
              "      <use xlink:href=\"#DejaVuSans-73\" x=\"129.882812\"/>\n",
              "      <use xlink:href=\"#DejaVuSans-65\" x=\"181.982422\"/>\n",
              "     </g>\n",
              "    </g>\n",
              "    <g id=\"line2d_102\">\n",
              "     <path d=\"M 39.103125 404.694687 \n",
              "L 49.103125 404.694687 \n",
              "L 59.103125 404.694687 \n",
              "\" style=\"fill: none; stroke-dasharray: 5.55,2.4; stroke-dashoffset: 0; stroke: #000000; stroke-width: 1.5\"/>\n",
              "    </g>\n",
              "    <g id=\"text_49\">\n",
              "     <!-- Base -->\n",
              "     <g transform=\"translate(67.103125 408.194687)scale(0.1 -0.1)\">\n",
              "      <use xlink:href=\"#DejaVuSans-42\"/>\n",
              "      <use xlink:href=\"#DejaVuSans-61\" x=\"68.603516\"/>\n",
              "      <use xlink:href=\"#DejaVuSans-73\" x=\"129.882812\"/>\n",
              "      <use xlink:href=\"#DejaVuSans-65\" x=\"181.982422\"/>\n",
              "     </g>\n",
              "    </g>\n",
              "    <g id=\"line2d_103\">\n",
              "     <path d=\"M 39.103125 419.372812 \n",
              "L 49.103125 419.372812 \n",
              "L 59.103125 419.372812 \n",
              "\" style=\"fill: none; stroke: #ff0000; stroke-width: 1.5; stroke-linecap: square\"/>\n",
              "    </g>\n",
              "    <g id=\"text_50\">\n",
              "     <!-- VarDropCheck -->\n",
              "     <g transform=\"translate(67.103125 422.872812)scale(0.1 -0.1)\">\n",
              "      <use xlink:href=\"#DejaVuSans-56\"/>\n",
              "      <use xlink:href=\"#DejaVuSans-61\" x=\"60.658203\"/>\n",
              "      <use xlink:href=\"#DejaVuSans-72\" x=\"121.9375\"/>\n",
              "      <use xlink:href=\"#DejaVuSans-44\" x=\"163.050781\"/>\n",
              "      <use xlink:href=\"#DejaVuSans-72\" x=\"240.052734\"/>\n",
              "      <use xlink:href=\"#DejaVuSans-6f\" x=\"278.916016\"/>\n",
              "      <use xlink:href=\"#DejaVuSans-70\" x=\"340.097656\"/>\n",
              "      <use xlink:href=\"#DejaVuSans-43\" x=\"403.574219\"/>\n",
              "      <use xlink:href=\"#DejaVuSans-68\" x=\"473.398438\"/>\n",
              "      <use xlink:href=\"#DejaVuSans-65\" x=\"536.777344\"/>\n",
              "      <use xlink:href=\"#DejaVuSans-63\" x=\"598.300781\"/>\n",
              "      <use xlink:href=\"#DejaVuSans-6b\" x=\"653.28125\"/>\n",
              "     </g>\n",
              "    </g>\n",
              "    <g id=\"line2d_104\">\n",
              "     <path d=\"M 39.103125 434.050937 \n",
              "L 49.103125 434.050937 \n",
              "L 59.103125 434.050937 \n",
              "\" style=\"fill: none; stroke-dasharray: 5.55,2.4; stroke-dashoffset: 0; stroke: #ff0000; stroke-width: 1.5\"/>\n",
              "    </g>\n",
              "    <g id=\"text_51\">\n",
              "     <!-- VarDropCheck -->\n",
              "     <g transform=\"translate(67.103125 437.550937)scale(0.1 -0.1)\">\n",
              "      <use xlink:href=\"#DejaVuSans-56\"/>\n",
              "      <use xlink:href=\"#DejaVuSans-61\" x=\"60.658203\"/>\n",
              "      <use xlink:href=\"#DejaVuSans-72\" x=\"121.9375\"/>\n",
              "      <use xlink:href=\"#DejaVuSans-44\" x=\"163.050781\"/>\n",
              "      <use xlink:href=\"#DejaVuSans-72\" x=\"240.052734\"/>\n",
              "      <use xlink:href=\"#DejaVuSans-6f\" x=\"278.916016\"/>\n",
              "      <use xlink:href=\"#DejaVuSans-70\" x=\"340.097656\"/>\n",
              "      <use xlink:href=\"#DejaVuSans-43\" x=\"403.574219\"/>\n",
              "      <use xlink:href=\"#DejaVuSans-68\" x=\"473.398438\"/>\n",
              "      <use xlink:href=\"#DejaVuSans-65\" x=\"536.777344\"/>\n",
              "      <use xlink:href=\"#DejaVuSans-63\" x=\"598.300781\"/>\n",
              "      <use xlink:href=\"#DejaVuSans-6b\" x=\"653.28125\"/>\n",
              "     </g>\n",
              "    </g>\n",
              "    <g id=\"line2d_105\">\n",
              "     <path d=\"M 39.103125 448.729062 \n",
              "L 49.103125 448.729062 \n",
              "L 59.103125 448.729062 \n",
              "\" style=\"fill: none; stroke: #0000ff; stroke-width: 1.5; stroke-linecap: square\"/>\n",
              "    </g>\n",
              "    <g id=\"text_52\">\n",
              "     <!-- VarDrop -->\n",
              "     <g transform=\"translate(67.103125 452.229062)scale(0.1 -0.1)\">\n",
              "      <use xlink:href=\"#DejaVuSans-56\"/>\n",
              "      <use xlink:href=\"#DejaVuSans-61\" x=\"60.658203\"/>\n",
              "      <use xlink:href=\"#DejaVuSans-72\" x=\"121.9375\"/>\n",
              "      <use xlink:href=\"#DejaVuSans-44\" x=\"163.050781\"/>\n",
              "      <use xlink:href=\"#DejaVuSans-72\" x=\"240.052734\"/>\n",
              "      <use xlink:href=\"#DejaVuSans-6f\" x=\"278.916016\"/>\n",
              "      <use xlink:href=\"#DejaVuSans-70\" x=\"340.097656\"/>\n",
              "     </g>\n",
              "    </g>\n",
              "    <g id=\"line2d_106\">\n",
              "     <path d=\"M 39.103125 463.407187 \n",
              "L 49.103125 463.407187 \n",
              "L 59.103125 463.407187 \n",
              "\" style=\"fill: none; stroke-dasharray: 5.55,2.4; stroke-dashoffset: 0; stroke: #0000ff; stroke-width: 1.5\"/>\n",
              "    </g>\n",
              "    <g id=\"text_53\">\n",
              "     <!-- VarDrop -->\n",
              "     <g transform=\"translate(67.103125 466.907187)scale(0.1 -0.1)\">\n",
              "      <use xlink:href=\"#DejaVuSans-56\"/>\n",
              "      <use xlink:href=\"#DejaVuSans-61\" x=\"60.658203\"/>\n",
              "      <use xlink:href=\"#DejaVuSans-72\" x=\"121.9375\"/>\n",
              "      <use xlink:href=\"#DejaVuSans-44\" x=\"163.050781\"/>\n",
              "      <use xlink:href=\"#DejaVuSans-72\" x=\"240.052734\"/>\n",
              "      <use xlink:href=\"#DejaVuSans-6f\" x=\"278.916016\"/>\n",
              "      <use xlink:href=\"#DejaVuSans-70\" x=\"340.097656\"/>\n",
              "     </g>\n",
              "    </g>\n",
              "    <g id=\"line2d_107\">\n",
              "     <path d=\"M 39.103125 478.085312 \n",
              "L 49.103125 478.085312 \n",
              "L 59.103125 478.085312 \n",
              "\" style=\"fill: none; stroke: #008000; stroke-width: 1.5; stroke-linecap: square\"/>\n",
              "    </g>\n",
              "    <g id=\"text_54\">\n",
              "     <!-- FastVarDropCheck -->\n",
              "     <g transform=\"translate(67.103125 481.585312)scale(0.1 -0.1)\">\n",
              "      <use xlink:href=\"#DejaVuSans-46\"/>\n",
              "      <use xlink:href=\"#DejaVuSans-61\" x=\"48.394531\"/>\n",
              "      <use xlink:href=\"#DejaVuSans-73\" x=\"109.673828\"/>\n",
              "      <use xlink:href=\"#DejaVuSans-74\" x=\"161.773438\"/>\n",
              "      <use xlink:href=\"#DejaVuSans-56\" x=\"200.982422\"/>\n",
              "      <use xlink:href=\"#DejaVuSans-61\" x=\"261.640625\"/>\n",
              "      <use xlink:href=\"#DejaVuSans-72\" x=\"322.919922\"/>\n",
              "      <use xlink:href=\"#DejaVuSans-44\" x=\"364.033203\"/>\n",
              "      <use xlink:href=\"#DejaVuSans-72\" x=\"441.035156\"/>\n",
              "      <use xlink:href=\"#DejaVuSans-6f\" x=\"479.898438\"/>\n",
              "      <use xlink:href=\"#DejaVuSans-70\" x=\"541.080078\"/>\n",
              "      <use xlink:href=\"#DejaVuSans-43\" x=\"604.556641\"/>\n",
              "      <use xlink:href=\"#DejaVuSans-68\" x=\"674.380859\"/>\n",
              "      <use xlink:href=\"#DejaVuSans-65\" x=\"737.759766\"/>\n",
              "      <use xlink:href=\"#DejaVuSans-63\" x=\"799.283203\"/>\n",
              "      <use xlink:href=\"#DejaVuSans-6b\" x=\"854.263672\"/>\n",
              "     </g>\n",
              "    </g>\n",
              "    <g id=\"line2d_108\">\n",
              "     <path d=\"M 39.103125 492.763437 \n",
              "L 49.103125 492.763437 \n",
              "L 59.103125 492.763437 \n",
              "\" style=\"fill: none; stroke-dasharray: 5.55,2.4; stroke-dashoffset: 0; stroke: #008000; stroke-width: 1.5\"/>\n",
              "    </g>\n",
              "    <g id=\"text_55\">\n",
              "     <!-- FastVarDropCheck -->\n",
              "     <g transform=\"translate(67.103125 496.263437)scale(0.1 -0.1)\">\n",
              "      <use xlink:href=\"#DejaVuSans-46\"/>\n",
              "      <use xlink:href=\"#DejaVuSans-61\" x=\"48.394531\"/>\n",
              "      <use xlink:href=\"#DejaVuSans-73\" x=\"109.673828\"/>\n",
              "      <use xlink:href=\"#DejaVuSans-74\" x=\"161.773438\"/>\n",
              "      <use xlink:href=\"#DejaVuSans-56\" x=\"200.982422\"/>\n",
              "      <use xlink:href=\"#DejaVuSans-61\" x=\"261.640625\"/>\n",
              "      <use xlink:href=\"#DejaVuSans-72\" x=\"322.919922\"/>\n",
              "      <use xlink:href=\"#DejaVuSans-44\" x=\"364.033203\"/>\n",
              "      <use xlink:href=\"#DejaVuSans-72\" x=\"441.035156\"/>\n",
              "      <use xlink:href=\"#DejaVuSans-6f\" x=\"479.898438\"/>\n",
              "      <use xlink:href=\"#DejaVuSans-70\" x=\"541.080078\"/>\n",
              "      <use xlink:href=\"#DejaVuSans-43\" x=\"604.556641\"/>\n",
              "      <use xlink:href=\"#DejaVuSans-68\" x=\"674.380859\"/>\n",
              "      <use xlink:href=\"#DejaVuSans-65\" x=\"737.759766\"/>\n",
              "      <use xlink:href=\"#DejaVuSans-63\" x=\"799.283203\"/>\n",
              "      <use xlink:href=\"#DejaVuSans-6b\" x=\"854.263672\"/>\n",
              "     </g>\n",
              "    </g>\n",
              "    <g id=\"line2d_109\">\n",
              "     <path d=\"M 39.103125 507.441562 \n",
              "L 49.103125 507.441562 \n",
              "L 59.103125 507.441562 \n",
              "\" style=\"fill: none; stroke: #ffa500; stroke-width: 1.5; stroke-linecap: square\"/>\n",
              "    </g>\n",
              "    <g id=\"text_56\">\n",
              "     <!-- FastVarDrop -->\n",
              "     <g transform=\"translate(67.103125 510.941562)scale(0.1 -0.1)\">\n",
              "      <use xlink:href=\"#DejaVuSans-46\"/>\n",
              "      <use xlink:href=\"#DejaVuSans-61\" x=\"48.394531\"/>\n",
              "      <use xlink:href=\"#DejaVuSans-73\" x=\"109.673828\"/>\n",
              "      <use xlink:href=\"#DejaVuSans-74\" x=\"161.773438\"/>\n",
              "      <use xlink:href=\"#DejaVuSans-56\" x=\"200.982422\"/>\n",
              "      <use xlink:href=\"#DejaVuSans-61\" x=\"261.640625\"/>\n",
              "      <use xlink:href=\"#DejaVuSans-72\" x=\"322.919922\"/>\n",
              "      <use xlink:href=\"#DejaVuSans-44\" x=\"364.033203\"/>\n",
              "      <use xlink:href=\"#DejaVuSans-72\" x=\"441.035156\"/>\n",
              "      <use xlink:href=\"#DejaVuSans-6f\" x=\"479.898438\"/>\n",
              "      <use xlink:href=\"#DejaVuSans-70\" x=\"541.080078\"/>\n",
              "     </g>\n",
              "    </g>\n",
              "    <g id=\"line2d_110\">\n",
              "     <path d=\"M 39.103125 522.119687 \n",
              "L 49.103125 522.119687 \n",
              "L 59.103125 522.119687 \n",
              "\" style=\"fill: none; stroke-dasharray: 5.55,2.4; stroke-dashoffset: 0; stroke: #ffa500; stroke-width: 1.5\"/>\n",
              "    </g>\n",
              "    <g id=\"text_57\">\n",
              "     <!-- FastVarDrop -->\n",
              "     <g transform=\"translate(67.103125 525.619687)scale(0.1 -0.1)\">\n",
              "      <use xlink:href=\"#DejaVuSans-46\"/>\n",
              "      <use xlink:href=\"#DejaVuSans-61\" x=\"48.394531\"/>\n",
              "      <use xlink:href=\"#DejaVuSans-73\" x=\"109.673828\"/>\n",
              "      <use xlink:href=\"#DejaVuSans-74\" x=\"161.773438\"/>\n",
              "      <use xlink:href=\"#DejaVuSans-56\" x=\"200.982422\"/>\n",
              "      <use xlink:href=\"#DejaVuSans-61\" x=\"261.640625\"/>\n",
              "      <use xlink:href=\"#DejaVuSans-72\" x=\"322.919922\"/>\n",
              "      <use xlink:href=\"#DejaVuSans-44\" x=\"364.033203\"/>\n",
              "      <use xlink:href=\"#DejaVuSans-72\" x=\"441.035156\"/>\n",
              "      <use xlink:href=\"#DejaVuSans-6f\" x=\"479.898438\"/>\n",
              "      <use xlink:href=\"#DejaVuSans-70\" x=\"541.080078\"/>\n",
              "     </g>\n",
              "    </g>\n",
              "    <g id=\"line2d_111\">\n",
              "     <path d=\"M 39.103125 536.797812 \n",
              "L 49.103125 536.797812 \n",
              "L 59.103125 536.797812 \n",
              "\" style=\"fill: none; stroke: #800080; stroke-width: 1.5; stroke-linecap: square\"/>\n",
              "    </g>\n",
              "    <g id=\"text_58\">\n",
              "     <!-- HandmadeCheck -->\n",
              "     <g transform=\"translate(67.103125 540.297812)scale(0.1 -0.1)\">\n",
              "      <use xlink:href=\"#DejaVuSans-48\"/>\n",
              "      <use xlink:href=\"#DejaVuSans-61\" x=\"75.195312\"/>\n",
              "      <use xlink:href=\"#DejaVuSans-6e\" x=\"136.474609\"/>\n",
              "      <use xlink:href=\"#DejaVuSans-64\" x=\"199.853516\"/>\n",
              "      <use xlink:href=\"#DejaVuSans-6d\" x=\"263.330078\"/>\n",
              "      <use xlink:href=\"#DejaVuSans-61\" x=\"360.742188\"/>\n",
              "      <use xlink:href=\"#DejaVuSans-64\" x=\"422.021484\"/>\n",
              "      <use xlink:href=\"#DejaVuSans-65\" x=\"485.498047\"/>\n",
              "      <use xlink:href=\"#DejaVuSans-43\" x=\"547.021484\"/>\n",
              "      <use xlink:href=\"#DejaVuSans-68\" x=\"616.845703\"/>\n",
              "      <use xlink:href=\"#DejaVuSans-65\" x=\"680.224609\"/>\n",
              "      <use xlink:href=\"#DejaVuSans-63\" x=\"741.748047\"/>\n",
              "      <use xlink:href=\"#DejaVuSans-6b\" x=\"796.728516\"/>\n",
              "     </g>\n",
              "    </g>\n",
              "    <g id=\"line2d_112\">\n",
              "     <path d=\"M 39.103125 551.475937 \n",
              "L 49.103125 551.475937 \n",
              "L 59.103125 551.475937 \n",
              "\" style=\"fill: none; stroke-dasharray: 5.55,2.4; stroke-dashoffset: 0; stroke: #800080; stroke-width: 1.5\"/>\n",
              "    </g>\n",
              "    <g id=\"text_59\">\n",
              "     <!-- HandmadeCheck -->\n",
              "     <g transform=\"translate(67.103125 554.975937)scale(0.1 -0.1)\">\n",
              "      <use xlink:href=\"#DejaVuSans-48\"/>\n",
              "      <use xlink:href=\"#DejaVuSans-61\" x=\"75.195312\"/>\n",
              "      <use xlink:href=\"#DejaVuSans-6e\" x=\"136.474609\"/>\n",
              "      <use xlink:href=\"#DejaVuSans-64\" x=\"199.853516\"/>\n",
              "      <use xlink:href=\"#DejaVuSans-6d\" x=\"263.330078\"/>\n",
              "      <use xlink:href=\"#DejaVuSans-61\" x=\"360.742188\"/>\n",
              "      <use xlink:href=\"#DejaVuSans-64\" x=\"422.021484\"/>\n",
              "      <use xlink:href=\"#DejaVuSans-65\" x=\"485.498047\"/>\n",
              "      <use xlink:href=\"#DejaVuSans-43\" x=\"547.021484\"/>\n",
              "      <use xlink:href=\"#DejaVuSans-68\" x=\"616.845703\"/>\n",
              "      <use xlink:href=\"#DejaVuSans-65\" x=\"680.224609\"/>\n",
              "      <use xlink:href=\"#DejaVuSans-63\" x=\"741.748047\"/>\n",
              "      <use xlink:href=\"#DejaVuSans-6b\" x=\"796.728516\"/>\n",
              "     </g>\n",
              "    </g>\n",
              "    <g id=\"line2d_113\">\n",
              "     <path d=\"M 39.103125 566.154062 \n",
              "L 49.103125 566.154062 \n",
              "L 59.103125 566.154062 \n",
              "\" style=\"fill: none; stroke: #00ffff; stroke-width: 1.5; stroke-linecap: square\"/>\n",
              "    </g>\n",
              "    <g id=\"text_60\">\n",
              "     <!-- Handmade -->\n",
              "     <g transform=\"translate(67.103125 569.654062)scale(0.1 -0.1)\">\n",
              "      <use xlink:href=\"#DejaVuSans-48\"/>\n",
              "      <use xlink:href=\"#DejaVuSans-61\" x=\"75.195312\"/>\n",
              "      <use xlink:href=\"#DejaVuSans-6e\" x=\"136.474609\"/>\n",
              "      <use xlink:href=\"#DejaVuSans-64\" x=\"199.853516\"/>\n",
              "      <use xlink:href=\"#DejaVuSans-6d\" x=\"263.330078\"/>\n",
              "      <use xlink:href=\"#DejaVuSans-61\" x=\"360.742188\"/>\n",
              "      <use xlink:href=\"#DejaVuSans-64\" x=\"422.021484\"/>\n",
              "      <use xlink:href=\"#DejaVuSans-65\" x=\"485.498047\"/>\n",
              "     </g>\n",
              "    </g>\n",
              "    <g id=\"line2d_114\">\n",
              "     <path d=\"M 39.103125 580.832187 \n",
              "L 49.103125 580.832187 \n",
              "L 59.103125 580.832187 \n",
              "\" style=\"fill: none; stroke-dasharray: 5.55,2.4; stroke-dashoffset: 0; stroke: #00ffff; stroke-width: 1.5\"/>\n",
              "    </g>\n",
              "    <g id=\"text_61\">\n",
              "     <!-- Handmade -->\n",
              "     <g transform=\"translate(67.103125 584.332187)scale(0.1 -0.1)\">\n",
              "      <use xlink:href=\"#DejaVuSans-48\"/>\n",
              "      <use xlink:href=\"#DejaVuSans-61\" x=\"75.195312\"/>\n",
              "      <use xlink:href=\"#DejaVuSans-6e\" x=\"136.474609\"/>\n",
              "      <use xlink:href=\"#DejaVuSans-64\" x=\"199.853516\"/>\n",
              "      <use xlink:href=\"#DejaVuSans-6d\" x=\"263.330078\"/>\n",
              "      <use xlink:href=\"#DejaVuSans-61\" x=\"360.742188\"/>\n",
              "      <use xlink:href=\"#DejaVuSans-64\" x=\"422.021484\"/>\n",
              "      <use xlink:href=\"#DejaVuSans-65\" x=\"485.498047\"/>\n",
              "     </g>\n",
              "    </g>\n",
              "   </g>\n",
              "  </g>\n",
              " </g>\n",
              " <defs>\n",
              "  <clipPath id=\"p870ea54cda\">\n",
              "   <rect x=\"30.103125\" y=\"22.318125\" width=\"675.47\" height=\"298\"/>\n",
              "  </clipPath>\n",
              "  <clipPath id=\"peeb37b02a0\">\n",
              "   <rect x=\"30.103125\" y=\"376.918125\" width=\"675.47\" height=\"298\"/>\n",
              "  </clipPath>\n",
              " </defs>\n",
              "</svg>\n"
            ],
            "text/plain": [
              "<Figure size 1000x1000 with 2 Axes>"
            ]
          },
          "metadata": {},
          "output_type": "display_data"
        }
      ],
      "source": [
        "fig, axes = plt.subplots(2, 1, figsize=(10, 10))\n",
        "\n",
        "color=\"black\"\n",
        "label=\"Base\"\n",
        "axes[0].plot([x.cpu() for x in train_losses_pure], label=label, linestyle=\"-\", c=color)\n",
        "axes[1].plot([x.cpu() for x in train_accuracies_pure], label=label, linestyle=\"-\", c=color)\n",
        "axes[0].plot([x.cpu() for x in test_losses_pure], label=label, linestyle=\"--\", c=color)\n",
        "axes[1].plot([x.cpu() for x in test_accuracies_pure], label=label, linestyle=\"--\", c=color)\n",
        "\n",
        "color=\"red\"\n",
        "label=\"VarDrop\"\n",
        "axes[0].plot([x.cpu() for x in train_losses_off_dropout], label=label + \"Check\", linestyle=\"-\", c=color)\n",
        "axes[1].plot([x.cpu() for x in train_accuracies_off_dropout], label=label + \"Check\", linestyle=\"-\", c=color)\n",
        "axes[0].plot([x.cpu() for x in test_losses_off_dropout], label=label + \"Check\", linestyle=\"--\", c=color)\n",
        "axes[1].plot([x.cpu() for x in test_accuracies_off_dropout], label=label + \"Check\", linestyle=\"--\", c=color)\n",
        "\n",
        "color=\"blue\"\n",
        "axes[0].plot([x.cpu() for x in train_losses_25_dropout], label=label, linestyle=\"-\", c=color)\n",
        "axes[1].plot([x.cpu() for x in train_accuracies_25_dropout], label=label, linestyle=\"-\", c=color)\n",
        "axes[0].plot([x.cpu() for x in test_losses_25_dropout], label=label, linestyle=\"--\", c=color)\n",
        "axes[1].plot([x.cpu() for x in test_accuracies_25_dropout], label=label, linestyle=\"--\", c=color)\n",
        "\n",
        "color=\"green\"\n",
        "label=\"FastVarDrop\"\n",
        "axes[0].plot([x.cpu() for x in train_losses_fast_off], label=label + \"Check\", linestyle=\"-\", c=color)\n",
        "axes[1].plot([x.cpu() for x in train_accuracies_fast_off], label=label + \"Check\", linestyle=\"-\", c=color)\n",
        "axes[0].plot([x.cpu() for x in test_losses_fast_off], label=label + \"Check\", linestyle=\"--\", c=color)\n",
        "axes[1].plot([x.cpu() for x in test_accuracies_fast_off], label=label + \"Check\", linestyle=\"--\", c=color)\n",
        "\n",
        "color=\"orange\"\n",
        "axes[0].plot([x.cpu() for x in train_losses_fast_25], label=label, linestyle=\"-\", c=color)\n",
        "axes[1].plot([x.cpu() for x in train_accuracies_fast_25], label=label, linestyle=\"-\", c=color)\n",
        "axes[0].plot([x.cpu() for x in test_losses_fast_25], label=label, linestyle=\"--\", c=color)\n",
        "axes[1].plot([x.cpu() for x in test_accuracies_fast_25], label=label, linestyle=\"--\", c=color)\n",
        "\n",
        "color=\"purple\"\n",
        "label=\"Handmade\"\n",
        "axes[0].plot([x.cpu() for x in train_losses_sem_off], label=label + \"Check\", linestyle=\"-\", c=color)\n",
        "axes[1].plot([x.cpu() for x in train_accuracies_sem_off], label=label + \"Check\", linestyle=\"-\", c=color)\n",
        "axes[0].plot([x.cpu() for x in test_losses_sem_off], label=label + \"Check\", linestyle=\"--\", c=color)\n",
        "axes[1].plot([x.cpu() for x in test_accuracies_sem_off], label=label + \"Check\", linestyle=\"--\", c=color)\n",
        "\n",
        "color=\"cyan\"\n",
        "axes[0].plot([x.cpu() for x in train_losses_sem_25], label=label, linestyle=\"-\", c=color)\n",
        "axes[1].plot([x.cpu() for x in train_accuracies_sem_25], label=label, linestyle=\"-\", c=color)\n",
        "axes[0].plot([x.cpu() for x in test_losses_sem_25], label=label, linestyle=\"--\", c=color)\n",
        "axes[1].plot([x.cpu() for x in test_accuracies_sem_25], label=label, linestyle=\"--\", c=color)\n",
        "\n",
        "\n",
        "axes[0].legend()\n",
        "axes[0].grid(True)\n",
        "axes[0].set_xlabel('Epoch')\n",
        "axes[0].set_title('CrossEntropy Loss')\n",
        "\n",
        "\n",
        "axes[1].legend()\n",
        "axes[1].grid(True)\n",
        "axes[1].set_xlabel('Epoch')\n",
        "axes[1].set_title('Accuracy')\n",
        "\n",
        "\n",
        "fig.tight_layout()\n",
        "plt.show()"
      ]
    },
    {
      "cell_type": "markdown",
      "metadata": {
        "id": "TvUeA2vPPnH0"
      },
      "source": [
        "**Вывод:**  Если реализовывать модели с dropout через хак с LSTM, то все реализации работают примерно за одинаковое время. Модель по статье Гала и Гарамани показала себя чуть лучше и постабильнее на наших данных чем модель по Семениуте, но в целом, разница невелика, оба подхода достойны. Дропаут отлично работает как регуляризация и хорошо борется с переобучением. "
      ]
    },
    {
      "cell_type": "markdown",
      "metadata": {
        "ExecuteTime": {
          "end_time": "2021-03-31T16:05:00.702763Z",
          "start_time": "2021-03-31T16:05:00.674835Z"
        },
        "id": "wGT0QDjqPnH0"
      },
      "source": [
        "# `Часть 2. Language Modeling с помощью LSTM (5 баллов)`"
      ]
    },
    {
      "cell_type": "markdown",
      "metadata": {
        "id": "p3_QzL1YPnH0"
      },
      "source": [
        "Во второй части мы попробуем обучить модель для генерации отзывов по их началу."
      ]
    },
    {
      "cell_type": "markdown",
      "metadata": {
        "id": "NLCNNag-PnH0"
      },
      "source": [
        "Концептуально модель будет выглядеть следующим образом:\n",
        "    \n",
        "![image info](https://blog.feedly.com/wp-content/uploads/2019/03/Screen-Shot-2019-03-06-at-12.08.35-PM.png)"
      ]
    },
    {
      "cell_type": "markdown",
      "metadata": {
        "id": "EFt4MBG5PnH0"
      },
      "source": [
        "В процессе обучения будем тренировать сеть предсказывать вероятность следующего символа при условии всех предыдущих. Эту вероятность можно моделировать с помощью скрытого состояния $h^{(t)}$ пропуская его через линейный слой с выходной размерностью равной размерности словаря:\n",
        "$$\n",
        "p(x^{t}|x^{t-1}, ..., x^{1}) = SoftMax(Linear(h^{(t)}))\n",
        "$$"
      ]
    },
    {
      "cell_type": "markdown",
      "metadata": {
        "id": "f4oh4px4PnH1"
      },
      "source": [
        "Обратите внимание, что для вычисления $p(x^{t}|x^{t-1}, ..., x^{1})$ для всех моментов времени достаточно сделать один проход по RNN, а затем применить линейное преобразование ко всем скрытым состояниям."
      ]
    },
    {
      "cell_type": "markdown",
      "metadata": {
        "ExecuteTime": {
          "end_time": "2021-04-02T00:37:56.100520Z",
          "start_time": "2021-04-02T00:37:56.072747Z"
        },
        "id": "bqGVJjGmPnH1"
      },
      "source": [
        "В качестве функции потерь необходимо использовать `CrossEntropy`."
      ]
    },
    {
      "cell_type": "markdown",
      "metadata": {
        "id": "HO52-nxpPnH1"
      },
      "source": [
        "Рассмотрим другой важный момент. Для того, чтобы решить данную задачу, модель должна уметь определять момент начала генерации предложения и оповещать о завершении генерации — конце предложения. Для этого добавим в словарь вспомогательные токены `<sos>`, `<eos>`. Добавив `<sos>` в начало каждого предложения и `<eos>` в конец.\n",
        "\n",
        "Модель сможет начинать генерацию как только ей будет передан токен `<sos>` и заканчивать генерацию, как только на очередном месте самым вероятным токеном оказывается `<eos>`."
      ]
    },
    {
      "cell_type": "markdown",
      "metadata": {
        "id": "tL57dl0OPnH1"
      },
      "source": [
        "Для решения этой задачи мы воспользуемся уже реализованной LSTM с дропаутом `FastRNNLayer` и классом `RNNClassifier`, то есть архитектура сети принципиально не поменяется. "
      ]
    },
    {
      "cell_type": "markdown",
      "metadata": {
        "id": "TLnmO9phPnH1"
      },
      "source": [
        "## `Реализация модели и цикла обучения (2 балла)`"
      ]
    },
    {
      "cell_type": "code",
      "execution_count": 18,
      "metadata": {
        "ExecuteTime": {
          "end_time": "2021-04-02T02:07:02.815198Z",
          "start_time": "2021-04-02T02:07:02.787445Z"
        },
        "id": "u6YcwkgTPnH1"
      },
      "outputs": [],
      "source": [
        "class RNNLM(RNNClassifier):\n",
        "    def __init__(\n",
        "        self, embedding_dim, hidden_dim, vocab, dropout=0.5, layers_dropout=0.5, num_layers=1\n",
        "    ):\n",
        "        super().__init__(\n",
        "            embedding_dim=embedding_dim, hidden_dim=hidden_dim, output_size=len(vocab), vocab=vocab,\n",
        "            rec_layer=FastRNNLayer, dropout=dropout, layers_dropout=layers_dropout, num_layers=num_layers\n",
        "        )\n",
        "    \n",
        "    def forward(self, tokens, tokens_lens):\n",
        "        \"\"\"\n",
        "        :param torch.Tensor(dtype=torch.long) tokens: \n",
        "            Batch of texts represented with tokens. Shape: [T, B]\n",
        "        :param torch.Tensor(dtype=torch.long) tokens_lens: \n",
        "            Number of non-padding tokens for each object in batch. Shape: [B]\n",
        "        :return torch.Tensor: \n",
        "            Distribution of next token for each time step. Shape: [T, B, V], V — size of vocabulary\n",
        "        \"\"\"\n",
        "        embeddings = self.word_embeddings(tokens)\n",
        "        \n",
        "        h, c = self.rnn(embeddings)\n",
        "        # h has size (T, N, hidden_size)\n",
        "        \n",
        "        outputs = self.output(h)  # (T, N, len(vocab))\n",
        "        return outputs"
      ]
    },
    {
      "cell_type": "markdown",
      "metadata": {
        "id": "2J8IdFaAPnH1"
      },
      "source": [
        "Реализуем функцию потерь для данной задачи. \n",
        "\n",
        "Моменты на которые нужно обратить внимание:\n",
        "1. Распределение вероятности следующего токена для последнего токена в последовательности не участвует в подсчёте функции потерь.\n",
        "2. Необходимо учитывать, что в одном батче могут быть тексты разной длины."
      ]
    },
    {
      "cell_type": "markdown",
      "metadata": {
        "id": "9g71v6K3PnH1"
      },
      "source": [
        "Для решения второй проблемы можно воспользоваться функцией `torch.nn.utils.rnn.pack_padded_sequence`. \n",
        "\n",
        "Принимая на вход батч тензоров и длину каждого тензора без учёта паддинга эта функция позволяет получить все элементы в тензорах, которые не относятся к паддингу в виде плоского массива:"
      ]
    },
    {
      "cell_type": "code",
      "execution_count": null,
      "metadata": {
        "ExecuteTime": {
          "end_time": "2021-04-02T00:54:40.004897Z",
          "start_time": "2021-04-02T00:54:39.977287Z"
        },
        "id": "uE8zhsa2PnH1"
      },
      "outputs": [],
      "source": [
        "padded_tensors = torch.tensor([\n",
        "    [[1, 11, 111], [2, 22, 222], [3, 33, 333]],\n",
        "    [[4, 44, 444], [5, 55, 555], [6, 66, 666]],\n",
        "    [[7, 77, 777], [0, 0, 0], [8, 88, 888]],\n",
        "    [[9, 99, 999], [0, 0, 0], [0, 0, 0]]\n",
        "])\n",
        "tensors_lens = torch.tensor([4, 2, 3])"
      ]
    },
    {
      "cell_type": "markdown",
      "metadata": {
        "id": "wwoJxGnpPnH2"
      },
      "source": [
        "`torch.nn.utils.rnn.pack_padded_sequence` автоматически переупорядочивает тензоры в батче по убыванию их длины."
      ]
    },
    {
      "cell_type": "code",
      "execution_count": null,
      "metadata": {
        "ExecuteTime": {
          "end_time": "2021-04-02T00:54:24.517023Z",
          "start_time": "2021-04-02T00:54:24.490588Z"
        },
        "id": "_U8olBRuPnH2",
        "outputId": "c7853806-1bc8-4853-9252-b1a02d4b277e"
      },
      "outputs": [
        {
          "data": {
            "text/plain": [
              "tensor([[  1,  11, 111],\n",
              "        [  3,  33, 333],\n",
              "        [  2,  22, 222],\n",
              "        [  4,  44, 444],\n",
              "        [  6,  66, 666],\n",
              "        [  5,  55, 555],\n",
              "        [  7,  77, 777],\n",
              "        [  8,  88, 888],\n",
              "        [  9,  99, 999]])"
            ]
          },
          "execution_count": 33,
          "metadata": {},
          "output_type": "execute_result"
        }
      ],
      "source": [
        "torch.nn.utils.rnn.pack_padded_sequence(padded_tensors, tensors_lens, batch_first=False, enforce_sorted=False).data"
      ]
    },
    {
      "cell_type": "code",
      "execution_count": 19,
      "metadata": {
        "ExecuteTime": {
          "end_time": "2021-04-02T02:07:06.289671Z",
          "start_time": "2021-04-02T02:07:06.262883Z"
        },
        "id": "kR0PntxtPnH2"
      },
      "outputs": [],
      "source": [
        "class LMCrossEntropyLoss(torch.nn.CrossEntropyLoss):\n",
        "    def __init__(self, *args, **kwargs):\n",
        "        super().__init__(*args, **kwargs)\n",
        "        \n",
        "    def forward(self, outputs, tokens, tokens_lens):\n",
        "        \"\"\"\n",
        "        :param torch.Tensor outputs: Output from RNNLM.forward. Shape: [T, B, V]\n",
        "        :param torch.Tensor tokens: Batch of tokens. Shape: [T, B]\n",
        "        :param torch.Tensor tokens_lens: Length of each sequence in batch\n",
        "        :return torch.Tensor: CrossEntropyLoss between corresponding logits and tokens\n",
        "        \"\"\"\n",
        "        packed_outputs = torch.nn.utils.rnn.pack_padded_sequence(outputs[:-1], (tokens_lens - 1).cpu(), batch_first=False, enforce_sorted=False).data\n",
        "        packed_tokens = torch.nn.utils.rnn.pack_padded_sequence(tokens[1:], (tokens_lens - 1).cpu(), batch_first=False, enforce_sorted=False).data\n",
        "        \n",
        "        return super().forward(packed_outputs, packed_tokens)"
      ]
    },
    {
      "cell_type": "markdown",
      "metadata": {
        "id": "z8ROBfwwPnH2"
      },
      "source": [
        "Для оценки качества нам также необходимо вычислять долю правильно предсказанных токенов. Реализуйте класс для вычисления точности."
      ]
    },
    {
      "cell_type": "code",
      "execution_count": 20,
      "metadata": {
        "ExecuteTime": {
          "end_time": "2021-04-02T02:07:07.335981Z",
          "start_time": "2021-04-02T02:07:07.309586Z"
        },
        "id": "mtKHQd2wPnH2"
      },
      "outputs": [],
      "source": [
        "class LMAccuracy(torch.nn.Module):\n",
        "    def __init__(self):\n",
        "        super().__init__()\n",
        "        \n",
        "    def forward(self, outputs, tokens, tokens_lens):\n",
        "        \"\"\"\n",
        "        :param torch.Tensor outputs: Output from RNNLM.forward. Shape: [T, B, V]\n",
        "        :param torch.Tensor tokens: Batch of tokens. Shape: [T, B]\n",
        "        :param torch.Tensor tokens_lens: Length of each sequence in batch\n",
        "        :return torch.Tensor: Accuracy for given logits and tokens\n",
        "        \"\"\"\n",
        "        packed_outputs = torch.nn.utils.rnn.pack_padded_sequence(outputs[:-1], (tokens_lens - 1).cpu(), batch_first=False, enforce_sorted=False).data\n",
        "        packed_tokens = torch.nn.utils.rnn.pack_padded_sequence(tokens[1:], (tokens_lens - 1).cpu(), batch_first=False, enforce_sorted=False).data\n",
        "        \n",
        "        predictions = torch.argmax(packed_outputs, dim=1)\n",
        "        return (predictions == packed_tokens).float().sum()/len(packed_tokens)"
      ]
    },
    {
      "cell_type": "markdown",
      "metadata": {
        "id": "XK4pmMg8PnH2"
      },
      "source": [
        "Модифицируйте функции `train_epoch`, `evaluate`, `train` для обучения LM.\n",
        "\n",
        "**При вычислении точности, обратите внимание на то, что мы не предсказываем первый токен в каждой последовательности и токены, относящиеся к паддингу.**"
      ]
    },
    {
      "cell_type": "code",
      "execution_count": 21,
      "metadata": {
        "ExecuteTime": {
          "end_time": "2021-04-02T02:07:31.492984Z",
          "start_time": "2021-04-02T02:07:31.459655Z"
        },
        "id": "0Hx24xCePnH2"
      },
      "outputs": [],
      "source": [
        "def train_epoch_lm(dataloader, model, loss_fn, optimizer, device):\n",
        "    model.train()\n",
        "    for idx, data in enumerate(dataloader):\n",
        "        tokens = data[\"tokens\"].to(device)\n",
        "        tokens_lens = data[\"tokens_lens\"].to(device)\n",
        "\n",
        "        distrib = model(tokens, tokens_lens)\n",
        "        loss = loss_fn(distrib, tokens, tokens_lens)\n",
        "        loss.backward()\n",
        "        optimizer.step()\n",
        "        optimizer.zero_grad()\n",
        "    \n",
        "def evaluate_lm(dataloader, model, loss_fn, device):\n",
        "    model.eval()\n",
        "    \n",
        "    total_tokens = 0\n",
        "    total_loss = 0.0\n",
        "    total_accuracy = 0.0\n",
        "    \n",
        "    accuracy_fn = LMAccuracy()\n",
        "    with torch.no_grad():\n",
        "        for idx, data in enumerate(dataloader):\n",
        "            tokens = data[\"tokens\"].to(device)\n",
        "            tokens_lens = data[\"tokens_lens\"].to(device)\n",
        "\n",
        "            tokens_count = tokens_lens.sum() - len(tokens_lens)\n",
        "            distrib = model(tokens, tokens_lens)\n",
        "            total_loss += loss_fn(distrib, tokens, tokens_lens) * tokens_count\n",
        "            total_accuracy += accuracy_fn(distrib, tokens, tokens_lens) * tokens_count\n",
        "            total_tokens += tokens_count\n",
        "            \n",
        "    return total_loss / total_tokens, total_accuracy / total_tokens\n",
        "\n",
        "def train_lm(\n",
        "    train_loader, test_loader, model, loss_fn, optimizer, device, num_epochs\n",
        "):\n",
        "    test_losses = []\n",
        "    train_losses = []\n",
        "    test_accuracies = []\n",
        "    train_accuracies = []\n",
        "    for epoch in range(num_epochs):\n",
        "        train_epoch_lm(train_loader, model, loss_fn, optimizer, device)\n",
        "        \n",
        "        train_loss, train_acc = evaluate_lm(train_loader, model, loss_fn, device)\n",
        "        train_accuracies.append(train_acc)\n",
        "        train_losses.append(train_loss)\n",
        "        \n",
        "        test_loss, test_acc = evaluate_lm(test_loader, model, loss_fn, device)\n",
        "        test_accuracies.append(test_acc)\n",
        "        test_losses.append(test_loss)\n",
        "        \n",
        "        print(\n",
        "            'Epoch: {0:d}/{1:d}. Loss (Train/Test): {2:.3f}/{3:.3f}. Accuracy (Train/Test): {4:.3f}/{5:.3f}'.format(\n",
        "                epoch + 1, num_epochs, train_losses[-1], test_losses[-1], train_accuracies[-1], test_accuracies[-1]\n",
        "            )\n",
        "        )\n",
        "    return train_losses, train_accuracies, test_losses, test_accuracies"
      ]
    },
    {
      "cell_type": "markdown",
      "metadata": {
        "id": "MtlMWhIjPnH2"
      },
      "source": [
        "Теперь у нас всё готово для обучения модели."
      ]
    },
    {
      "cell_type": "markdown",
      "metadata": {
        "ExecuteTime": {
          "end_time": "2021-04-02T01:06:12.736180Z",
          "start_time": "2021-04-02T01:06:12.708814Z"
        },
        "id": "XIIKUJJoPnH2"
      },
      "source": [
        "Создадим словарь с `<sos>`, `<eos>` токенами.\n",
        "\n",
        "Обратите внимание, что в отличие от классификации текстов нам необходимо значительно увеличить размер словаря, чтобы доля `<unk>` токенов была не велика.\n",
        "\n",
        "Так же, так как задача генерации значительно сложнее задачи классификации текстов будем обучать модель только на префиксах рецензий длины $20$. Это позволяет значительно ускорить обучение."
      ]
    },
    {
      "cell_type": "code",
      "execution_count": 22,
      "metadata": {
        "ExecuteTime": {
          "end_time": "2021-04-02T00:06:20.093645Z",
          "start_time": "2021-04-02T00:06:19.926668Z"
        },
        "id": "gW8EDLb_PnH3"
      },
      "outputs": [],
      "source": [
        "specials = ['<pad>', '<unk>', '<sos>', '<eos>']\n",
        "for special in specials:\n",
        "    counter[special] = 0\n",
        "# min_freq=8 is approximately equivalent to max_size=30000. \n",
        "lm_vocab = torchtext.vocab.vocab(counter, specials=specials, special_first=True, min_freq=8)\n",
        "lm_vocab.set_default_index(lm_vocab['<unk>'])"
      ]
    },
    {
      "cell_type": "code",
      "execution_count": 23,
      "metadata": {
        "ExecuteTime": {
          "end_time": "2021-04-02T00:06:58.566893Z",
          "start_time": "2021-04-02T00:06:21.430692Z"
        },
        "id": "5b-ZeXTaPnH3"
      },
      "outputs": [],
      "source": [
        "lm_test_dataset = LargeMovieReviewDataset(test_data_path, lm_vocab, max_len=20, pad_sos=True, pad_eos=True)\n",
        "lm_train_dataset = LargeMovieReviewDataset(train_data_path, lm_vocab, max_len=20, pad_sos=True, pad_eos=True)"
      ]
    },
    {
      "cell_type": "markdown",
      "metadata": {
        "id": "nSn63ClUPnH3"
      },
      "source": [
        "Создадим даталоадеры для тестовой и обучающей выборок:"
      ]
    },
    {
      "cell_type": "code",
      "execution_count": 24,
      "metadata": {
        "ExecuteTime": {
          "end_time": "2021-04-02T12:29:16.213723Z",
          "start_time": "2021-04-02T12:29:16.186954Z"
        },
        "id": "d2PrSWV6PnH3"
      },
      "outputs": [],
      "source": [
        "lm_test_dataloader = DataLoader(\n",
        "    lm_test_dataset, batch_size=96, shuffle=False, num_workers=0, \n",
        "    collate_fn=partial(collate_fn, padding_value=lm_vocab.lookup_indices(['<pad>'])[0])\n",
        ")\n",
        "lm_train_dataloader = DataLoader(\n",
        "    lm_train_dataset, batch_size=96, shuffle=True, num_workers=0, \n",
        "    collate_fn=partial(collate_fn, padding_value=lm_vocab.lookup_indices(['<pad>'])[0])\n",
        ")"
      ]
    },
    {
      "cell_type": "code",
      "execution_count": null,
      "metadata": {
        "ExecuteTime": {
          "end_time": "2021-04-02T12:29:17.218115Z",
          "start_time": "2021-04-02T12:29:16.922801Z"
        },
        "id": "USY9dGlRPnH3",
        "outputId": "41d0bc6c-0c90-4f80-a174-9308abd4dfb7"
      },
      "outputs": [
        {
          "data": {
            "text/plain": [
              "(tensor([[    2,     2,     2,  ...,     2,     2,     2],\n",
              "         [  138,  5799,   228,  ...,  2095,   157,  2193],\n",
              "         [  157, 32479,   191,  ...,  4328,    19,   353],\n",
              "         ...,\n",
              "         [  495,     1,   574,  ...,  1376,  2166,  1261],\n",
              "         [ 1898,  5080,     1,  ...,  4580,  1011,  7859],\n",
              "         [    3,     3,     3,  ...,     3,     3,     3]]),\n",
              " tensor([20, 20, 20, 20, 20, 20, 20, 20, 20, 20, 20, 20, 20, 20, 20, 20, 20, 20,\n",
              "         20, 20, 20, 20, 20, 20, 20, 20, 20, 20, 20, 20, 20, 20, 20, 20, 20, 20,\n",
              "         20, 20, 20, 20, 20, 20, 20, 20, 20, 20, 20, 20, 20, 20, 20, 20, 20, 20,\n",
              "         20, 20, 20, 20, 20, 20, 20, 20, 20, 20, 20, 20, 20, 20, 20, 20, 20, 20,\n",
              "         20, 20, 20, 20, 20, 20, 20, 20, 20, 20, 20, 20, 20, 20, 20, 20, 20, 20,\n",
              "         20, 20, 20, 20, 20, 20]))"
            ]
          },
          "execution_count": 22,
          "metadata": {},
          "output_type": "execute_result"
        }
      ],
      "source": [
        "batch = next(iter(lm_train_dataloader))\n",
        "batch['tokens'], batch['tokens_lens']"
      ]
    },
    {
      "cell_type": "markdown",
      "metadata": {
        "id": "XsMF1moDPnH3"
      },
      "source": [
        "Создадим модель, функцию потерь и оптимизатор: "
      ]
    },
    {
      "cell_type": "code",
      "execution_count": 25,
      "metadata": {
        "ExecuteTime": {
          "end_time": "2021-04-02T14:15:32.916424Z",
          "start_time": "2021-04-02T14:15:32.525452Z"
        },
        "id": "-hh2hPnCPnH3"
      },
      "outputs": [],
      "source": [
        "lm_model = RNNLM(\n",
        "    embedding_dim=512, hidden_dim=512, vocab=lm_vocab, dropout=0.6, layers_dropout=0.6, num_layers=2\n",
        ").to(device=device)"
      ]
    },
    {
      "cell_type": "code",
      "execution_count": 26,
      "metadata": {
        "ExecuteTime": {
          "end_time": "2021-04-02T14:15:33.332806Z",
          "start_time": "2021-04-02T14:15:33.307749Z"
        },
        "id": "BL0dk6cUPnH4"
      },
      "outputs": [],
      "source": [
        "lm_loss_fn = LMCrossEntropyLoss(reduction='mean')\n",
        "lm_optimizer = torch.optim.Adam(lm_model.parameters(), lr=0.005, weight_decay=1.2e-6)"
      ]
    },
    {
      "cell_type": "markdown",
      "metadata": {
        "id": "avJ1XYL4PnH4"
      },
      "source": [
        "Обучим модель:"
      ]
    },
    {
      "cell_type": "code",
      "execution_count": 27,
      "metadata": {
        "ExecuteTime": {
          "end_time": "2021-04-02T14:20:33.447251Z",
          "start_time": "2021-04-02T14:15:33.797444Z"
        },
        "colab": {
          "base_uri": "https://localhost:8080/"
        },
        "id": "9SBM1VbuPnH4",
        "outputId": "fa40f95a-1ed4-4006-f935-11c76e3055f1",
        "scrolled": true
      },
      "outputs": [
        {
          "name": "stdout",
          "output_type": "stream",
          "text": [
            "Epoch: 1/10. Loss (Train/Test): 7.513/7.643. Accuracy (Train/Test): 0.084/0.084\n",
            "Epoch: 2/10. Loss (Train/Test): 7.288/7.493. Accuracy (Train/Test): 0.094/0.094\n",
            "Epoch: 3/10. Loss (Train/Test): 7.063/7.369. Accuracy (Train/Test): 0.103/0.102\n",
            "Epoch: 4/10. Loss (Train/Test): 6.881/7.311. Accuracy (Train/Test): 0.109/0.107\n",
            "Epoch: 5/10. Loss (Train/Test): 6.694/7.274. Accuracy (Train/Test): 0.112/0.109\n",
            "Epoch: 6/10. Loss (Train/Test): 6.509/7.253. Accuracy (Train/Test): 0.115/0.111\n",
            "Epoch: 7/10. Loss (Train/Test): 6.324/7.256. Accuracy (Train/Test): 0.117/0.111\n",
            "Epoch: 8/10. Loss (Train/Test): 6.178/7.265. Accuracy (Train/Test): 0.123/0.114\n",
            "Epoch: 9/10. Loss (Train/Test): 6.020/7.285. Accuracy (Train/Test): 0.127/0.114\n",
            "Epoch: 10/10. Loss (Train/Test): 5.859/7.322. Accuracy (Train/Test): 0.131/0.114\n"
          ]
        }
      ],
      "source": [
        "with warnings.catch_warnings():  # ignore dataloader warnings (num workers)\n",
        "    warnings.simplefilter(\"ignore\")\n",
        "\n",
        "    lm_train_losses, lm_train_accuracies, lm_test_losses, lm_test_accuracies = train_lm(\n",
        "        lm_train_dataloader, lm_test_dataloader, lm_model, lm_loss_fn, lm_optimizer, device, 10\n",
        "    )"
      ]
    },
    {
      "cell_type": "markdown",
      "metadata": {
        "id": "6-0HSx8jPnH4"
      },
      "source": [
        "## `Реализация декодера`"
      ]
    },
    {
      "cell_type": "markdown",
      "metadata": {
        "id": "AYPLsEszPnH4"
      },
      "source": [
        "Теперь, реализуем последнюю деталь — декодирование с использованием обученной модели.\n",
        "Есть несколько вариантов. Рассмотрим два самых простых:\n",
        "1. **Жадное декодирование.** На каждом шаге мы выбираем токен с максимальной вероятностью и используем его для обновления скрытого состояния RNN.\n",
        "2. **Top-k sampling.** На очередном шаге рассматриваются $k$ токенов с самыми большими вероятностями. Остальные токены игнорируются. Из выбранных токенов семплируется следующий токен пропорционально их вероятностям.\n",
        "\n",
        "Прочитать подробнее про разные варианты декодирования можно по ссылкам:\n",
        "1. [От huggingface](https://huggingface.co/blog/how-to-generate)\n",
        "2. [На towardsdatascience](https://towardsdatascience.com/decoding-strategies-that-you-need-to-know-for-response-generation-ba95ee0faadc)"
      ]
    },
    {
      "cell_type": "markdown",
      "metadata": {
        "id": "g17x7QVePnH4"
      },
      "source": [
        "Существенным в процессе декодирования является критерий останова. Как только очередной самый вероятный символ оказался `<eos>`, то данная последовательность считается сгенерированной. Однако, может так оказаться, что `<eos>` никогда не будет выбран, тогда необходимо прекратить генерацию, как только длина последовательности перейдёт порог `max_generated_len`."
      ]
    },
    {
      "cell_type": "code",
      "execution_count": 31,
      "metadata": {
        "ExecuteTime": {
          "end_time": "2021-04-02T14:28:21.578336Z",
          "start_time": "2021-04-02T14:28:21.547183Z"
        },
        "id": "MAYc5NfTPnH4"
      },
      "outputs": [],
      "source": [
        "@torch.no_grad()\n",
        "def decode(model, start_tokens, start_tokens_lens, max_generated_len=20, top_k=None):\n",
        "    \"\"\"\n",
        "    :param RNNLM model: Model\n",
        "    :param torch.Tensor start_tokens: Batch of seed tokens. Shape: [T, B]\n",
        "    :param torch.Tensor start_tokens_lens: Length of each sequence in batch. Shape: [B]\n",
        "    :param int max_generated_len: Maximum lenght of generated samples\n",
        "    :param Optional[int] top_k: Number of tokens with the largest probability to sample from\n",
        "    :return Tuple[torch.Tensor, torch.Tensor]. \n",
        "        Newly predicted tokens and length of generated part. Shape [T*, B], [B]\n",
        "    \"\"\"\n",
        "    embedding = model.word_embeddings(start_tokens)\n",
        "    \n",
        "    all_h, all_c = [], []\n",
        "    h = embedding.new_zeros([model.rnn.num_layers, start_tokens.shape[1], model.hidden_dim])\n",
        "    c = embedding.new_zeros([model.rnn.num_layers, start_tokens.shape[1], model.hidden_dim])\n",
        "    for time_step in range(start_tokens.shape[0]):\n",
        "        output, (h_t, c_t) = model.rnn(embedding[:time_step + 1], (h, c))\n",
        "        all_h.append(h_t)\n",
        "        all_c.append(c_t)\n",
        "\n",
        "    all_h = torch.stack(all_h, dim=1)\n",
        "    all_c = torch.stack(all_c, dim=1)\n",
        "    h = all_h[:, start_tokens_lens - 1, torch.arange(start_tokens_lens.shape[0])]\n",
        "    c = all_c[:, start_tokens_lens - 1, torch.arange(start_tokens_lens.shape[0])]\n",
        "    \n",
        "    predicted_tokens = []\n",
        "    decoded_lens = torch.zeros_like(start_tokens_lens, dtype=torch.long)\n",
        "    is_finished_decoding = torch.zeros_like(start_tokens_lens, dtype=torch.bool)\n",
        "    \n",
        "    while not torch.all(is_finished_decoding) and torch.max(decoded_lens) < max_generated_len:\n",
        "        logits = model.output(h[-1])\n",
        "        \n",
        "        if top_k is not None:\n",
        "            indices_to_remove = logits < torch.topk(logits, top_k)[0][..., -1, None]\n",
        "            logits[indices_to_remove] = -1e10\n",
        "            logits = torch.nn.functional.softmax(logits, dim=-1)\n",
        "            next_token = torch.squeeze(torch.multinomial(logits, 1), dim=-1)\n",
        "        else:\n",
        "            next_token = torch.argmax(logits, dim=-1)\n",
        "            \n",
        "        predicted_tokens.append(next_token)\n",
        "        \n",
        "        decoded_lens += (~is_finished_decoding)\n",
        "        is_finished_decoding |= (next_token == torch.tensor(model.vocab.lookup_indices(['<eos>'])[0]))\n",
        "\n",
        "        emb_next_token = model.word_embeddings(next_token)\n",
        "        # size: (N, emb_size)\n",
        "        \n",
        "        output, (h, c) = model.rnn(emb_next_token[None, ...], (h, c))  # 1 cycle in LSTM\n",
        "        \n",
        "    return torch.stack(predicted_tokens), decoded_lens"
      ]
    },
    {
      "cell_type": "code",
      "execution_count": 7,
      "metadata": {},
      "outputs": [
        {
          "data": {
            "text/plain": [
              "tensor([[5],\n",
              "        [7]])"
            ]
          },
          "execution_count": 7,
          "metadata": {},
          "output_type": "execute_result"
        }
      ],
      "source": [
        "torch.topk(torch.tensor([[1,23,4,5,5], [4,5,6,7,8,]]), 2)[0][..., -1, None]"
      ]
    },
    {
      "cell_type": "markdown",
      "metadata": {
        "ExecuteTime": {
          "end_time": "2021-04-02T01:38:06.232189Z",
          "start_time": "2021-04-02T01:38:06.205413Z"
        },
        "id": "ms629sZ2PnH4"
      },
      "source": [
        "Попробуем сгенерировать продолжения для нескольких префиксов:"
      ]
    },
    {
      "cell_type": "code",
      "execution_count": 29,
      "metadata": {
        "ExecuteTime": {
          "end_time": "2021-04-02T14:28:22.568613Z",
          "start_time": "2021-04-02T14:28:22.545810Z"
        },
        "id": "cxqp4DTCPnH4"
      },
      "outputs": [],
      "source": [
        "start_tokens = torch.tensor([\n",
        "    lm_model.vocab.lookup_indices(['<sos>', '<pad>', '<pad>', '<pad>']),\n",
        "    lm_model.vocab.lookup_indices(['<sos>', 'my', 'favorite', 'movie']),\n",
        "    lm_model.vocab.lookup_indices(['<sos>', 'the', 'best', 'movie']),\n",
        "    lm_model.vocab.lookup_indices(['<sos>', 'the', 'worst', 'movie']),\n",
        "]).T\n",
        "\n",
        "start_tokens_lens = torch.tensor([1, 4, 4, 4])"
      ]
    },
    {
      "cell_type": "code",
      "execution_count": 32,
      "metadata": {
        "ExecuteTime": {
          "end_time": "2021-04-02T14:28:28.222137Z",
          "start_time": "2021-04-02T14:28:27.930196Z"
        },
        "id": "urYsHrPyPnH5"
      },
      "outputs": [],
      "source": [
        "lm_model = lm_model.cpu()\n",
        "lm_model.eval()\n",
        "decoded_tokens, decoded_lens = decode(lm_model, start_tokens, start_tokens_lens, max_generated_len=20, top_k=5)"
      ]
    },
    {
      "cell_type": "code",
      "execution_count": 33,
      "metadata": {
        "colab": {
          "base_uri": "https://localhost:8080/"
        },
        "id": "8B-tHnpYuu2e",
        "outputId": "78ff6d6c-047d-46d5-be31-22df547b5da8"
      },
      "outputs": [
        {
          "name": "stdout",
          "output_type": "stream",
          "text": [
            "<sos> film begins one worst films ever made plot holes movie <unk> <unk> <unk> <unk> plot line <eos>\n",
            "<sos> <unk> favorite movie seen movie <unk> <unk> movie good acting great actors great direction good story line <eos>\n",
            "<sos> <unk> best movie ever seen life movie made first time saw first time saw film thought <eos>\n",
            "<sos> <unk> worst movie ive ever seen movie ever seen <unk> movie ever seen bad acting good plot <eos>\n"
          ]
        }
      ],
      "source": [
        "for text_idx in range(start_tokens.shape[1]):\n",
        "    decoded_text_tokens = decoded_tokens[:decoded_lens[text_idx], text_idx]\n",
        "    tokens = start_tokens[:start_tokens_lens[text_idx], text_idx].tolist() + decoded_text_tokens.tolist()\n",
        "    words = np.array(lm_model.vocab.get_itos())[np.array(tokens)]\n",
        "    print(' '.join(words))"
      ]
    },
    {
      "cell_type": "markdown",
      "metadata": {
        "id": "72opIsgGPnH5"
      },
      "source": [
        "Попробуйте выполнить семплирование для разных $k$. Сравните результаты top-k семплирования с жадным декодированием. Опишите ваши наблюдения."
      ]
    },
    {
      "cell_type": "markdown",
      "metadata": {
        "id": "IOKfg1FIvXC2"
      },
      "source": [
        "`k == 2`"
      ]
    },
    {
      "cell_type": "code",
      "execution_count": 34,
      "metadata": {
        "ExecuteTime": {
          "end_time": "2021-04-02T17:06:36.404126Z",
          "start_time": "2021-04-02T17:06:36.399654Z"
        },
        "id": "wam5Rvf_PnH5"
      },
      "outputs": [],
      "source": [
        "k = 2\n",
        "decoded_tokens, decoded_lens = decode(lm_model, start_tokens, start_tokens_lens, max_generated_len=20, top_k=k)"
      ]
    },
    {
      "cell_type": "code",
      "execution_count": 35,
      "metadata": {
        "colab": {
          "base_uri": "https://localhost:8080/"
        },
        "id": "jibz-nDgvNFp",
        "outputId": "8375beb1-411b-4c18-af12-ae27a1ffce35"
      },
      "outputs": [
        {
          "name": "stdout",
          "output_type": "stream",
          "text": [
            "<sos> saw movie first time watched movie thought really good movie good acting great story line good movie <eos>\n",
            "<sos> <unk> favorite movie time <unk> <unk> <unk> <unk> <unk> <unk> <unk> <unk> <unk> <unk> <unk> <unk> <unk> <unk> <unk> movie made one best\n",
            "<sos> <unk> best movie ever made movie ever made movie <unk> <unk> <unk> <unk> <unk> <unk> <unk> movie <unk> <unk> <unk> <unk> <unk> <unk>\n",
            "<sos> <unk> worst movie ever made plot holes acting atrocious plot holes <unk> <unk> acting bad script bad special effects <eos>\n"
          ]
        }
      ],
      "source": [
        "for text_idx in range(start_tokens.shape[1]):\n",
        "    decoded_text_tokens = decoded_tokens[:decoded_lens[text_idx], text_idx]\n",
        "    tokens = start_tokens[:start_tokens_lens[text_idx], text_idx].tolist() + decoded_text_tokens.tolist()\n",
        "    words = np.array(lm_model.vocab.get_itos())[np.array(tokens)]\n",
        "    print(' '.join(words))"
      ]
    },
    {
      "cell_type": "markdown",
      "metadata": {
        "id": "njZFX-SuvbY_"
      },
      "source": [
        "`k == 10`"
      ]
    },
    {
      "cell_type": "code",
      "execution_count": 42,
      "metadata": {
        "id": "Xy2rPO5QvUR1"
      },
      "outputs": [],
      "source": [
        "k = 10\n",
        "decoded_tokens, decoded_lens = decode(lm_model, start_tokens, start_tokens_lens, max_generated_len=20, top_k=k)"
      ]
    },
    {
      "cell_type": "code",
      "execution_count": 43,
      "metadata": {
        "colab": {
          "base_uri": "https://localhost:8080/"
        },
        "id": "DuZBNYi6ve-l",
        "outputId": "5233dd2f-1e32-4d35-ff1c-b62b2d99f900"
      },
      "outputs": [
        {
          "name": "stdout",
          "output_type": "stream",
          "text": [
            "<sos> movie really good story one liners best actors ever made acting good script good plot twists <unk> <eos>\n",
            "<sos> <unk> favorite movie ever seen im sorry watching movie first came minutes see one thing watched movie one <eos>\n",
            "<sos> <unk> best movie ever made movie good actors great actors actresses main characters <unk> <unk> story line <eos>\n",
            "<sos> <unk> worst movie ever seen bad really bad good actors really nothing else movie nothing else like <unk> <eos>\n"
          ]
        }
      ],
      "source": [
        "for text_idx in range(start_tokens.shape[1]):\n",
        "    decoded_text_tokens = decoded_tokens[:decoded_lens[text_idx], text_idx]\n",
        "    tokens = start_tokens[:start_tokens_lens[text_idx], text_idx].tolist() + decoded_text_tokens.tolist()\n",
        "    words = np.array(lm_model.vocab.get_itos())[np.array(tokens)]\n",
        "    print(' '.join(words))"
      ]
    },
    {
      "cell_type": "markdown",
      "metadata": {
        "id": "Y8Im20SfvhH3"
      },
      "source": [
        "`k == None`"
      ]
    },
    {
      "cell_type": "code",
      "execution_count": 44,
      "metadata": {
        "id": "iNW1JYyPvj0I"
      },
      "outputs": [],
      "source": [
        "k = None\n",
        "decoded_tokens, decoded_lens = decode(lm_model, start_tokens, start_tokens_lens, max_generated_len=20, top_k=k)"
      ]
    },
    {
      "cell_type": "code",
      "execution_count": 45,
      "metadata": {
        "colab": {
          "base_uri": "https://localhost:8080/"
        },
        "id": "QEiUeMk3vmZF",
        "outputId": "f3676e8a-2825-431f-cc0e-4411934d9989"
      },
      "outputs": [
        {
          "name": "stdout",
          "output_type": "stream",
          "text": [
            "<sos> movie really good movie <unk> <unk> <unk> <unk> <unk> <unk> <unk> <unk> <unk> <unk> <unk> <unk> <unk> <unk> <unk> <unk>\n",
            "<sos> <unk> favorite movie ever seen life <unk> <unk> <unk> <unk> <unk> <unk> <unk> <unk> <unk> <unk> <unk> <unk> <unk> <unk> <unk> <unk> <unk>\n",
            "<sos> <unk> best movie ever seen life <unk> <unk> <unk> <unk> <unk> <unk> <unk> <unk> <unk> <unk> <unk> <unk> <unk> <unk> <unk> <unk> <unk>\n",
            "<sos> <unk> worst movie ever seen life <unk> <unk> <unk> <unk> <unk> <unk> <unk> <unk> <unk> <unk> <unk> <unk> <unk> <unk> <unk> <unk> <unk>\n"
          ]
        }
      ],
      "source": [
        "for text_idx in range(start_tokens.shape[1]):\n",
        "    decoded_text_tokens = decoded_tokens[:decoded_lens[text_idx], text_idx]\n",
        "    tokens = start_tokens[:start_tokens_lens[text_idx], text_idx].tolist() + decoded_text_tokens.tolist()\n",
        "    words = np.array(lm_model.vocab.get_itos())[np.array(tokens)]\n",
        "    print(' '.join(words))"
      ]
    },
    {
      "cell_type": "markdown",
      "metadata": {
        "id": "RybO4zfXPnH5"
      },
      "source": [
        "**Вывод:** Чем меньше k, тем больше токенов '<unk>' мы генерируем. Так получается, потому что этот токен самый частый в данных. Поэтому нужно брать k побольше"
      ]
    },
    {
      "cell_type": "markdown",
      "metadata": {
        "id": "-mdazCznPnH5"
      },
      "source": [
        "## `Beam Search (2 балла)`"
      ]
    },
    {
      "cell_type": "markdown",
      "metadata": {
        "id": "hbg69eaQPnH5"
      },
      "source": [
        "Рассмотрим более продвинутый алгоритм для декодирования. Реализуйте алгоритм Beam Search."
      ]
    },
    {
      "cell_type": "markdown",
      "metadata": {
        "id": "4dU-ShhqPnH5"
      },
      "source": [
        "Несколько замечаний по имплементации:\n",
        "\n",
        "1. При больших размерах `beam_size` число гипотез ($B \\times \\text{beam\\_size}$) на очередном шаге может быть слишком большим. Поэтому может потребоваться разбить все гипотезы на отдельные батчи и делать forward-pass в несколько итераций. Используйте [`torch.split`](https://pytorch.org/docs/stable/generated/torch.split.html)\n",
        "2. Для выбора лучших гипотез используйте [`torch.topk`](https://pytorch.org/docs/stable/generated/torch.topk.html). Обратите внимание на индексы, которые возвращает эта функция (может пригодиться метод [`torch.remainder`](https://pytorch.org/docs/stable/generated/torch.remainder.html))\n",
        "3. Можно отслеживать, какие элементы в батче (или какие гипотезы) закончили генерацию. Делая forward-pass только для незавершённых гипотез, можно ускорить декодинг, однако, это усложнит реализацию"
      ]
    },
    {
      "cell_type": "code",
      "execution_count": 35,
      "metadata": {
        "id": "_Zi5AZbWPnH6"
      },
      "outputs": [],
      "source": [
        "@torch.no_grad()\n",
        "def decode_beam_search(model, start_tokens, start_tokens_lens, max_generated_len=20, beam_size=5):\n",
        "    \"\"\"\n",
        "    :param RNNLM model: Model\n",
        "    :param torch.Tensor start_tokens: Batch of seed tokens. Shape: [T, B]\n",
        "    :param torch.Tensor start_tokens_lens: Length of each sequence in batch. Shape: [B]\n",
        "    :param int max_generated_len: Maximum length of generated samples\n",
        "    :param int beam_size: Size of beam\n",
        "    :return Tuple[torch.Tensor, torch.Tensor, torch.Tensor]. \n",
        "        Newly predicted tokens, probabilities for each hypotheses and lengths of generated parts\n",
        "        Shape [T*, B, beam_size], [B, beam_size], [B, beam_size]\n",
        "    \"\"\"\n",
        "    \n",
        "    # 1. Initialize beams and hypotheses probabilities for each element in the batch\n",
        "    # 2. While all sequences do not end with <eos> and their length less than max_generated_len\n",
        "    #    1. Perform forward pass and obtain probabilities for all extensions\n",
        "    #    2. Compute probabilities for all hypotheses\n",
        "    #    3. Select top-beam_size hypotheses for each element in the batch\n",
        "    #    4. Take tokens that correspond to the chosen hypotheses\n",
        "    #    5. Concat new tokens to existing prefixes\n",
        "\n",
        "    embedding = model.word_embeddings(start_tokens)\n",
        "    \n",
        "    all_h, all_c = [], []\n",
        "    h = embedding.new_zeros([model.rnn.num_layers, start_tokens.shape[1], model.hidden_dim])\n",
        "    c = embedding.new_zeros([model.rnn.num_layers, start_tokens.shape[1], model.hidden_dim])\n",
        "    for time_step in range(start_tokens.shape[0]):\n",
        "        output, (h_t, c_t) = model.rnn(embedding[:time_step + 1], (h, c))\n",
        "        all_h.append(h_t)\n",
        "        all_c.append(c_t)\n",
        "\n",
        "    all_h = torch.stack(all_h, dim=1)\n",
        "    all_c = torch.stack(all_c, dim=1)\n",
        "    h = all_h[:, start_tokens_lens - 1, torch.arange(start_tokens_lens.shape[0])]\n",
        "    c = all_c[:, start_tokens_lens - 1, torch.arange(start_tokens_lens.shape[0])]\n",
        "    beam_h = torch.stack([h.clone() for i in range(beam_size)])  # (beam_size, N, hidden_size)\n",
        "    beam_c = torch.stack([c.clone() for i in range(beam_size)])  # (beam_size, N, hidden_size)\n",
        "\n",
        "    hypotheses = None  # tensor with size (N, n_beams, T) (T is current t)\n",
        "    probs = None  # tensor with size: (N, n_beams)\n",
        "    #init\n",
        "    logits = model.output(h[-1])\n",
        "    logits = torch.nn.functional.softmax(logits, dim=-1)\n",
        "    topk = torch.topk(logits, beam_size)\n",
        "    hypotheses = topk[1][..., None]\n",
        "    probs = topk[0]\n",
        "    \n",
        "    for i in range(beam_size):\n",
        "        h, c = beam_h[i], beam_c[i]\n",
        "        embeddings = model.word_embeddings(hypotheses[:, i, -1])\n",
        "        output, (h, c) = model.rnn(embeddings[None, ...], (h, c))\n",
        "        beam_h[i] = h \n",
        "        beam_c[i] = c\n",
        "\n",
        "    decoded_lens = start_tokens_lens.new_zeros((len(start_tokens_lens), beam_size), dtype=torch.long)\n",
        "    is_finished_decoding = start_tokens_lens.new_zeros((len(start_tokens_lens), beam_size), dtype=torch.bool)\n",
        "\n",
        "    while not torch.all(is_finished_decoding) and torch.max(decoded_lens) < max_generated_len:\n",
        "        full_logits = []\n",
        "        for i in range(beam_size):\n",
        "            logits = model.output(beam_h[i])\n",
        "            logits = torch.nn.functional.softmax(logits, dim=-1)\n",
        "            indices_end = torch.where(~is_finished_decoding[:, i])\n",
        "            logits = logits * probs[:, i]  # multiply on previous probabilities\n",
        "            logits[indices_end] = 0\n",
        "            logits[indices_end, 0] = probs[indices_end, i]\n",
        "            full_logits.append(logits)\n",
        "        len_vocab = full_logits[0].shape[-1]\n",
        "        full_logits = torch.stack(full_logits, dim=-1)\n",
        "        topk = torch.topk(full_logits, beam_size)\n",
        "        permute_indices = topk[1] // len_vocab  # size: (N, beam_size)\n",
        "\n",
        "        beam_h = beam_h[permute_indices]\n",
        "        beam_c = beam_c[permute_indices]\n",
        "        hypotheses = beam_c[:, permute_indices]\n",
        "        probs = topk[0]\n",
        "        new_tokens = torch.remainder(topk[1], len_vocab)\n",
        "        hypotheses = torch.cat((hypotheses, new_tokens[..., None]), dim=-1)\n",
        "\n",
        "        for i in range(beam_size):\n",
        "            h, c = beam_h[i], beam_c[i]\n",
        "            embeddings = model.word_embeddings(new_tokens[:, i])\n",
        "            output, (h, c) = model.rnn(embeddings[None, ...], (h, c))\n",
        "            beam_h[i] = h \n",
        "            beam_c[i] = c\n",
        "\n",
        "        decoded_lens += (~is_finished_decoding)\n",
        "        is_finished_decoding |= new_tokens == torch.tensor(model.vocab.lookup_indices(['<eos>'])[0])\n",
        "    \n",
        "    return torch.permute(hypotheses, (2, 0 ,1)), probs, decoded_lens"
      ]
    },
    {
      "cell_type": "markdown",
      "metadata": {
        "id": "Tup2xGxiPnH6"
      },
      "source": [
        "Попробуйте выполнить декодинг для разных `beam_size`. Убедитесь, что при `beam_search=1` семплирование совпадает с top-1 (greedy decoding) подходом. \n",
        "\n",
        "Сравните результаты Beam Search с top-k семплированием и жадным декодированием. Опишите ваши наблюдения."
      ]
    },
    {
      "cell_type": "code",
      "execution_count": null,
      "metadata": {
        "id": "gRoR8oFDPnH6"
      },
      "outputs": [],
      "source": []
    }
  ],
  "metadata": {
    "accelerator": "GPU",
    "colab": {
      "provenance": []
    },
    "gpuClass": "standard",
    "kernelspec": {
      "display_name": "Python 3",
      "language": "python",
      "name": "python3"
    },
    "language_info": {
      "codemirror_mode": {
        "name": "ipython",
        "version": 3
      },
      "file_extension": ".py",
      "mimetype": "text/x-python",
      "name": "python",
      "nbconvert_exporter": "python",
      "pygments_lexer": "ipython3",
      "version": "3.10.8"
    },
    "toc": {
      "base_numbering": 1,
      "nav_menu": {},
      "number_sections": false,
      "sideBar": true,
      "skip_h1_title": false,
      "title_cell": "Table of Contents",
      "title_sidebar": "Contents",
      "toc_cell": false,
      "toc_position": {
        "height": "804px",
        "left": "148px",
        "top": "50px",
        "width": "555.391px"
      },
      "toc_section_display": true,
      "toc_window_display": true
    },
    "varInspector": {
      "cols": {
        "lenName": 16,
        "lenType": 16,
        "lenVar": 40
      },
      "kernels_config": {
        "python": {
          "delete_cmd_postfix": "",
          "delete_cmd_prefix": "del ",
          "library": "var_list.py",
          "varRefreshCmd": "print(var_dic_list())"
        },
        "r": {
          "delete_cmd_postfix": ") ",
          "delete_cmd_prefix": "rm(",
          "library": "var_list.r",
          "varRefreshCmd": "cat(var_dic_list()) "
        }
      },
      "position": {
        "height": "313px",
        "left": "926px",
        "right": "27px",
        "top": "120px",
        "width": "343px"
      },
      "types_to_exclude": [
        "module",
        "function",
        "builtin_function_or_method",
        "instance",
        "_Feature"
      ],
      "window_display": false
    }
  },
  "nbformat": 4,
  "nbformat_minor": 0
}
